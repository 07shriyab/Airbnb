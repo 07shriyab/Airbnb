{
 "cells": [
  {
   "cell_type": "markdown",
   "id": "ce7d4b71-8698-4834-8c2b-90686b71d39a",
   "metadata": {},
   "source": [
    "# DS105 Airbnb Project"
   ]
  },
  {
   "cell_type": "markdown",
   "id": "f05ecc6e-562b-4f98-9d8b-9d0eb1bfa2e0",
   "metadata": {
    "tags": []
   },
   "source": [
    "## Contents:\n",
    "1. **[Reading Data](#Reading)**\n",
    "2. **[Cleaning Data](#Cleaning)**\n",
    "3. **[Data Exploration](#Exploration)**\n",
    "    1. **[Distribution of Median Prices](#Price_Distribution)**\n",
    "    2. **[Heat Map](#Heatmap)**\n",
    "    3. **[Superhost](#Superhost)**\n",
    "    4. **[Verified Identity](#Verified)**\n",
    "    5. **[Instantly Bookable](#Instant_Book)**\n",
    "    6. **[Total Number of Listings Per Host](#Total_Listings)**\n",
    "    7. **[Number of Guests Accommodated](#Accommodates)**\n",
    "    8. **[Neighbourhood](#Neighbourhood)**\n",
    "    9. **[Property Type](#Property)**\n",
    "    10. **[Room Type](#Room)**\n",
    "    11. **[Beds and Bedrooms](#Beds)**\n",
    "    12. **[Bathrooms](#Bathrooms)**\n",
    "    13. **[Availability 365](#Availability)**\n",
    "    14. **[Minimum Nights](#Minimum)**"
   ]
  },
  {
   "cell_type": "markdown",
   "id": "bf026d14-65e0-4d8a-8190-1f96af02ae07",
   "metadata": {},
   "source": [
    "<a id=\"Reading\"></a>\n",
    "## Reading Data"
   ]
  },
  {
   "cell_type": "markdown",
   "id": "d10a445b-371a-4c8b-9639-f7bc31dc1795",
   "metadata": {},
   "source": [
    "Use `pandas` to read excel files:"
   ]
  },
  {
   "cell_type": "code",
   "execution_count": 1,
   "id": "2d5e03cd-cffd-410e-9724-e089214896dd",
   "metadata": {},
   "outputs": [],
   "source": [
    "import numpy as np\n",
    "import pandas as pd"
   ]
  },
  {
   "cell_type": "code",
   "execution_count": 2,
   "id": "31b5d551-aa6f-4836-b106-0a5522425b44",
   "metadata": {},
   "outputs": [],
   "source": [
    "cols = [\n",
    "    \"id\",\n",
    "    \"host_id\",\n",
    "    \"host_is_superhost\",\n",
    "    \"host_identity_verified\",\n",
    "    \"host_total_listings_count\",\n",
    "    \"neighbourhood_cleansed\",\n",
    "    \"instant_bookable\",\n",
    "    \"property_type\",\n",
    "    \"room_type\",\n",
    "    \"accommodates\",\n",
    "    \"bathrooms_text\",\n",
    "    \"bedrooms\",\n",
    "    \"beds\",\n",
    "    \"amenities\",\n",
    "    \"price\",\n",
    "    \"minimum_nights\",\n",
    "    \"availability_365\",\n",
    "    \"number_of_reviews\",\n",
    "    \"review_scores_rating\",\n",
    "    \"review_scores_location\",\n",
    "    \"review_scores_cleanliness\",\n",
    "    \"review_scores_checkin\",\n",
    "    \"review_scores_communication\",\n",
    "    \"review_scores_accuracy\"\n",
    "]\n",
    "\n",
    "df = pd.read_csv(\"listings 2.csv\", usecols=cols)"
   ]
  },
  {
   "cell_type": "code",
   "execution_count": 3,
   "id": "eccf877e-1b4a-4901-a2fb-b1394a04d06a",
   "metadata": {},
   "outputs": [],
   "source": [
    "pd.options.mode.chained_assignment = None"
   ]
  },
  {
   "cell_type": "code",
   "execution_count": 4,
   "id": "616ddf04-e639-490b-844a-91849f880098",
   "metadata": {},
   "outputs": [
    {
     "data": {
      "text/html": [
       "<div>\n",
       "<style scoped>\n",
       "    .dataframe tbody tr th:only-of-type {\n",
       "        vertical-align: middle;\n",
       "    }\n",
       "\n",
       "    .dataframe tbody tr th {\n",
       "        vertical-align: top;\n",
       "    }\n",
       "\n",
       "    .dataframe thead th {\n",
       "        text-align: right;\n",
       "    }\n",
       "</style>\n",
       "<table border=\"1\" class=\"dataframe\">\n",
       "  <thead>\n",
       "    <tr style=\"text-align: right;\">\n",
       "      <th></th>\n",
       "      <th>id</th>\n",
       "      <th>host_id</th>\n",
       "      <th>host_is_superhost</th>\n",
       "      <th>host_total_listings_count</th>\n",
       "      <th>host_identity_verified</th>\n",
       "      <th>neighbourhood_cleansed</th>\n",
       "      <th>property_type</th>\n",
       "      <th>room_type</th>\n",
       "      <th>accommodates</th>\n",
       "      <th>bathrooms_text</th>\n",
       "      <th>...</th>\n",
       "      <th>minimum_nights</th>\n",
       "      <th>availability_365</th>\n",
       "      <th>number_of_reviews</th>\n",
       "      <th>review_scores_rating</th>\n",
       "      <th>review_scores_accuracy</th>\n",
       "      <th>review_scores_cleanliness</th>\n",
       "      <th>review_scores_checkin</th>\n",
       "      <th>review_scores_communication</th>\n",
       "      <th>review_scores_location</th>\n",
       "      <th>instant_bookable</th>\n",
       "    </tr>\n",
       "  </thead>\n",
       "  <tbody>\n",
       "    <tr>\n",
       "      <th>0</th>\n",
       "      <td>13913</td>\n",
       "      <td>54730</td>\n",
       "      <td>f</td>\n",
       "      <td>3.0</td>\n",
       "      <td>t</td>\n",
       "      <td>Islington</td>\n",
       "      <td>Private room in rental unit</td>\n",
       "      <td>Private room</td>\n",
       "      <td>2</td>\n",
       "      <td>1 shared bath</td>\n",
       "      <td>...</td>\n",
       "      <td>1</td>\n",
       "      <td>361</td>\n",
       "      <td>22</td>\n",
       "      <td>4.86</td>\n",
       "      <td>4.80</td>\n",
       "      <td>4.85</td>\n",
       "      <td>4.80</td>\n",
       "      <td>4.90</td>\n",
       "      <td>4.65</td>\n",
       "      <td>f</td>\n",
       "    </tr>\n",
       "    <tr>\n",
       "      <th>1</th>\n",
       "      <td>15400</td>\n",
       "      <td>60302</td>\n",
       "      <td>f</td>\n",
       "      <td>1.0</td>\n",
       "      <td>t</td>\n",
       "      <td>Kensington and Chelsea</td>\n",
       "      <td>Entire rental unit</td>\n",
       "      <td>Entire home/apt</td>\n",
       "      <td>2</td>\n",
       "      <td>1 bath</td>\n",
       "      <td>...</td>\n",
       "      <td>3</td>\n",
       "      <td>4</td>\n",
       "      <td>89</td>\n",
       "      <td>4.79</td>\n",
       "      <td>4.84</td>\n",
       "      <td>4.88</td>\n",
       "      <td>4.87</td>\n",
       "      <td>4.82</td>\n",
       "      <td>4.93</td>\n",
       "      <td>f</td>\n",
       "    </tr>\n",
       "    <tr>\n",
       "      <th>2</th>\n",
       "      <td>17402</td>\n",
       "      <td>67564</td>\n",
       "      <td>f</td>\n",
       "      <td>18.0</td>\n",
       "      <td>t</td>\n",
       "      <td>Westminster</td>\n",
       "      <td>Entire rental unit</td>\n",
       "      <td>Entire home/apt</td>\n",
       "      <td>6</td>\n",
       "      <td>2 baths</td>\n",
       "      <td>...</td>\n",
       "      <td>4</td>\n",
       "      <td>295</td>\n",
       "      <td>43</td>\n",
       "      <td>4.69</td>\n",
       "      <td>4.80</td>\n",
       "      <td>4.68</td>\n",
       "      <td>4.66</td>\n",
       "      <td>4.66</td>\n",
       "      <td>4.85</td>\n",
       "      <td>f</td>\n",
       "    </tr>\n",
       "    <tr>\n",
       "      <th>3</th>\n",
       "      <td>17506</td>\n",
       "      <td>67915</td>\n",
       "      <td>f</td>\n",
       "      <td>3.0</td>\n",
       "      <td>t</td>\n",
       "      <td>Hammersmith and Fulham</td>\n",
       "      <td>Private room in townhouse</td>\n",
       "      <td>Private room</td>\n",
       "      <td>2</td>\n",
       "      <td>1 private bath</td>\n",
       "      <td>...</td>\n",
       "      <td>3</td>\n",
       "      <td>364</td>\n",
       "      <td>0</td>\n",
       "      <td>NaN</td>\n",
       "      <td>NaN</td>\n",
       "      <td>NaN</td>\n",
       "      <td>NaN</td>\n",
       "      <td>NaN</td>\n",
       "      <td>NaN</td>\n",
       "      <td>f</td>\n",
       "    </tr>\n",
       "    <tr>\n",
       "      <th>4</th>\n",
       "      <td>25123</td>\n",
       "      <td>103583</td>\n",
       "      <td>f</td>\n",
       "      <td>3.0</td>\n",
       "      <td>t</td>\n",
       "      <td>Barnet</td>\n",
       "      <td>Private room in residential home</td>\n",
       "      <td>Private room</td>\n",
       "      <td>2</td>\n",
       "      <td>1.5 shared baths</td>\n",
       "      <td>...</td>\n",
       "      <td>10</td>\n",
       "      <td>0</td>\n",
       "      <td>129</td>\n",
       "      <td>4.78</td>\n",
       "      <td>4.70</td>\n",
       "      <td>4.94</td>\n",
       "      <td>4.91</td>\n",
       "      <td>4.89</td>\n",
       "      <td>4.45</td>\n",
       "      <td>t</td>\n",
       "    </tr>\n",
       "    <tr>\n",
       "      <th>...</th>\n",
       "      <td>...</td>\n",
       "      <td>...</td>\n",
       "      <td>...</td>\n",
       "      <td>...</td>\n",
       "      <td>...</td>\n",
       "      <td>...</td>\n",
       "      <td>...</td>\n",
       "      <td>...</td>\n",
       "      <td>...</td>\n",
       "      <td>...</td>\n",
       "      <td>...</td>\n",
       "      <td>...</td>\n",
       "      <td>...</td>\n",
       "      <td>...</td>\n",
       "      <td>...</td>\n",
       "      <td>...</td>\n",
       "      <td>...</td>\n",
       "      <td>...</td>\n",
       "      <td>...</td>\n",
       "      <td>...</td>\n",
       "      <td>...</td>\n",
       "    </tr>\n",
       "    <tr>\n",
       "      <th>66636</th>\n",
       "      <td>53709893</td>\n",
       "      <td>96150452</td>\n",
       "      <td>t</td>\n",
       "      <td>13.0</td>\n",
       "      <td>t</td>\n",
       "      <td>Croydon</td>\n",
       "      <td>Entire condominium (condo)</td>\n",
       "      <td>Entire home/apt</td>\n",
       "      <td>6</td>\n",
       "      <td>1 bath</td>\n",
       "      <td>...</td>\n",
       "      <td>2</td>\n",
       "      <td>253</td>\n",
       "      <td>0</td>\n",
       "      <td>NaN</td>\n",
       "      <td>NaN</td>\n",
       "      <td>NaN</td>\n",
       "      <td>NaN</td>\n",
       "      <td>NaN</td>\n",
       "      <td>NaN</td>\n",
       "      <td>f</td>\n",
       "    </tr>\n",
       "    <tr>\n",
       "      <th>66637</th>\n",
       "      <td>53710986</td>\n",
       "      <td>125392965</td>\n",
       "      <td>f</td>\n",
       "      <td>9.0</td>\n",
       "      <td>t</td>\n",
       "      <td>Ealing</td>\n",
       "      <td>Entire condominium (condo)</td>\n",
       "      <td>Entire home/apt</td>\n",
       "      <td>8</td>\n",
       "      <td>2.5 baths</td>\n",
       "      <td>...</td>\n",
       "      <td>3</td>\n",
       "      <td>260</td>\n",
       "      <td>0</td>\n",
       "      <td>NaN</td>\n",
       "      <td>NaN</td>\n",
       "      <td>NaN</td>\n",
       "      <td>NaN</td>\n",
       "      <td>NaN</td>\n",
       "      <td>NaN</td>\n",
       "      <td>t</td>\n",
       "    </tr>\n",
       "    <tr>\n",
       "      <th>66638</th>\n",
       "      <td>53711668</td>\n",
       "      <td>285590054</td>\n",
       "      <td>t</td>\n",
       "      <td>5.0</td>\n",
       "      <td>t</td>\n",
       "      <td>Haringey</td>\n",
       "      <td>Entire bungalow</td>\n",
       "      <td>Entire home/apt</td>\n",
       "      <td>4</td>\n",
       "      <td>2 baths</td>\n",
       "      <td>...</td>\n",
       "      <td>5</td>\n",
       "      <td>73</td>\n",
       "      <td>0</td>\n",
       "      <td>NaN</td>\n",
       "      <td>NaN</td>\n",
       "      <td>NaN</td>\n",
       "      <td>NaN</td>\n",
       "      <td>NaN</td>\n",
       "      <td>NaN</td>\n",
       "      <td>t</td>\n",
       "    </tr>\n",
       "    <tr>\n",
       "      <th>66639</th>\n",
       "      <td>53712786</td>\n",
       "      <td>379423186</td>\n",
       "      <td>f</td>\n",
       "      <td>4.0</td>\n",
       "      <td>t</td>\n",
       "      <td>Kensington and Chelsea</td>\n",
       "      <td>Entire rental unit</td>\n",
       "      <td>Entire home/apt</td>\n",
       "      <td>4</td>\n",
       "      <td>2.5 baths</td>\n",
       "      <td>...</td>\n",
       "      <td>7</td>\n",
       "      <td>365</td>\n",
       "      <td>0</td>\n",
       "      <td>NaN</td>\n",
       "      <td>NaN</td>\n",
       "      <td>NaN</td>\n",
       "      <td>NaN</td>\n",
       "      <td>NaN</td>\n",
       "      <td>NaN</td>\n",
       "      <td>t</td>\n",
       "    </tr>\n",
       "    <tr>\n",
       "      <th>66640</th>\n",
       "      <td>53713050</td>\n",
       "      <td>50095820</td>\n",
       "      <td>f</td>\n",
       "      <td>5.0</td>\n",
       "      <td>t</td>\n",
       "      <td>Southwark</td>\n",
       "      <td>Entire condominium (condo)</td>\n",
       "      <td>Entire home/apt</td>\n",
       "      <td>4</td>\n",
       "      <td>1 bath</td>\n",
       "      <td>...</td>\n",
       "      <td>2</td>\n",
       "      <td>85</td>\n",
       "      <td>0</td>\n",
       "      <td>NaN</td>\n",
       "      <td>NaN</td>\n",
       "      <td>NaN</td>\n",
       "      <td>NaN</td>\n",
       "      <td>NaN</td>\n",
       "      <td>NaN</td>\n",
       "      <td>f</td>\n",
       "    </tr>\n",
       "  </tbody>\n",
       "</table>\n",
       "<p>66641 rows × 24 columns</p>\n",
       "</div>"
      ],
      "text/plain": [
       "             id    host_id host_is_superhost  host_total_listings_count  \\\n",
       "0         13913      54730                 f                        3.0   \n",
       "1         15400      60302                 f                        1.0   \n",
       "2         17402      67564                 f                       18.0   \n",
       "3         17506      67915                 f                        3.0   \n",
       "4         25123     103583                 f                        3.0   \n",
       "...         ...        ...               ...                        ...   \n",
       "66636  53709893   96150452                 t                       13.0   \n",
       "66637  53710986  125392965                 f                        9.0   \n",
       "66638  53711668  285590054                 t                        5.0   \n",
       "66639  53712786  379423186                 f                        4.0   \n",
       "66640  53713050   50095820                 f                        5.0   \n",
       "\n",
       "      host_identity_verified  neighbourhood_cleansed  \\\n",
       "0                          t               Islington   \n",
       "1                          t  Kensington and Chelsea   \n",
       "2                          t             Westminster   \n",
       "3                          t  Hammersmith and Fulham   \n",
       "4                          t                  Barnet   \n",
       "...                      ...                     ...   \n",
       "66636                      t                 Croydon   \n",
       "66637                      t                  Ealing   \n",
       "66638                      t                Haringey   \n",
       "66639                      t  Kensington and Chelsea   \n",
       "66640                      t               Southwark   \n",
       "\n",
       "                          property_type        room_type  accommodates  \\\n",
       "0           Private room in rental unit     Private room             2   \n",
       "1                    Entire rental unit  Entire home/apt             2   \n",
       "2                    Entire rental unit  Entire home/apt             6   \n",
       "3             Private room in townhouse     Private room             2   \n",
       "4      Private room in residential home     Private room             2   \n",
       "...                                 ...              ...           ...   \n",
       "66636        Entire condominium (condo)  Entire home/apt             6   \n",
       "66637        Entire condominium (condo)  Entire home/apt             8   \n",
       "66638                   Entire bungalow  Entire home/apt             4   \n",
       "66639                Entire rental unit  Entire home/apt             4   \n",
       "66640        Entire condominium (condo)  Entire home/apt             4   \n",
       "\n",
       "         bathrooms_text  ...  minimum_nights  availability_365  \\\n",
       "0         1 shared bath  ...               1               361   \n",
       "1                1 bath  ...               3                 4   \n",
       "2               2 baths  ...               4               295   \n",
       "3        1 private bath  ...               3               364   \n",
       "4      1.5 shared baths  ...              10                 0   \n",
       "...                 ...  ...             ...               ...   \n",
       "66636            1 bath  ...               2               253   \n",
       "66637         2.5 baths  ...               3               260   \n",
       "66638           2 baths  ...               5                73   \n",
       "66639         2.5 baths  ...               7               365   \n",
       "66640            1 bath  ...               2                85   \n",
       "\n",
       "      number_of_reviews review_scores_rating  review_scores_accuracy  \\\n",
       "0                    22                 4.86                    4.80   \n",
       "1                    89                 4.79                    4.84   \n",
       "2                    43                 4.69                    4.80   \n",
       "3                     0                  NaN                     NaN   \n",
       "4                   129                 4.78                    4.70   \n",
       "...                 ...                  ...                     ...   \n",
       "66636                 0                  NaN                     NaN   \n",
       "66637                 0                  NaN                     NaN   \n",
       "66638                 0                  NaN                     NaN   \n",
       "66639                 0                  NaN                     NaN   \n",
       "66640                 0                  NaN                     NaN   \n",
       "\n",
       "       review_scores_cleanliness  review_scores_checkin  \\\n",
       "0                           4.85                   4.80   \n",
       "1                           4.88                   4.87   \n",
       "2                           4.68                   4.66   \n",
       "3                            NaN                    NaN   \n",
       "4                           4.94                   4.91   \n",
       "...                          ...                    ...   \n",
       "66636                        NaN                    NaN   \n",
       "66637                        NaN                    NaN   \n",
       "66638                        NaN                    NaN   \n",
       "66639                        NaN                    NaN   \n",
       "66640                        NaN                    NaN   \n",
       "\n",
       "       review_scores_communication  review_scores_location  instant_bookable  \n",
       "0                             4.90                    4.65                 f  \n",
       "1                             4.82                    4.93                 f  \n",
       "2                             4.66                    4.85                 f  \n",
       "3                              NaN                     NaN                 f  \n",
       "4                             4.89                    4.45                 t  \n",
       "...                            ...                     ...               ...  \n",
       "66636                          NaN                     NaN                 f  \n",
       "66637                          NaN                     NaN                 t  \n",
       "66638                          NaN                     NaN                 t  \n",
       "66639                          NaN                     NaN                 t  \n",
       "66640                          NaN                     NaN                 f  \n",
       "\n",
       "[66641 rows x 24 columns]"
      ]
     },
     "execution_count": 4,
     "metadata": {},
     "output_type": "execute_result"
    }
   ],
   "source": [
    "df"
   ]
  },
  {
   "cell_type": "markdown",
   "id": "9381d3cf-7ecb-4028-ab0e-f77669f65ced",
   "metadata": {},
   "source": [
    "<a id=\"Cleaning\"></a>\n",
    "## Cleaning Data"
   ]
  },
  {
   "cell_type": "markdown",
   "id": "54022210-4899-4932-93be-92dcadcf242e",
   "metadata": {},
   "source": [
    "Set `id` to index"
   ]
  },
  {
   "cell_type": "code",
   "execution_count": 5,
   "id": "e7ec696e-e773-4f45-831c-83b09c092a19",
   "metadata": {},
   "outputs": [],
   "source": [
    "df = df.set_index(\"id\")"
   ]
  },
  {
   "cell_type": "markdown",
   "id": "75900523-740f-40b5-9ea0-fd92da710dcc",
   "metadata": {},
   "source": [
    "Determine number of missing entries in each column"
   ]
  },
  {
   "cell_type": "code",
   "execution_count": 6,
   "id": "be4c8a09-7317-47f2-900a-57b158b18bed",
   "metadata": {},
   "outputs": [
    {
     "data": {
      "text/plain": [
       "host_id                            0\n",
       "host_is_superhost                 59\n",
       "host_total_listings_count         59\n",
       "host_identity_verified            59\n",
       "neighbourhood_cleansed             0\n",
       "property_type                      0\n",
       "room_type                          0\n",
       "accommodates                       0\n",
       "bathrooms_text                   244\n",
       "bedrooms                        4017\n",
       "beds                            3646\n",
       "amenities                          0\n",
       "price                              0\n",
       "minimum_nights                     0\n",
       "availability_365                   0\n",
       "number_of_reviews                  0\n",
       "review_scores_rating           18559\n",
       "review_scores_accuracy         19877\n",
       "review_scores_cleanliness      19866\n",
       "review_scores_checkin          19916\n",
       "review_scores_communication    19880\n",
       "review_scores_location         19917\n",
       "instant_bookable                   0\n",
       "dtype: int64"
      ]
     },
     "execution_count": 6,
     "metadata": {},
     "output_type": "execute_result"
    }
   ],
   "source": [
    "df.isna().sum()"
   ]
  },
  {
   "cell_type": "markdown",
   "id": "54c11c5a-0646-42e9-81bd-c182e6f3d44a",
   "metadata": {},
   "source": [
    "Remove null values"
   ]
  },
  {
   "cell_type": "code",
   "execution_count": 7,
   "id": "05590490-e21e-4f7c-8f58-297820b46963",
   "metadata": {
    "tags": []
   },
   "outputs": [
    {
     "data": {
      "text/html": [
       "<div>\n",
       "<style scoped>\n",
       "    .dataframe tbody tr th:only-of-type {\n",
       "        vertical-align: middle;\n",
       "    }\n",
       "\n",
       "    .dataframe tbody tr th {\n",
       "        vertical-align: top;\n",
       "    }\n",
       "\n",
       "    .dataframe thead th {\n",
       "        text-align: right;\n",
       "    }\n",
       "</style>\n",
       "<table border=\"1\" class=\"dataframe\">\n",
       "  <thead>\n",
       "    <tr style=\"text-align: right;\">\n",
       "      <th></th>\n",
       "      <th>host_id</th>\n",
       "      <th>host_is_superhost</th>\n",
       "      <th>host_total_listings_count</th>\n",
       "      <th>host_identity_verified</th>\n",
       "      <th>neighbourhood_cleansed</th>\n",
       "      <th>property_type</th>\n",
       "      <th>room_type</th>\n",
       "      <th>accommodates</th>\n",
       "      <th>bathrooms_text</th>\n",
       "      <th>bedrooms</th>\n",
       "      <th>...</th>\n",
       "      <th>minimum_nights</th>\n",
       "      <th>availability_365</th>\n",
       "      <th>number_of_reviews</th>\n",
       "      <th>review_scores_rating</th>\n",
       "      <th>review_scores_accuracy</th>\n",
       "      <th>review_scores_cleanliness</th>\n",
       "      <th>review_scores_checkin</th>\n",
       "      <th>review_scores_communication</th>\n",
       "      <th>review_scores_location</th>\n",
       "      <th>instant_bookable</th>\n",
       "    </tr>\n",
       "    <tr>\n",
       "      <th>id</th>\n",
       "      <th></th>\n",
       "      <th></th>\n",
       "      <th></th>\n",
       "      <th></th>\n",
       "      <th></th>\n",
       "      <th></th>\n",
       "      <th></th>\n",
       "      <th></th>\n",
       "      <th></th>\n",
       "      <th></th>\n",
       "      <th></th>\n",
       "      <th></th>\n",
       "      <th></th>\n",
       "      <th></th>\n",
       "      <th></th>\n",
       "      <th></th>\n",
       "      <th></th>\n",
       "      <th></th>\n",
       "      <th></th>\n",
       "      <th></th>\n",
       "      <th></th>\n",
       "    </tr>\n",
       "  </thead>\n",
       "  <tbody>\n",
       "    <tr>\n",
       "      <th>15400</th>\n",
       "      <td>60302</td>\n",
       "      <td>f</td>\n",
       "      <td>1.0</td>\n",
       "      <td>t</td>\n",
       "      <td>Kensington and Chelsea</td>\n",
       "      <td>Entire rental unit</td>\n",
       "      <td>Entire home/apt</td>\n",
       "      <td>2</td>\n",
       "      <td>1 bath</td>\n",
       "      <td>1.0</td>\n",
       "      <td>...</td>\n",
       "      <td>3</td>\n",
       "      <td>4</td>\n",
       "      <td>89</td>\n",
       "      <td>4.79</td>\n",
       "      <td>4.84</td>\n",
       "      <td>4.88</td>\n",
       "      <td>4.87</td>\n",
       "      <td>4.82</td>\n",
       "      <td>4.93</td>\n",
       "      <td>f</td>\n",
       "    </tr>\n",
       "    <tr>\n",
       "      <th>17402</th>\n",
       "      <td>67564</td>\n",
       "      <td>f</td>\n",
       "      <td>18.0</td>\n",
       "      <td>t</td>\n",
       "      <td>Westminster</td>\n",
       "      <td>Entire rental unit</td>\n",
       "      <td>Entire home/apt</td>\n",
       "      <td>6</td>\n",
       "      <td>2 baths</td>\n",
       "      <td>3.0</td>\n",
       "      <td>...</td>\n",
       "      <td>4</td>\n",
       "      <td>295</td>\n",
       "      <td>43</td>\n",
       "      <td>4.69</td>\n",
       "      <td>4.80</td>\n",
       "      <td>4.68</td>\n",
       "      <td>4.66</td>\n",
       "      <td>4.66</td>\n",
       "      <td>4.85</td>\n",
       "      <td>f</td>\n",
       "    </tr>\n",
       "    <tr>\n",
       "      <th>17506</th>\n",
       "      <td>67915</td>\n",
       "      <td>f</td>\n",
       "      <td>3.0</td>\n",
       "      <td>t</td>\n",
       "      <td>Hammersmith and Fulham</td>\n",
       "      <td>Private room in townhouse</td>\n",
       "      <td>Private room</td>\n",
       "      <td>2</td>\n",
       "      <td>1 private bath</td>\n",
       "      <td>1.0</td>\n",
       "      <td>...</td>\n",
       "      <td>3</td>\n",
       "      <td>364</td>\n",
       "      <td>0</td>\n",
       "      <td>NaN</td>\n",
       "      <td>NaN</td>\n",
       "      <td>NaN</td>\n",
       "      <td>NaN</td>\n",
       "      <td>NaN</td>\n",
       "      <td>NaN</td>\n",
       "      <td>f</td>\n",
       "    </tr>\n",
       "    <tr>\n",
       "      <th>33332</th>\n",
       "      <td>144444</td>\n",
       "      <td>f</td>\n",
       "      <td>2.0</td>\n",
       "      <td>t</td>\n",
       "      <td>Hounslow</td>\n",
       "      <td>Private room in residential home</td>\n",
       "      <td>Private room</td>\n",
       "      <td>2</td>\n",
       "      <td>1 private bath</td>\n",
       "      <td>1.0</td>\n",
       "      <td>...</td>\n",
       "      <td>2</td>\n",
       "      <td>362</td>\n",
       "      <td>11</td>\n",
       "      <td>4.55</td>\n",
       "      <td>4.50</td>\n",
       "      <td>4.60</td>\n",
       "      <td>4.70</td>\n",
       "      <td>4.80</td>\n",
       "      <td>4.80</td>\n",
       "      <td>f</td>\n",
       "    </tr>\n",
       "    <tr>\n",
       "      <th>36299</th>\n",
       "      <td>155938</td>\n",
       "      <td>f</td>\n",
       "      <td>1.0</td>\n",
       "      <td>t</td>\n",
       "      <td>Richmond upon Thames</td>\n",
       "      <td>Entire townhouse</td>\n",
       "      <td>Entire home/apt</td>\n",
       "      <td>5</td>\n",
       "      <td>1.5 baths</td>\n",
       "      <td>3.0</td>\n",
       "      <td>...</td>\n",
       "      <td>3</td>\n",
       "      <td>300</td>\n",
       "      <td>86</td>\n",
       "      <td>4.82</td>\n",
       "      <td>4.81</td>\n",
       "      <td>4.80</td>\n",
       "      <td>4.94</td>\n",
       "      <td>4.96</td>\n",
       "      <td>4.90</td>\n",
       "      <td>f</td>\n",
       "    </tr>\n",
       "    <tr>\n",
       "      <th>...</th>\n",
       "      <td>...</td>\n",
       "      <td>...</td>\n",
       "      <td>...</td>\n",
       "      <td>...</td>\n",
       "      <td>...</td>\n",
       "      <td>...</td>\n",
       "      <td>...</td>\n",
       "      <td>...</td>\n",
       "      <td>...</td>\n",
       "      <td>...</td>\n",
       "      <td>...</td>\n",
       "      <td>...</td>\n",
       "      <td>...</td>\n",
       "      <td>...</td>\n",
       "      <td>...</td>\n",
       "      <td>...</td>\n",
       "      <td>...</td>\n",
       "      <td>...</td>\n",
       "      <td>...</td>\n",
       "      <td>...</td>\n",
       "      <td>...</td>\n",
       "    </tr>\n",
       "    <tr>\n",
       "      <th>53709893</th>\n",
       "      <td>96150452</td>\n",
       "      <td>t</td>\n",
       "      <td>13.0</td>\n",
       "      <td>t</td>\n",
       "      <td>Croydon</td>\n",
       "      <td>Entire condominium (condo)</td>\n",
       "      <td>Entire home/apt</td>\n",
       "      <td>6</td>\n",
       "      <td>1 bath</td>\n",
       "      <td>3.0</td>\n",
       "      <td>...</td>\n",
       "      <td>2</td>\n",
       "      <td>253</td>\n",
       "      <td>0</td>\n",
       "      <td>NaN</td>\n",
       "      <td>NaN</td>\n",
       "      <td>NaN</td>\n",
       "      <td>NaN</td>\n",
       "      <td>NaN</td>\n",
       "      <td>NaN</td>\n",
       "      <td>f</td>\n",
       "    </tr>\n",
       "    <tr>\n",
       "      <th>53710986</th>\n",
       "      <td>125392965</td>\n",
       "      <td>f</td>\n",
       "      <td>9.0</td>\n",
       "      <td>t</td>\n",
       "      <td>Ealing</td>\n",
       "      <td>Entire condominium (condo)</td>\n",
       "      <td>Entire home/apt</td>\n",
       "      <td>8</td>\n",
       "      <td>2.5 baths</td>\n",
       "      <td>3.0</td>\n",
       "      <td>...</td>\n",
       "      <td>3</td>\n",
       "      <td>260</td>\n",
       "      <td>0</td>\n",
       "      <td>NaN</td>\n",
       "      <td>NaN</td>\n",
       "      <td>NaN</td>\n",
       "      <td>NaN</td>\n",
       "      <td>NaN</td>\n",
       "      <td>NaN</td>\n",
       "      <td>t</td>\n",
       "    </tr>\n",
       "    <tr>\n",
       "      <th>53711668</th>\n",
       "      <td>285590054</td>\n",
       "      <td>t</td>\n",
       "      <td>5.0</td>\n",
       "      <td>t</td>\n",
       "      <td>Haringey</td>\n",
       "      <td>Entire bungalow</td>\n",
       "      <td>Entire home/apt</td>\n",
       "      <td>4</td>\n",
       "      <td>2 baths</td>\n",
       "      <td>2.0</td>\n",
       "      <td>...</td>\n",
       "      <td>5</td>\n",
       "      <td>73</td>\n",
       "      <td>0</td>\n",
       "      <td>NaN</td>\n",
       "      <td>NaN</td>\n",
       "      <td>NaN</td>\n",
       "      <td>NaN</td>\n",
       "      <td>NaN</td>\n",
       "      <td>NaN</td>\n",
       "      <td>t</td>\n",
       "    </tr>\n",
       "    <tr>\n",
       "      <th>53712786</th>\n",
       "      <td>379423186</td>\n",
       "      <td>f</td>\n",
       "      <td>4.0</td>\n",
       "      <td>t</td>\n",
       "      <td>Kensington and Chelsea</td>\n",
       "      <td>Entire rental unit</td>\n",
       "      <td>Entire home/apt</td>\n",
       "      <td>4</td>\n",
       "      <td>2.5 baths</td>\n",
       "      <td>2.0</td>\n",
       "      <td>...</td>\n",
       "      <td>7</td>\n",
       "      <td>365</td>\n",
       "      <td>0</td>\n",
       "      <td>NaN</td>\n",
       "      <td>NaN</td>\n",
       "      <td>NaN</td>\n",
       "      <td>NaN</td>\n",
       "      <td>NaN</td>\n",
       "      <td>NaN</td>\n",
       "      <td>t</td>\n",
       "    </tr>\n",
       "    <tr>\n",
       "      <th>53713050</th>\n",
       "      <td>50095820</td>\n",
       "      <td>f</td>\n",
       "      <td>5.0</td>\n",
       "      <td>t</td>\n",
       "      <td>Southwark</td>\n",
       "      <td>Entire condominium (condo)</td>\n",
       "      <td>Entire home/apt</td>\n",
       "      <td>4</td>\n",
       "      <td>1 bath</td>\n",
       "      <td>1.0</td>\n",
       "      <td>...</td>\n",
       "      <td>2</td>\n",
       "      <td>85</td>\n",
       "      <td>0</td>\n",
       "      <td>NaN</td>\n",
       "      <td>NaN</td>\n",
       "      <td>NaN</td>\n",
       "      <td>NaN</td>\n",
       "      <td>NaN</td>\n",
       "      <td>NaN</td>\n",
       "      <td>f</td>\n",
       "    </tr>\n",
       "  </tbody>\n",
       "</table>\n",
       "<p>59127 rows × 23 columns</p>\n",
       "</div>"
      ],
      "text/plain": [
       "            host_id host_is_superhost  host_total_listings_count  \\\n",
       "id                                                                 \n",
       "15400         60302                 f                        1.0   \n",
       "17402         67564                 f                       18.0   \n",
       "17506         67915                 f                        3.0   \n",
       "33332        144444                 f                        2.0   \n",
       "36299        155938                 f                        1.0   \n",
       "...             ...               ...                        ...   \n",
       "53709893   96150452                 t                       13.0   \n",
       "53710986  125392965                 f                        9.0   \n",
       "53711668  285590054                 t                        5.0   \n",
       "53712786  379423186                 f                        4.0   \n",
       "53713050   50095820                 f                        5.0   \n",
       "\n",
       "         host_identity_verified  neighbourhood_cleansed  \\\n",
       "id                                                        \n",
       "15400                         t  Kensington and Chelsea   \n",
       "17402                         t             Westminster   \n",
       "17506                         t  Hammersmith and Fulham   \n",
       "33332                         t                Hounslow   \n",
       "36299                         t    Richmond upon Thames   \n",
       "...                         ...                     ...   \n",
       "53709893                      t                 Croydon   \n",
       "53710986                      t                  Ealing   \n",
       "53711668                      t                Haringey   \n",
       "53712786                      t  Kensington and Chelsea   \n",
       "53713050                      t               Southwark   \n",
       "\n",
       "                             property_type        room_type  accommodates  \\\n",
       "id                                                                          \n",
       "15400                   Entire rental unit  Entire home/apt             2   \n",
       "17402                   Entire rental unit  Entire home/apt             6   \n",
       "17506            Private room in townhouse     Private room             2   \n",
       "33332     Private room in residential home     Private room             2   \n",
       "36299                     Entire townhouse  Entire home/apt             5   \n",
       "...                                    ...              ...           ...   \n",
       "53709893        Entire condominium (condo)  Entire home/apt             6   \n",
       "53710986        Entire condominium (condo)  Entire home/apt             8   \n",
       "53711668                   Entire bungalow  Entire home/apt             4   \n",
       "53712786                Entire rental unit  Entire home/apt             4   \n",
       "53713050        Entire condominium (condo)  Entire home/apt             4   \n",
       "\n",
       "          bathrooms_text  bedrooms  ...  minimum_nights availability_365  \\\n",
       "id                                  ...                                    \n",
       "15400             1 bath       1.0  ...               3                4   \n",
       "17402            2 baths       3.0  ...               4              295   \n",
       "17506     1 private bath       1.0  ...               3              364   \n",
       "33332     1 private bath       1.0  ...               2              362   \n",
       "36299          1.5 baths       3.0  ...               3              300   \n",
       "...                  ...       ...  ...             ...              ...   \n",
       "53709893          1 bath       3.0  ...               2              253   \n",
       "53710986       2.5 baths       3.0  ...               3              260   \n",
       "53711668         2 baths       2.0  ...               5               73   \n",
       "53712786       2.5 baths       2.0  ...               7              365   \n",
       "53713050          1 bath       1.0  ...               2               85   \n",
       "\n",
       "         number_of_reviews  review_scores_rating  review_scores_accuracy  \\\n",
       "id                                                                         \n",
       "15400                   89                  4.79                    4.84   \n",
       "17402                   43                  4.69                    4.80   \n",
       "17506                    0                   NaN                     NaN   \n",
       "33332                   11                  4.55                    4.50   \n",
       "36299                   86                  4.82                    4.81   \n",
       "...                    ...                   ...                     ...   \n",
       "53709893                 0                   NaN                     NaN   \n",
       "53710986                 0                   NaN                     NaN   \n",
       "53711668                 0                   NaN                     NaN   \n",
       "53712786                 0                   NaN                     NaN   \n",
       "53713050                 0                   NaN                     NaN   \n",
       "\n",
       "          review_scores_cleanliness  review_scores_checkin  \\\n",
       "id                                                           \n",
       "15400                          4.88                   4.87   \n",
       "17402                          4.68                   4.66   \n",
       "17506                           NaN                    NaN   \n",
       "33332                          4.60                   4.70   \n",
       "36299                          4.80                   4.94   \n",
       "...                             ...                    ...   \n",
       "53709893                        NaN                    NaN   \n",
       "53710986                        NaN                    NaN   \n",
       "53711668                        NaN                    NaN   \n",
       "53712786                        NaN                    NaN   \n",
       "53713050                        NaN                    NaN   \n",
       "\n",
       "          review_scores_communication  review_scores_location  \\\n",
       "id                                                              \n",
       "15400                            4.82                    4.93   \n",
       "17402                            4.66                    4.85   \n",
       "17506                             NaN                     NaN   \n",
       "33332                            4.80                    4.80   \n",
       "36299                            4.96                    4.90   \n",
       "...                               ...                     ...   \n",
       "53709893                          NaN                     NaN   \n",
       "53710986                          NaN                     NaN   \n",
       "53711668                          NaN                     NaN   \n",
       "53712786                          NaN                     NaN   \n",
       "53713050                          NaN                     NaN   \n",
       "\n",
       "          instant_bookable  \n",
       "id                          \n",
       "15400                    f  \n",
       "17402                    f  \n",
       "17506                    f  \n",
       "33332                    f  \n",
       "36299                    f  \n",
       "...                    ...  \n",
       "53709893                 f  \n",
       "53710986                 t  \n",
       "53711668                 t  \n",
       "53712786                 t  \n",
       "53713050                 f  \n",
       "\n",
       "[59127 rows x 23 columns]"
      ]
     },
     "execution_count": 7,
     "metadata": {},
     "output_type": "execute_result"
    }
   ],
   "source": [
    "df = df.dropna(subset = [\"host_is_superhost\", \"host_total_listings_count\", \"bathrooms_text\", \"bedrooms\", \"beds\"])\n",
    "\n",
    "df"
   ]
  },
  {
   "cell_type": "markdown",
   "id": "804b4f42-ca2e-4ea8-af88-52687b284013",
   "metadata": {},
   "source": [
    "Remove strings (characters) from `bathrooms_text`"
   ]
  },
  {
   "cell_type": "code",
   "execution_count": 8,
   "id": "751deee0-b893-4dbe-87a0-3ce8c3785204",
   "metadata": {},
   "outputs": [],
   "source": [
    "df[\"bathrooms_text\"] = df[\"bathrooms_text\"].str.replace(r\"\\D+\", \"\", regex = True)"
   ]
  },
  {
   "cell_type": "markdown",
   "id": "a83fc129-b949-4e9f-92f0-cfbd87fe54d6",
   "metadata": {},
   "source": [
    "Rename columns"
   ]
  },
  {
   "cell_type": "code",
   "execution_count": 9,
   "id": "2bbb7932-a2d1-43a9-aad8-88b250ce0c0f",
   "metadata": {},
   "outputs": [],
   "source": [
    "df = df.rename(columns = {\"bathrooms_text\":\"bathrooms\", \"neighbourhood_cleansed\":\"neighbourhood\"})"
   ]
  },
  {
   "cell_type": "markdown",
   "id": "7d14db6d-aa46-48e7-becd-561183305348",
   "metadata": {},
   "source": [
    "Convert `price` and `bathrooms` from string to float"
   ]
  },
  {
   "cell_type": "code",
   "execution_count": 10,
   "id": "2f5f0e97-c09e-4f6f-8b9f-0f4fb52cd514",
   "metadata": {},
   "outputs": [],
   "source": [
    "df[\"price\"] = df.price.str.replace(\"[$,]\", \"\",regex=True).astype(\"float\")\n",
    "df[\"bathrooms\"] = pd.to_numeric(df[\"bathrooms\"], downcast=\"float\")"
   ]
  },
  {
   "cell_type": "markdown",
   "id": "e60b4861-7b0a-47dc-9b01-e2d3e309b9ac",
   "metadata": {},
   "source": [
    "Replace \"f\" and \"t\" with values \"0\" and \"1\" respectively"
   ]
  },
  {
   "cell_type": "code",
   "execution_count": 11,
   "id": "dc7e1ebb-0063-440e-a58c-e8f89fbcaba7",
   "metadata": {},
   "outputs": [],
   "source": [
    "df.replace({'f': 0, 't': 1}, inplace=True)"
   ]
  },
  {
   "cell_type": "markdown",
   "id": "d29ab32e-fa08-4c04-bc2d-fbf21e5f82c6",
   "metadata": {},
   "source": [
    "Drop inconsistent values, where `accommodates`, `bedrooms`, `beds` and `price` have a value of 0"
   ]
  },
  {
   "cell_type": "code",
   "execution_count": 12,
   "id": "d3a717d6-437a-4176-952d-40c52319d2a5",
   "metadata": {},
   "outputs": [],
   "source": [
    "df = df[df.accommodates != 0]\n",
    "df = df[df.bedrooms != 0]\n",
    "df = df[df.beds != 0]\n",
    "df = df[df.price != 0]"
   ]
  },
  {
   "cell_type": "code",
   "execution_count": 13,
   "id": "4ef5a53e-dde8-4427-ae8e-67aed24bc839",
   "metadata": {},
   "outputs": [
    {
     "data": {
      "text/html": [
       "<div>\n",
       "<style scoped>\n",
       "    .dataframe tbody tr th:only-of-type {\n",
       "        vertical-align: middle;\n",
       "    }\n",
       "\n",
       "    .dataframe tbody tr th {\n",
       "        vertical-align: top;\n",
       "    }\n",
       "\n",
       "    .dataframe thead th {\n",
       "        text-align: right;\n",
       "    }\n",
       "</style>\n",
       "<table border=\"1\" class=\"dataframe\">\n",
       "  <thead>\n",
       "    <tr style=\"text-align: right;\">\n",
       "      <th></th>\n",
       "      <th>host_id</th>\n",
       "      <th>host_is_superhost</th>\n",
       "      <th>host_total_listings_count</th>\n",
       "      <th>host_identity_verified</th>\n",
       "      <th>accommodates</th>\n",
       "      <th>bathrooms</th>\n",
       "      <th>bedrooms</th>\n",
       "      <th>beds</th>\n",
       "      <th>price</th>\n",
       "      <th>minimum_nights</th>\n",
       "      <th>availability_365</th>\n",
       "      <th>number_of_reviews</th>\n",
       "      <th>review_scores_rating</th>\n",
       "      <th>review_scores_accuracy</th>\n",
       "      <th>review_scores_cleanliness</th>\n",
       "      <th>review_scores_checkin</th>\n",
       "      <th>review_scores_communication</th>\n",
       "      <th>review_scores_location</th>\n",
       "      <th>instant_bookable</th>\n",
       "    </tr>\n",
       "  </thead>\n",
       "  <tbody>\n",
       "    <tr>\n",
       "      <th>count</th>\n",
       "      <td>5.912500e+04</td>\n",
       "      <td>59125.000000</td>\n",
       "      <td>59125.000000</td>\n",
       "      <td>59125.000000</td>\n",
       "      <td>59125.000000</td>\n",
       "      <td>58880.000000</td>\n",
       "      <td>59125.000000</td>\n",
       "      <td>59125.000000</td>\n",
       "      <td>59125.000000</td>\n",
       "      <td>59125.000000</td>\n",
       "      <td>59125.000000</td>\n",
       "      <td>59125.000000</td>\n",
       "      <td>43375.000000</td>\n",
       "      <td>42191.000000</td>\n",
       "      <td>42201.000000</td>\n",
       "      <td>42150.000000</td>\n",
       "      <td>42184.000000</td>\n",
       "      <td>42151.000000</td>\n",
       "      <td>59125.000000</td>\n",
       "    </tr>\n",
       "    <tr>\n",
       "      <th>mean</th>\n",
       "      <td>1.000541e+08</td>\n",
       "      <td>0.142444</td>\n",
       "      <td>48.126698</td>\n",
       "      <td>0.797345</td>\n",
       "      <td>3.108939</td>\n",
       "      <td>3.923115</td>\n",
       "      <td>1.504186</td>\n",
       "      <td>1.790664</td>\n",
       "      <td>146.137624</td>\n",
       "      <td>6.141057</td>\n",
       "      <td>94.780195</td>\n",
       "      <td>15.827687</td>\n",
       "      <td>4.548797</td>\n",
       "      <td>4.740355</td>\n",
       "      <td>4.627238</td>\n",
       "      <td>4.796858</td>\n",
       "      <td>4.812705</td>\n",
       "      <td>4.748323</td>\n",
       "      <td>0.329167</td>\n",
       "    </tr>\n",
       "    <tr>\n",
       "      <th>std</th>\n",
       "      <td>1.109490e+08</td>\n",
       "      <td>0.349508</td>\n",
       "      <td>287.314190</td>\n",
       "      <td>0.401981</td>\n",
       "      <td>1.969188</td>\n",
       "      <td>6.889027</td>\n",
       "      <td>0.886535</td>\n",
       "      <td>1.286322</td>\n",
       "      <td>336.090924</td>\n",
       "      <td>27.607531</td>\n",
       "      <td>131.851895</td>\n",
       "      <td>36.682769</td>\n",
       "      <td>0.908788</td>\n",
       "      <td>0.500333</td>\n",
       "      <td>0.578394</td>\n",
       "      <td>0.463291</td>\n",
       "      <td>0.459006</td>\n",
       "      <td>0.421986</td>\n",
       "      <td>0.469915</td>\n",
       "    </tr>\n",
       "    <tr>\n",
       "      <th>min</th>\n",
       "      <td>2.010000e+03</td>\n",
       "      <td>0.000000</td>\n",
       "      <td>0.000000</td>\n",
       "      <td>0.000000</td>\n",
       "      <td>1.000000</td>\n",
       "      <td>0.000000</td>\n",
       "      <td>1.000000</td>\n",
       "      <td>1.000000</td>\n",
       "      <td>7.000000</td>\n",
       "      <td>1.000000</td>\n",
       "      <td>0.000000</td>\n",
       "      <td>0.000000</td>\n",
       "      <td>0.000000</td>\n",
       "      <td>0.000000</td>\n",
       "      <td>0.000000</td>\n",
       "      <td>0.000000</td>\n",
       "      <td>0.000000</td>\n",
       "      <td>0.000000</td>\n",
       "      <td>0.000000</td>\n",
       "    </tr>\n",
       "    <tr>\n",
       "      <th>25%</th>\n",
       "      <td>1.658244e+07</td>\n",
       "      <td>0.000000</td>\n",
       "      <td>1.000000</td>\n",
       "      <td>1.000000</td>\n",
       "      <td>2.000000</td>\n",
       "      <td>1.000000</td>\n",
       "      <td>1.000000</td>\n",
       "      <td>1.000000</td>\n",
       "      <td>47.000000</td>\n",
       "      <td>1.000000</td>\n",
       "      <td>0.000000</td>\n",
       "      <td>0.000000</td>\n",
       "      <td>4.500000</td>\n",
       "      <td>4.690000</td>\n",
       "      <td>4.500000</td>\n",
       "      <td>4.790000</td>\n",
       "      <td>4.820000</td>\n",
       "      <td>4.670000</td>\n",
       "      <td>0.000000</td>\n",
       "    </tr>\n",
       "    <tr>\n",
       "      <th>50%</th>\n",
       "      <td>4.871825e+07</td>\n",
       "      <td>0.000000</td>\n",
       "      <td>1.000000</td>\n",
       "      <td>1.000000</td>\n",
       "      <td>2.000000</td>\n",
       "      <td>1.000000</td>\n",
       "      <td>1.000000</td>\n",
       "      <td>1.000000</td>\n",
       "      <td>85.000000</td>\n",
       "      <td>2.000000</td>\n",
       "      <td>0.000000</td>\n",
       "      <td>3.000000</td>\n",
       "      <td>4.820000</td>\n",
       "      <td>4.910000</td>\n",
       "      <td>4.820000</td>\n",
       "      <td>4.960000</td>\n",
       "      <td>5.000000</td>\n",
       "      <td>4.880000</td>\n",
       "      <td>0.000000</td>\n",
       "    </tr>\n",
       "    <tr>\n",
       "      <th>75%</th>\n",
       "      <td>1.551339e+08</td>\n",
       "      <td>0.000000</td>\n",
       "      <td>3.000000</td>\n",
       "      <td>1.000000</td>\n",
       "      <td>4.000000</td>\n",
       "      <td>2.000000</td>\n",
       "      <td>2.000000</td>\n",
       "      <td>2.000000</td>\n",
       "      <td>150.000000</td>\n",
       "      <td>4.000000</td>\n",
       "      <td>175.000000</td>\n",
       "      <td>14.000000</td>\n",
       "      <td>5.000000</td>\n",
       "      <td>5.000000</td>\n",
       "      <td>5.000000</td>\n",
       "      <td>5.000000</td>\n",
       "      <td>5.000000</td>\n",
       "      <td>5.000000</td>\n",
       "      <td>1.000000</td>\n",
       "    </tr>\n",
       "    <tr>\n",
       "      <th>max</th>\n",
       "      <td>4.348812e+08</td>\n",
       "      <td>1.000000</td>\n",
       "      <td>3750.000000</td>\n",
       "      <td>1.000000</td>\n",
       "      <td>16.000000</td>\n",
       "      <td>165.000000</td>\n",
       "      <td>16.000000</td>\n",
       "      <td>38.000000</td>\n",
       "      <td>18557.000000</td>\n",
       "      <td>1125.000000</td>\n",
       "      <td>365.000000</td>\n",
       "      <td>868.000000</td>\n",
       "      <td>5.000000</td>\n",
       "      <td>5.000000</td>\n",
       "      <td>5.000000</td>\n",
       "      <td>5.000000</td>\n",
       "      <td>5.000000</td>\n",
       "      <td>5.000000</td>\n",
       "      <td>1.000000</td>\n",
       "    </tr>\n",
       "  </tbody>\n",
       "</table>\n",
       "</div>"
      ],
      "text/plain": [
       "            host_id  host_is_superhost  host_total_listings_count  \\\n",
       "count  5.912500e+04       59125.000000               59125.000000   \n",
       "mean   1.000541e+08           0.142444                  48.126698   \n",
       "std    1.109490e+08           0.349508                 287.314190   \n",
       "min    2.010000e+03           0.000000                   0.000000   \n",
       "25%    1.658244e+07           0.000000                   1.000000   \n",
       "50%    4.871825e+07           0.000000                   1.000000   \n",
       "75%    1.551339e+08           0.000000                   3.000000   \n",
       "max    4.348812e+08           1.000000                3750.000000   \n",
       "\n",
       "       host_identity_verified  accommodates     bathrooms      bedrooms  \\\n",
       "count            59125.000000  59125.000000  58880.000000  59125.000000   \n",
       "mean                 0.797345      3.108939      3.923115      1.504186   \n",
       "std                  0.401981      1.969188      6.889027      0.886535   \n",
       "min                  0.000000      1.000000      0.000000      1.000000   \n",
       "25%                  1.000000      2.000000      1.000000      1.000000   \n",
       "50%                  1.000000      2.000000      1.000000      1.000000   \n",
       "75%                  1.000000      4.000000      2.000000      2.000000   \n",
       "max                  1.000000     16.000000    165.000000     16.000000   \n",
       "\n",
       "               beds         price  minimum_nights  availability_365  \\\n",
       "count  59125.000000  59125.000000    59125.000000      59125.000000   \n",
       "mean       1.790664    146.137624        6.141057         94.780195   \n",
       "std        1.286322    336.090924       27.607531        131.851895   \n",
       "min        1.000000      7.000000        1.000000          0.000000   \n",
       "25%        1.000000     47.000000        1.000000          0.000000   \n",
       "50%        1.000000     85.000000        2.000000          0.000000   \n",
       "75%        2.000000    150.000000        4.000000        175.000000   \n",
       "max       38.000000  18557.000000     1125.000000        365.000000   \n",
       "\n",
       "       number_of_reviews  review_scores_rating  review_scores_accuracy  \\\n",
       "count       59125.000000          43375.000000            42191.000000   \n",
       "mean           15.827687              4.548797                4.740355   \n",
       "std            36.682769              0.908788                0.500333   \n",
       "min             0.000000              0.000000                0.000000   \n",
       "25%             0.000000              4.500000                4.690000   \n",
       "50%             3.000000              4.820000                4.910000   \n",
       "75%            14.000000              5.000000                5.000000   \n",
       "max           868.000000              5.000000                5.000000   \n",
       "\n",
       "       review_scores_cleanliness  review_scores_checkin  \\\n",
       "count               42201.000000           42150.000000   \n",
       "mean                    4.627238               4.796858   \n",
       "std                     0.578394               0.463291   \n",
       "min                     0.000000               0.000000   \n",
       "25%                     4.500000               4.790000   \n",
       "50%                     4.820000               4.960000   \n",
       "75%                     5.000000               5.000000   \n",
       "max                     5.000000               5.000000   \n",
       "\n",
       "       review_scores_communication  review_scores_location  instant_bookable  \n",
       "count                 42184.000000            42151.000000      59125.000000  \n",
       "mean                      4.812705                4.748323          0.329167  \n",
       "std                       0.459006                0.421986          0.469915  \n",
       "min                       0.000000                0.000000          0.000000  \n",
       "25%                       4.820000                4.670000          0.000000  \n",
       "50%                       5.000000                4.880000          0.000000  \n",
       "75%                       5.000000                5.000000          1.000000  \n",
       "max                       5.000000                5.000000          1.000000  "
      ]
     },
     "execution_count": 13,
     "metadata": {},
     "output_type": "execute_result"
    }
   ],
   "source": [
    "df.describe()"
   ]
  },
  {
   "cell_type": "markdown",
   "id": "3c9d742f-c1f3-4923-b902-6b42b190516b",
   "metadata": {},
   "source": [
    "Limit prices to £1000 (explanation below)"
   ]
  },
  {
   "cell_type": "code",
   "execution_count": 14,
   "id": "1dfff8a7-b59f-4f86-aa0e-cce52a56672c",
   "metadata": {},
   "outputs": [],
   "source": [
    "maxVal = 1000\n",
    "df['price'][df['price'] >= maxVal] = maxVal"
   ]
  },
  {
   "cell_type": "markdown",
   "id": "0e21a2c2-33b3-4b33-9865-78d1fcea2a53",
   "metadata": {},
   "source": [
    "<a id=\"Exploration\"></a>\n",
    "## Data Exploration"
   ]
  },
  {
   "cell_type": "markdown",
   "id": "82e9f88d-5d67-4c46-86db-dc39dcd3d42b",
   "metadata": {},
   "source": [
    "1. Plotting graphs of certain factors against `price` to determine their impact on the prices of Airbnb listings in London\n",
    "\n",
    "2. Determine most important factors\n",
    "\n",
    "3. Determine exact correlation with regression models"
   ]
  },
  {
   "cell_type": "markdown",
   "id": "fcf5ff7f-c51a-48d4-9604-b0ff2c887e19",
   "metadata": {},
   "source": [
    "Import modules to plot graphs "
   ]
  },
  {
   "cell_type": "code",
   "execution_count": 15,
   "id": "4e602a8e-e6f0-45dc-b610-38aac3708b4c",
   "metadata": {},
   "outputs": [],
   "source": [
    "import seaborn as sns\n",
    "import matplotlib.pyplot as plt\n",
    "import math\n",
    "import matplotlib.cm as cmx\n",
    "import matplotlib.colors as colors"
   ]
  },
  {
   "cell_type": "markdown",
   "id": "dee2d728-124e-46f9-b24b-d308401e73c8",
   "metadata": {},
   "source": [
    "<a id=\"Price_Distribution\"></a>\n",
    "## Distribution of Median Prices"
   ]
  },
  {
   "cell_type": "code",
   "execution_count": 16,
   "id": "a40dfbb2-ad1b-4144-9869-bc8e6bc1853c",
   "metadata": {},
   "outputs": [
    {
     "name": "stdout",
     "output_type": "stream",
     "text": [
      "Nightly advertised prices range from $7.0 to $1000.0.\n"
     ]
    }
   ],
   "source": [
    "print(f\"Nightly advertised prices range from ${min(df.price)} to ${max(df.price)}.\")"
   ]
  },
  {
   "cell_type": "code",
   "execution_count": 17,
   "id": "4fdb483b-262e-47d3-b583-8d2fe62c046e",
   "metadata": {},
   "outputs": [
    {
     "data": {
      "image/png": "[encoded data removed]",
      "text/plain": [
       "<Figure size 1440x288 with 1 Axes>"
      ]
     },
     "metadata": {
      "needs_background": "light"
     },
     "output_type": "display_data"
    }
   ],
   "source": [
    "plt.figure(figsize=(20,4))\n",
    "df.price.hist(bins=100, range=(0,1000))\n",
    "plt.margins(x=0)\n",
    "plt.axvline(df[\"price\"].median(), color=\"orange\", linestyle=\"--\")\n",
    "plt.title(\"Airbnb advertised nightly prices in London up to £1000\", fontsize=16)\n",
    "plt.xlabel(\"Price\")\n",
    "plt.ylabel(\"Number of listings\")\n",
    "plt.show()"
   ]
  },
  {
   "cell_type": "markdown",
   "id": "8a534434-7445-401c-b8a9-6eff4dda5355",
   "metadata": {},
   "source": [
    "The orange dotted line indicates the median price of Airbnb listings."
   ]
  },
  {
   "cell_type": "markdown",
   "id": "067afe73-971a-40f8-896f-519dcf91566b",
   "metadata": {},
   "source": [
    "<a id=\"Heatmap\"></a>\n",
    "## Heat Map"
   ]
  },
  {
   "cell_type": "code",
   "execution_count": 18,
   "id": "a31ce7ff-a02b-4df3-97e8-4394e1f74008",
   "metadata": {},
   "outputs": [
    {
     "data": {
      "image/png": "[encoded data removed]",
      "text/plain": [
       "<Figure size 1080x1080 with 2 Axes>"
      ]
     },
     "metadata": {
      "needs_background": "light"
     },
     "output_type": "display_data"
    }
   ],
   "source": [
    "fig, ax = plt.subplots(figsize=(15,15))\n",
    "sns.heatmap(df.corr(), annot=True, linewidths=.5, ax=ax);"
   ]
  },
  {
   "cell_type": "markdown",
   "id": "34d48cdd-b188-4b8e-a069-2aa270c5ec4e",
   "metadata": {},
   "source": [
    "<a id=\"Superhost\"></a>\n",
    "## Superhost"
   ]
  },
  {
   "cell_type": "markdown",
   "id": "57a5247f-496d-44f1-b739-354a1db16547",
   "metadata": {},
   "source": [
    "Plot a bar chart of the frequency of listings that have superhosts and a bar chart of superhost vs median price"
   ]
  },
  {
   "cell_type": "code",
   "execution_count": 19,
   "id": "5abac703-4d8a-4d6f-8aaa-f5fdec1d5563",
   "metadata": {},
   "outputs": [],
   "source": [
    "def binary_count_and_price_plot(col, figsize=(8,3)):\n",
    "    \"\"\"\n",
    "    Plots a simple bar chart of the counts of true and false categories in the column specified,\n",
    "    next to a bar chart of the median price for each category.\n",
    "    A figure size can optionally be specified.\n",
    "    \"\"\"\n",
    "    fig, (ax1, ax2) = plt.subplots(1, 2, figsize=figsize)\n",
    "    fig.suptitle(col, fontsize=16, y=1)\n",
    "    plt.subplots_adjust(top=0.80) # So that the suptitle does not overlap with the ax plot titles\n",
    "    \n",
    "    df.groupby(col).size().plot(kind='bar', ax=ax1, color=['firebrick', 'seagreen'])\n",
    "    ax1.set_xticklabels(labels=['false', 'true'], rotation=0)\n",
    "    ax1.set_title('Category Count')\n",
    "    ax1.set_xlabel('')\n",
    "    \n",
    "    df.groupby(col).price.median().plot(kind='bar', ax=ax2, color=['firebrick', 'seagreen'])\n",
    "    ax2.set_xticklabels(labels=['false', 'true'], rotation=0)\n",
    "    ax2.set_title('Median Price')\n",
    "    ax2.set_xlabel('')\n",
    "    \n",
    "    plt.show()"
   ]
  },
  {
   "cell_type": "code",
   "execution_count": 20,
   "id": "0fb7792c-7914-47a0-967d-8a678f88bfca",
   "metadata": {},
   "outputs": [
    {
     "data": {
      "image/png": "[encoded data removed]",
      "text/plain": [
       "<Figure size 576x216 with 2 Axes>"
      ]
     },
     "metadata": {
      "needs_background": "light"
     },
     "output_type": "display_data"
    },
    {
     "name": "stdout",
     "output_type": "stream",
     "text": [
      "0    0.857556\n",
      "1    0.142444\n",
      "Name: host_is_superhost, dtype: float64\n"
     ]
    }
   ],
   "source": [
    "binary_count_and_price_plot('host_is_superhost')\n",
    "print(df.host_is_superhost.value_counts(normalize=True))"
   ]
  },
  {
   "cell_type": "markdown",
   "id": "6ce92c13-9371-4c0c-bfa7-4364f38b6a86",
   "metadata": {},
   "source": [
    "<a id=\"Verified\"></a>\n",
    "## Verified Identity"
   ]
  },
  {
   "cell_type": "markdown",
   "id": "df85dbe7-1e44-488c-a8b5-54b8be0a283c",
   "metadata": {},
   "source": [
    "Plot a bar chart of the frequency of listings that have verified hosts and a bar chart of verified identity vs median price"
   ]
  },
  {
   "cell_type": "code",
   "execution_count": 21,
   "id": "9b3c0535-1ba7-4ca5-8e2b-fcde4b0e94c7",
   "metadata": {},
   "outputs": [
    {
     "data": {
      "image/png": "[encoded data removed]",
      "text/plain": [
       "<Figure size 576x216 with 2 Axes>"
      ]
     },
     "metadata": {
      "needs_background": "light"
     },
     "output_type": "display_data"
    },
    {
     "name": "stdout",
     "output_type": "stream",
     "text": [
      "1    0.797345\n",
      "0    0.202655\n",
      "Name: host_identity_verified, dtype: float64\n"
     ]
    }
   ],
   "source": [
    "binary_count_and_price_plot('host_identity_verified')\n",
    "print(df.host_identity_verified.value_counts(normalize=True))"
   ]
  },
  {
   "cell_type": "markdown",
   "id": "b5a254dd-06a4-4d49-9ac8-92aa3f14dca4",
   "metadata": {},
   "source": [
    "<a id=\"Instant_Book\"></a>\n",
    "## Instantly Bookable"
   ]
  },
  {
   "cell_type": "markdown",
   "id": "cbc0a9cc-04cd-4734-b25a-e5c0b66cb2ea",
   "metadata": {},
   "source": [
    "Plot a bar chart of the frequency of listings that are instantly bookable and a bar chart of instantly bookable vs median price"
   ]
  },
  {
   "cell_type": "code",
   "execution_count": 22,
   "id": "34216cda-1b4a-4027-8dbf-d8c0e844060b",
   "metadata": {},
   "outputs": [
    {
     "data": {
      "image/png": "[encoded data removed]",
      "text/plain": [
       "<Figure size 576x216 with 2 Axes>"
      ]
     },
     "metadata": {
      "needs_background": "light"
     },
     "output_type": "display_data"
    },
    {
     "name": "stdout",
     "output_type": "stream",
     "text": [
      "0    0.670833\n",
      "1    0.329167\n",
      "Name: instant_bookable, dtype: float64\n"
     ]
    }
   ],
   "source": [
    "binary_count_and_price_plot('instant_bookable')\n",
    "print(df.instant_bookable.value_counts(normalize=True))"
   ]
  },
  {
   "cell_type": "markdown",
   "id": "4faf35ac-d88c-4cf7-a9e6-fa4ee706527e",
   "metadata": {
    "tags": []
   },
   "source": [
    "<a id=\"Total_Listings\"></a>\n",
    "## Total Number of Listings Per Host"
   ]
  },
  {
   "cell_type": "code",
   "execution_count": 23,
   "id": "57e18c89-f15d-4732-8593-eeec9745cbba",
   "metadata": {},
   "outputs": [
    {
     "name": "stdout",
     "output_type": "stream",
     "text": [
      "Median number of listings per host: 1\n",
      "Mean number of listings per host: 48\n",
      "46% of listings are from hosts with one listing.\n"
     ]
    }
   ],
   "source": [
    "print(\"Median number of listings per host:\", int(df.host_total_listings_count.median()))\n",
    "print(\"Mean number of listings per host:\", int(round(df.host_total_listings_count.mean())))\n",
    "print(f\"{int(round(100*len(df[df.host_total_listings_count == 1])/len(df)))}% of listings are from hosts with one listing.\")"
   ]
  },
  {
   "cell_type": "code",
   "execution_count": 24,
   "id": "529cf641-d246-4b4a-bed7-40be9761c1ff",
   "metadata": {},
   "outputs": [
    {
     "data": {
      "text/html": [
       "<div>\n",
       "<style scoped>\n",
       "    .dataframe tbody tr th:only-of-type {\n",
       "        vertical-align: middle;\n",
       "    }\n",
       "\n",
       "    .dataframe tbody tr th {\n",
       "        vertical-align: top;\n",
       "    }\n",
       "\n",
       "    .dataframe thead th {\n",
       "        text-align: right;\n",
       "    }\n",
       "</style>\n",
       "<table border=\"1\" class=\"dataframe\">\n",
       "  <thead>\n",
       "    <tr style=\"text-align: right;\">\n",
       "      <th></th>\n",
       "      <th>host_total_listings_count</th>\n",
       "      <th>price</th>\n",
       "    </tr>\n",
       "  </thead>\n",
       "  <tbody>\n",
       "    <tr>\n",
       "      <th>84</th>\n",
       "      <td>167.0</td>\n",
       "      <td>8.0</td>\n",
       "    </tr>\n",
       "    <tr>\n",
       "      <th>48</th>\n",
       "      <td>51.0</td>\n",
       "      <td>35.0</td>\n",
       "    </tr>\n",
       "    <tr>\n",
       "      <th>54</th>\n",
       "      <td>61.0</td>\n",
       "      <td>45.0</td>\n",
       "    </tr>\n",
       "    <tr>\n",
       "      <th>52</th>\n",
       "      <td>59.0</td>\n",
       "      <td>49.0</td>\n",
       "    </tr>\n",
       "    <tr>\n",
       "      <th>71</th>\n",
       "      <td>110.0</td>\n",
       "      <td>54.0</td>\n",
       "    </tr>\n",
       "    <tr>\n",
       "      <th>...</th>\n",
       "      <td>...</td>\n",
       "      <td>...</td>\n",
       "    </tr>\n",
       "    <tr>\n",
       "      <th>92</th>\n",
       "      <td>211.0</td>\n",
       "      <td>578.0</td>\n",
       "    </tr>\n",
       "    <tr>\n",
       "      <th>90</th>\n",
       "      <td>193.0</td>\n",
       "      <td>1000.0</td>\n",
       "    </tr>\n",
       "    <tr>\n",
       "      <th>97</th>\n",
       "      <td>561.0</td>\n",
       "      <td>1000.0</td>\n",
       "    </tr>\n",
       "    <tr>\n",
       "      <th>98</th>\n",
       "      <td>570.0</td>\n",
       "      <td>1000.0</td>\n",
       "    </tr>\n",
       "    <tr>\n",
       "      <th>99</th>\n",
       "      <td>734.0</td>\n",
       "      <td>1000.0</td>\n",
       "    </tr>\n",
       "  </tbody>\n",
       "</table>\n",
       "<p>104 rows × 2 columns</p>\n",
       "</div>"
      ],
      "text/plain": [
       "    host_total_listings_count   price\n",
       "84                      167.0     8.0\n",
       "48                       51.0    35.0\n",
       "54                       61.0    45.0\n",
       "52                       59.0    49.0\n",
       "71                      110.0    54.0\n",
       "..                        ...     ...\n",
       "92                      211.0   578.0\n",
       "90                      193.0  1000.0\n",
       "97                      561.0  1000.0\n",
       "98                      570.0  1000.0\n",
       "99                      734.0  1000.0\n",
       "\n",
       "[104 rows x 2 columns]"
      ]
     },
     "execution_count": 24,
     "metadata": {},
     "output_type": "execute_result"
    }
   ],
   "source": [
    "total_listings = df.groupby(['host_total_listings_count'])['price'].median().reset_index()\n",
    "total_listings = total_listings.sort_values(by=['price'], ascending=True)\n",
    "total_listings"
   ]
  },
  {
   "cell_type": "markdown",
   "id": "5b3fc194-1a23-4f00-8bec-b4b27443558a",
   "metadata": {},
   "source": [
    "Plot a scatter plot of total listings per host vs median price"
   ]
  },
  {
   "cell_type": "code",
   "execution_count": 25,
   "id": "5571c3e3-a111-49dd-9561-7661c75bb19e",
   "metadata": {},
   "outputs": [
    {
     "data": {
      "image/png": "[encoded data removed]",
      "text/plain": [
       "<Figure size 576x432 with 1 Axes>"
      ]
     },
     "metadata": {
      "needs_background": "light"
     },
     "output_type": "display_data"
    }
   ],
   "source": [
    "fig, ax = plt.subplots(figsize=[8, 6])\n",
    "plt.scatter(total_listings['price'], total_listings['host_total_listings_count'], color='olivedrab')\n",
    "plt.title('Total Listings vs Price')\n",
    "plt.xlabel('Total Listings Per Host')\n",
    "plt.ylabel('Median Price')\n",
    "plt.show()"
   ]
  },
  {
   "cell_type": "markdown",
   "id": "dfc7fce7-ae2b-4b89-8292-f913ee589bb8",
   "metadata": {},
   "source": [
    "**Identifying outliers**"
   ]
  },
  {
   "cell_type": "markdown",
   "id": "4006de54-2881-4e7a-815b-c88d7f174ce8",
   "metadata": {},
   "source": [
    "Calculate interquartile range for data"
   ]
  },
  {
   "cell_type": "code",
   "execution_count": 26,
   "id": "d8de4ac4-1026-4b75-a571-cd848130baaf",
   "metadata": {},
   "outputs": [
    {
     "data": {
      "text/plain": [
       "host_total_listings_count     98.750\n",
       "price                        102.625\n",
       "dtype: float64"
      ]
     },
     "execution_count": 26,
     "metadata": {},
     "output_type": "execute_result"
    }
   ],
   "source": [
    "q1 = total_listings.quantile(0.25)\n",
    "q3 = total_listings.quantile(0.75)\n",
    "iqr = q3 - q1\n",
    "iqr"
   ]
  },
  {
   "cell_type": "markdown",
   "id": "f54a4140-170f-477b-8598-247a6a8a838a",
   "metadata": {},
   "source": [
    "Establish a lower and upper limit for the outliers in the data, below or above which (respectively) will be considered outliers. "
   ]
  },
  {
   "cell_type": "code",
   "execution_count": 27,
   "id": "6857f85e-adb6-42a2-bbe8-58cb3d561084",
   "metadata": {},
   "outputs": [],
   "source": [
    "lower_lim = q1 - 1.5 * iqr\n",
    "upper_lim = q3 + 1.5 * iqr\n",
    "outliers = (total_listings < lower_lim) | (total_listings > upper_lim)"
   ]
  },
  {
   "cell_type": "markdown",
   "id": "28d290d4-816f-435b-92c0-652a7a6f14e3",
   "metadata": {},
   "source": [
    "Calculate the number of outliers in the data for total listings "
   ]
  },
  {
   "cell_type": "code",
   "execution_count": 28,
   "id": "689efea6-4e41-4554-980c-ffd66c5162cc",
   "metadata": {
    "tags": []
   },
   "outputs": [
    {
     "data": {
      "text/plain": [
       "False    95\n",
       "True      9\n",
       "Name: host_total_listings_count, dtype: int64"
      ]
     },
     "execution_count": 28,
     "metadata": {},
     "output_type": "execute_result"
    }
   ],
   "source": [
    "outliers['host_total_listings_count'].value_counts()"
   ]
  },
  {
   "cell_type": "code",
   "execution_count": 29,
   "id": "bb63b064-8ddc-4008-9ecd-99b1571ab91a",
   "metadata": {},
   "outputs": [
    {
     "data": {
      "text/plain": [
       "False    94\n",
       "True     10\n",
       "Name: price, dtype: int64"
      ]
     },
     "execution_count": 29,
     "metadata": {},
     "output_type": "execute_result"
    }
   ],
   "source": [
    "outliers['price'].value_counts()"
   ]
  },
  {
   "cell_type": "markdown",
   "id": "ce9d8784-ea4e-4f20-b472-894ffb419c43",
   "metadata": {},
   "source": [
    "Replace outliers with NaN (missing) "
   ]
  },
  {
   "cell_type": "code",
   "execution_count": 30,
   "id": "4f94d144-2ab7-4b5a-8ac6-b80b3346055f",
   "metadata": {},
   "outputs": [],
   "source": [
    "total_listings.loc[total_listings['host_total_listings_count'] > upper_lim['host_total_listings_count'], 'host_total_listings_count'] = np.nan\n",
    "total_listings.loc[total_listings['price'] > upper_lim['price'], 'price'] = np.nan"
   ]
  },
  {
   "cell_type": "code",
   "execution_count": 31,
   "id": "960feed6-e6cb-43bf-8bd8-60d1ae101e85",
   "metadata": {},
   "outputs": [
    {
     "data": {
      "text/html": [
       "<div>\n",
       "<style scoped>\n",
       "    .dataframe tbody tr th:only-of-type {\n",
       "        vertical-align: middle;\n",
       "    }\n",
       "\n",
       "    .dataframe tbody tr th {\n",
       "        vertical-align: top;\n",
       "    }\n",
       "\n",
       "    .dataframe thead th {\n",
       "        text-align: right;\n",
       "    }\n",
       "</style>\n",
       "<table border=\"1\" class=\"dataframe\">\n",
       "  <thead>\n",
       "    <tr style=\"text-align: right;\">\n",
       "      <th></th>\n",
       "      <th>host_total_listings_count</th>\n",
       "      <th>price</th>\n",
       "    </tr>\n",
       "  </thead>\n",
       "  <tbody>\n",
       "    <tr>\n",
       "      <th>103</th>\n",
       "      <td>NaN</td>\n",
       "      <td>57.0</td>\n",
       "    </tr>\n",
       "    <tr>\n",
       "      <th>101</th>\n",
       "      <td>NaN</td>\n",
       "      <td>60.0</td>\n",
       "    </tr>\n",
       "    <tr>\n",
       "      <th>96</th>\n",
       "      <td>NaN</td>\n",
       "      <td>105.5</td>\n",
       "    </tr>\n",
       "    <tr>\n",
       "      <th>95</th>\n",
       "      <td>NaN</td>\n",
       "      <td>198.0</td>\n",
       "    </tr>\n",
       "    <tr>\n",
       "      <th>102</th>\n",
       "      <td>NaN</td>\n",
       "      <td>244.0</td>\n",
       "    </tr>\n",
       "    <tr>\n",
       "      <th>51</th>\n",
       "      <td>58.0</td>\n",
       "      <td>NaN</td>\n",
       "    </tr>\n",
       "    <tr>\n",
       "      <th>46</th>\n",
       "      <td>48.0</td>\n",
       "      <td>NaN</td>\n",
       "    </tr>\n",
       "    <tr>\n",
       "      <th>72</th>\n",
       "      <td>112.0</td>\n",
       "      <td>NaN</td>\n",
       "    </tr>\n",
       "    <tr>\n",
       "      <th>100</th>\n",
       "      <td>NaN</td>\n",
       "      <td>NaN</td>\n",
       "    </tr>\n",
       "    <tr>\n",
       "      <th>79</th>\n",
       "      <td>129.0</td>\n",
       "      <td>NaN</td>\n",
       "    </tr>\n",
       "    <tr>\n",
       "      <th>92</th>\n",
       "      <td>211.0</td>\n",
       "      <td>NaN</td>\n",
       "    </tr>\n",
       "    <tr>\n",
       "      <th>90</th>\n",
       "      <td>193.0</td>\n",
       "      <td>NaN</td>\n",
       "    </tr>\n",
       "    <tr>\n",
       "      <th>97</th>\n",
       "      <td>NaN</td>\n",
       "      <td>NaN</td>\n",
       "    </tr>\n",
       "    <tr>\n",
       "      <th>98</th>\n",
       "      <td>NaN</td>\n",
       "      <td>NaN</td>\n",
       "    </tr>\n",
       "    <tr>\n",
       "      <th>99</th>\n",
       "      <td>NaN</td>\n",
       "      <td>NaN</td>\n",
       "    </tr>\n",
       "  </tbody>\n",
       "</table>\n",
       "</div>"
      ],
      "text/plain": [
       "     host_total_listings_count  price\n",
       "103                        NaN   57.0\n",
       "101                        NaN   60.0\n",
       "96                         NaN  105.5\n",
       "95                         NaN  198.0\n",
       "102                        NaN  244.0\n",
       "51                        58.0    NaN\n",
       "46                        48.0    NaN\n",
       "72                       112.0    NaN\n",
       "100                        NaN    NaN\n",
       "79                       129.0    NaN\n",
       "92                       211.0    NaN\n",
       "90                       193.0    NaN\n",
       "97                         NaN    NaN\n",
       "98                         NaN    NaN\n",
       "99                         NaN    NaN"
      ]
     },
     "execution_count": 31,
     "metadata": {},
     "output_type": "execute_result"
    }
   ],
   "source": [
    "total_listings[total_listings.isna().any(axis = 1)]"
   ]
  },
  {
   "cell_type": "markdown",
   "id": "10acd589-6f07-45e9-bd61-252f7df6ca4f",
   "metadata": {},
   "source": [
    "Plot a scatter plot of total listings per host vs median price (after removing outliers)"
   ]
  },
  {
   "cell_type": "code",
   "execution_count": 32,
   "id": "00ae00f4-9597-4b0f-8349-2f4e3633813e",
   "metadata": {},
   "outputs": [
    {
     "data": {
      "image/png": "[encoded data removed]",
      "text/plain": [
       "<Figure size 576x432 with 1 Axes>"
      ]
     },
     "metadata": {
      "needs_background": "light"
     },
     "output_type": "display_data"
    }
   ],
   "source": [
    "fig, ax = plt.subplots(figsize=[8, 6])\n",
    "plt.scatter(total_listings['host_total_listings_count'], total_listings['price'], color='olivedrab')\n",
    "plt.title('Total Listings vs Price')\n",
    "plt.xlabel('Total Listings Per Host')\n",
    "plt.ylabel('Median Price')\n",
    "plt.show()     "
   ]
  },
  {
   "cell_type": "markdown",
   "id": "4dcda17e-6263-4674-a383-2c6cf9f2e1b6",
   "metadata": {},
   "source": [
    "Adding a line of best fit to determine the linear correlation between total listings per host and median prices\n",
    "   \n",
    "   - Drop NaN values first"
   ]
  },
  {
   "cell_type": "code",
   "execution_count": 33,
   "id": "91786fd0-7215-4ee7-a4a8-9c8ca6171179",
   "metadata": {},
   "outputs": [],
   "source": [
    "total_listings2 = total_listings.dropna()"
   ]
  },
  {
   "cell_type": "code",
   "execution_count": 34,
   "id": "f4895f06-0214-4dd8-9805-5859d99a8508",
   "metadata": {},
   "outputs": [
    {
     "data": {
      "image/png": "[encoded data removed]",
      "text/plain": [
       "<Figure size 504x360 with 1 Axes>"
      ]
     },
     "metadata": {
      "needs_background": "light"
     },
     "output_type": "display_data"
    }
   ],
   "source": [
    "a, b = np.polyfit(total_listings2['host_total_listings_count'], total_listings2['price'], 1)\n",
    "fig, ax = plt.subplots(figsize=[7, 5])\n",
    "plt.scatter(total_listings2['host_total_listings_count'], total_listings2['price'], color='olivedrab')\n",
    "plt.plot(total_listings2['host_total_listings_count'], a*total_listings2['host_total_listings_count']+b, color='black')\n",
    "plt.title('Listings Prices')\n",
    "plt.xlabel('Total Listings Per Host')\n",
    "plt.ylabel('Median Price')\n",
    "plt.show()"
   ]
  },
  {
   "cell_type": "markdown",
   "id": "964b81f0-1e78-467b-a09b-dfa8052cd0f3",
   "metadata": {},
   "source": [
    "<a id=\"Accommodates\"></a>\n",
    "## Number of Guests Accommodated"
   ]
  },
  {
   "cell_type": "markdown",
   "id": "8529386d-065a-4fb7-afc3-7c5639897954",
   "metadata": {},
   "source": [
    "Plot a bar chart of number of guests accommodated vs median price"
   ]
  },
  {
   "cell_type": "code",
   "execution_count": 35,
   "id": "2b71567a-cf00-4b83-9f8d-374cedaca503",
   "metadata": {},
   "outputs": [
    {
     "data": {
      "image/png": "[encoded data removed]",
      "text/plain": [
       "<Figure size 720x360 with 1 Axes>"
      ]
     },
     "metadata": {
      "needs_background": "light"
     },
     "output_type": "display_data"
    }
   ],
   "source": [
    "plt.figure(figsize=(10,5))\n",
    "df.groupby(\"accommodates\").price.median().plot(kind=\"bar\")\n",
    "plt.title(\"Median price of Airbnbs accommodating different number of guests\", fontsize=14)\n",
    "plt.xlabel(\"Number of guests accommodated\", fontsize=13)\n",
    "plt.ylabel(\"Median Price\", fontsize=13)\n",
    "plt.xticks(rotation=0)\n",
    "plt.xlim(left=0.5)\n",
    "plt.show()"
   ]
  },
  {
   "cell_type": "markdown",
   "id": "49be4a3b-7594-4a45-a505-e591a7ef62d9",
   "metadata": {},
   "source": [
    "<a id=\"Neighbourhood\"></a>\n",
    "## Neighbourhood"
   ]
  },
  {
   "cell_type": "code",
   "execution_count": 36,
   "id": "0caa390d-6b70-4649-a387-4729f3a60166",
   "metadata": {},
   "outputs": [
    {
     "data": {
      "text/html": [
       "<div>\n",
       "<style scoped>\n",
       "    .dataframe tbody tr th:only-of-type {\n",
       "        vertical-align: middle;\n",
       "    }\n",
       "\n",
       "    .dataframe tbody tr th {\n",
       "        vertical-align: top;\n",
       "    }\n",
       "\n",
       "    .dataframe thead th {\n",
       "        text-align: right;\n",
       "    }\n",
       "</style>\n",
       "<table border=\"1\" class=\"dataframe\">\n",
       "  <thead>\n",
       "    <tr style=\"text-align: right;\">\n",
       "      <th></th>\n",
       "      <th>neighbourhood_cleansed</th>\n",
       "      <th>latitude</th>\n",
       "      <th>longitude</th>\n",
       "    </tr>\n",
       "  </thead>\n",
       "  <tbody>\n",
       "    <tr>\n",
       "      <th>0</th>\n",
       "      <td>Islington</td>\n",
       "      <td>51.568610</td>\n",
       "      <td>-0.112700</td>\n",
       "    </tr>\n",
       "    <tr>\n",
       "      <th>1</th>\n",
       "      <td>Kensington and Chelsea</td>\n",
       "      <td>51.487800</td>\n",
       "      <td>-0.168130</td>\n",
       "    </tr>\n",
       "    <tr>\n",
       "      <th>2</th>\n",
       "      <td>Westminster</td>\n",
       "      <td>51.521950</td>\n",
       "      <td>-0.140940</td>\n",
       "    </tr>\n",
       "    <tr>\n",
       "      <th>3</th>\n",
       "      <td>Hammersmith and Fulham</td>\n",
       "      <td>51.479350</td>\n",
       "      <td>-0.197430</td>\n",
       "    </tr>\n",
       "    <tr>\n",
       "      <th>4</th>\n",
       "      <td>Barnet</td>\n",
       "      <td>51.574380</td>\n",
       "      <td>-0.210810</td>\n",
       "    </tr>\n",
       "    <tr>\n",
       "      <th>...</th>\n",
       "      <td>...</td>\n",
       "      <td>...</td>\n",
       "      <td>...</td>\n",
       "    </tr>\n",
       "    <tr>\n",
       "      <th>66636</th>\n",
       "      <td>Croydon</td>\n",
       "      <td>51.419345</td>\n",
       "      <td>-0.079681</td>\n",
       "    </tr>\n",
       "    <tr>\n",
       "      <th>66637</th>\n",
       "      <td>Ealing</td>\n",
       "      <td>51.502002</td>\n",
       "      <td>-0.276895</td>\n",
       "    </tr>\n",
       "    <tr>\n",
       "      <th>66638</th>\n",
       "      <td>Haringey</td>\n",
       "      <td>51.599308</td>\n",
       "      <td>-0.114763</td>\n",
       "    </tr>\n",
       "    <tr>\n",
       "      <th>66639</th>\n",
       "      <td>Kensington and Chelsea</td>\n",
       "      <td>51.510407</td>\n",
       "      <td>-0.193729</td>\n",
       "    </tr>\n",
       "    <tr>\n",
       "      <th>66640</th>\n",
       "      <td>Southwark</td>\n",
       "      <td>51.491864</td>\n",
       "      <td>-0.098225</td>\n",
       "    </tr>\n",
       "  </tbody>\n",
       "</table>\n",
       "<p>66641 rows × 3 columns</p>\n",
       "</div>"
      ],
      "text/plain": [
       "       neighbourhood_cleansed   latitude  longitude\n",
       "0                   Islington  51.568610  -0.112700\n",
       "1      Kensington and Chelsea  51.487800  -0.168130\n",
       "2                 Westminster  51.521950  -0.140940\n",
       "3      Hammersmith and Fulham  51.479350  -0.197430\n",
       "4                      Barnet  51.574380  -0.210810\n",
       "...                       ...        ...        ...\n",
       "66636                 Croydon  51.419345  -0.079681\n",
       "66637                  Ealing  51.502002  -0.276895\n",
       "66638                Haringey  51.599308  -0.114763\n",
       "66639  Kensington and Chelsea  51.510407  -0.193729\n",
       "66640               Southwark  51.491864  -0.098225\n",
       "\n",
       "[66641 rows x 3 columns]"
      ]
     },
     "execution_count": 36,
     "metadata": {},
     "output_type": "execute_result"
    }
   ],
   "source": [
    "col = [\n",
    "    \"neighbourhood_cleansed\",\n",
    "    \"latitude\",\n",
    "    \"longitude\"\n",
    "]\n",
    "\n",
    "geo_df = pd.read_csv(\"/Users/joelle/Downloads/listings 2.csv\", usecols=col)\n",
    "geo_df"
   ]
  },
  {
   "cell_type": "code",
   "execution_count": 37,
   "id": "c7fc40f6-b585-47c6-979f-55b886a4ea25",
   "metadata": {},
   "outputs": [],
   "source": [
    "import geopandas as gpd\n",
    "from shapely.geometry import Polygon "
   ]
  },
  {
   "cell_type": "markdown",
   "id": "561f9a39-338c-48a7-bca5-03dbfe78a02a",
   "metadata": {},
   "source": [
    "geo_df = gpd.GeoDataFrame(geometry = geo_df.groupby(\"neighbourhood_cleansed\").apply(\n",
    "      lambda g: Polygon(gpd.points_from_xy(geo_df[\"latitude\"], geo_df[\"longitude\"]))))"
   ]
  },
  {
   "cell_type": "markdown",
   "id": "3505d85f-8163-4637-b4ac-00f0aa978706",
   "metadata": {},
   "source": [
    "Creating a dataframe displaying the precise location of Airbnb listings according to their map coordinates "
   ]
  },
  {
   "cell_type": "code",
   "execution_count": 38,
   "id": "29751191-2b20-4864-bcf7-d77ce36b17cc",
   "metadata": {},
   "outputs": [],
   "source": [
    "gdf = gpd.GeoDataFrame(\n",
    "    geo_df, geometry = gpd.points_from_xy(geo_df[\"longitude\"], geo_df[\"latitude\"]))"
   ]
  },
  {
   "cell_type": "code",
   "execution_count": 39,
   "id": "efb7d585-0427-43c8-a0f5-7e3898267eeb",
   "metadata": {},
   "outputs": [
    {
     "data": {
      "text/html": [
       "<div>\n",
       "<style scoped>\n",
       "    .dataframe tbody tr th:only-of-type {\n",
       "        vertical-align: middle;\n",
       "    }\n",
       "\n",
       "    .dataframe tbody tr th {\n",
       "        vertical-align: top;\n",
       "    }\n",
       "\n",
       "    .dataframe thead th {\n",
       "        text-align: right;\n",
       "    }\n",
       "</style>\n",
       "<table border=\"1\" class=\"dataframe\">\n",
       "  <thead>\n",
       "    <tr style=\"text-align: right;\">\n",
       "      <th></th>\n",
       "      <th>neighbourhood_cleansed</th>\n",
       "      <th>latitude</th>\n",
       "      <th>longitude</th>\n",
       "      <th>geometry</th>\n",
       "    </tr>\n",
       "  </thead>\n",
       "  <tbody>\n",
       "    <tr>\n",
       "      <th>0</th>\n",
       "      <td>Islington</td>\n",
       "      <td>51.568610</td>\n",
       "      <td>-0.112700</td>\n",
       "      <td>POINT (-0.11270 51.56861)</td>\n",
       "    </tr>\n",
       "    <tr>\n",
       "      <th>1</th>\n",
       "      <td>Kensington and Chelsea</td>\n",
       "      <td>51.487800</td>\n",
       "      <td>-0.168130</td>\n",
       "      <td>POINT (-0.16813 51.48780)</td>\n",
       "    </tr>\n",
       "    <tr>\n",
       "      <th>2</th>\n",
       "      <td>Westminster</td>\n",
       "      <td>51.521950</td>\n",
       "      <td>-0.140940</td>\n",
       "      <td>POINT (-0.14094 51.52195)</td>\n",
       "    </tr>\n",
       "    <tr>\n",
       "      <th>3</th>\n",
       "      <td>Hammersmith and Fulham</td>\n",
       "      <td>51.479350</td>\n",
       "      <td>-0.197430</td>\n",
       "      <td>POINT (-0.19743 51.47935)</td>\n",
       "    </tr>\n",
       "    <tr>\n",
       "      <th>4</th>\n",
       "      <td>Barnet</td>\n",
       "      <td>51.574380</td>\n",
       "      <td>-0.210810</td>\n",
       "      <td>POINT (-0.21081 51.57438)</td>\n",
       "    </tr>\n",
       "    <tr>\n",
       "      <th>...</th>\n",
       "      <td>...</td>\n",
       "      <td>...</td>\n",
       "      <td>...</td>\n",
       "      <td>...</td>\n",
       "    </tr>\n",
       "    <tr>\n",
       "      <th>66636</th>\n",
       "      <td>Croydon</td>\n",
       "      <td>51.419345</td>\n",
       "      <td>-0.079681</td>\n",
       "      <td>POINT (-0.07968 51.41935)</td>\n",
       "    </tr>\n",
       "    <tr>\n",
       "      <th>66637</th>\n",
       "      <td>Ealing</td>\n",
       "      <td>51.502002</td>\n",
       "      <td>-0.276895</td>\n",
       "      <td>POINT (-0.27690 51.50200)</td>\n",
       "    </tr>\n",
       "    <tr>\n",
       "      <th>66638</th>\n",
       "      <td>Haringey</td>\n",
       "      <td>51.599308</td>\n",
       "      <td>-0.114763</td>\n",
       "      <td>POINT (-0.11476 51.59931)</td>\n",
       "    </tr>\n",
       "    <tr>\n",
       "      <th>66639</th>\n",
       "      <td>Kensington and Chelsea</td>\n",
       "      <td>51.510407</td>\n",
       "      <td>-0.193729</td>\n",
       "      <td>POINT (-0.19373 51.51041)</td>\n",
       "    </tr>\n",
       "    <tr>\n",
       "      <th>66640</th>\n",
       "      <td>Southwark</td>\n",
       "      <td>51.491864</td>\n",
       "      <td>-0.098225</td>\n",
       "      <td>POINT (-0.09823 51.49186)</td>\n",
       "    </tr>\n",
       "  </tbody>\n",
       "</table>\n",
       "<p>66641 rows × 4 columns</p>\n",
       "</div>"
      ],
      "text/plain": [
       "       neighbourhood_cleansed   latitude  longitude                   geometry\n",
       "0                   Islington  51.568610  -0.112700  POINT (-0.11270 51.56861)\n",
       "1      Kensington and Chelsea  51.487800  -0.168130  POINT (-0.16813 51.48780)\n",
       "2                 Westminster  51.521950  -0.140940  POINT (-0.14094 51.52195)\n",
       "3      Hammersmith and Fulham  51.479350  -0.197430  POINT (-0.19743 51.47935)\n",
       "4                      Barnet  51.574380  -0.210810  POINT (-0.21081 51.57438)\n",
       "...                       ...        ...        ...                        ...\n",
       "66636                 Croydon  51.419345  -0.079681  POINT (-0.07968 51.41935)\n",
       "66637                  Ealing  51.502002  -0.276895  POINT (-0.27690 51.50200)\n",
       "66638                Haringey  51.599308  -0.114763  POINT (-0.11476 51.59931)\n",
       "66639  Kensington and Chelsea  51.510407  -0.193729  POINT (-0.19373 51.51041)\n",
       "66640               Southwark  51.491864  -0.098225  POINT (-0.09823 51.49186)\n",
       "\n",
       "[66641 rows x 4 columns]"
      ]
     },
     "execution_count": 39,
     "metadata": {},
     "output_type": "execute_result"
    }
   ],
   "source": [
    "geo_df"
   ]
  },
  {
   "cell_type": "code",
   "execution_count": 40,
   "id": "5d43b01a-396d-4233-bef7-bfedbdfc437e",
   "metadata": {},
   "outputs": [
    {
     "data": {
      "text/html": [
       "<div>\n",
       "<style scoped>\n",
       "    .dataframe tbody tr th:only-of-type {\n",
       "        vertical-align: middle;\n",
       "    }\n",
       "\n",
       "    .dataframe tbody tr th {\n",
       "        vertical-align: top;\n",
       "    }\n",
       "\n",
       "    .dataframe thead th {\n",
       "        text-align: right;\n",
       "    }\n",
       "</style>\n",
       "<table border=\"1\" class=\"dataframe\">\n",
       "  <thead>\n",
       "    <tr style=\"text-align: right;\">\n",
       "      <th></th>\n",
       "      <th>latitude</th>\n",
       "      <th>longitude</th>\n",
       "      <th>geometry</th>\n",
       "    </tr>\n",
       "    <tr>\n",
       "      <th>borough</th>\n",
       "      <th></th>\n",
       "      <th></th>\n",
       "      <th></th>\n",
       "    </tr>\n",
       "  </thead>\n",
       "  <tbody>\n",
       "    <tr>\n",
       "      <th>Islington</th>\n",
       "      <td>51.568610</td>\n",
       "      <td>-0.112700</td>\n",
       "      <td>POINT (-0.11270 51.56861)</td>\n",
       "    </tr>\n",
       "    <tr>\n",
       "      <th>Kensington and Chelsea</th>\n",
       "      <td>51.487800</td>\n",
       "      <td>-0.168130</td>\n",
       "      <td>POINT (-0.16813 51.48780)</td>\n",
       "    </tr>\n",
       "    <tr>\n",
       "      <th>Westminster</th>\n",
       "      <td>51.521950</td>\n",
       "      <td>-0.140940</td>\n",
       "      <td>POINT (-0.14094 51.52195)</td>\n",
       "    </tr>\n",
       "    <tr>\n",
       "      <th>Hammersmith and Fulham</th>\n",
       "      <td>51.479350</td>\n",
       "      <td>-0.197430</td>\n",
       "      <td>POINT (-0.19743 51.47935)</td>\n",
       "    </tr>\n",
       "    <tr>\n",
       "      <th>Barnet</th>\n",
       "      <td>51.574380</td>\n",
       "      <td>-0.210810</td>\n",
       "      <td>POINT (-0.21081 51.57438)</td>\n",
       "    </tr>\n",
       "    <tr>\n",
       "      <th>...</th>\n",
       "      <td>...</td>\n",
       "      <td>...</td>\n",
       "      <td>...</td>\n",
       "    </tr>\n",
       "    <tr>\n",
       "      <th>Croydon</th>\n",
       "      <td>51.419345</td>\n",
       "      <td>-0.079681</td>\n",
       "      <td>POINT (-0.07968 51.41935)</td>\n",
       "    </tr>\n",
       "    <tr>\n",
       "      <th>Ealing</th>\n",
       "      <td>51.502002</td>\n",
       "      <td>-0.276895</td>\n",
       "      <td>POINT (-0.27690 51.50200)</td>\n",
       "    </tr>\n",
       "    <tr>\n",
       "      <th>Haringey</th>\n",
       "      <td>51.599308</td>\n",
       "      <td>-0.114763</td>\n",
       "      <td>POINT (-0.11476 51.59931)</td>\n",
       "    </tr>\n",
       "    <tr>\n",
       "      <th>Kensington and Chelsea</th>\n",
       "      <td>51.510407</td>\n",
       "      <td>-0.193729</td>\n",
       "      <td>POINT (-0.19373 51.51041)</td>\n",
       "    </tr>\n",
       "    <tr>\n",
       "      <th>Southwark</th>\n",
       "      <td>51.491864</td>\n",
       "      <td>-0.098225</td>\n",
       "      <td>POINT (-0.09823 51.49186)</td>\n",
       "    </tr>\n",
       "  </tbody>\n",
       "</table>\n",
       "<p>66641 rows × 3 columns</p>\n",
       "</div>"
      ],
      "text/plain": [
       "                         latitude  longitude                   geometry\n",
       "borough                                                                \n",
       "Islington               51.568610  -0.112700  POINT (-0.11270 51.56861)\n",
       "Kensington and Chelsea  51.487800  -0.168130  POINT (-0.16813 51.48780)\n",
       "Westminster             51.521950  -0.140940  POINT (-0.14094 51.52195)\n",
       "Hammersmith and Fulham  51.479350  -0.197430  POINT (-0.19743 51.47935)\n",
       "Barnet                  51.574380  -0.210810  POINT (-0.21081 51.57438)\n",
       "...                           ...        ...                        ...\n",
       "Croydon                 51.419345  -0.079681  POINT (-0.07968 51.41935)\n",
       "Ealing                  51.502002  -0.276895  POINT (-0.27690 51.50200)\n",
       "Haringey                51.599308  -0.114763  POINT (-0.11476 51.59931)\n",
       "Kensington and Chelsea  51.510407  -0.193729  POINT (-0.19373 51.51041)\n",
       "Southwark               51.491864  -0.098225  POINT (-0.09823 51.49186)\n",
       "\n",
       "[66641 rows x 3 columns]"
      ]
     },
     "execution_count": 40,
     "metadata": {},
     "output_type": "execute_result"
    }
   ],
   "source": [
    "geo_df = geo_df.set_index(\"neighbourhood_cleansed\")\n",
    "geo_df = geo_df.rename_axis(\"borough\")\n",
    "geo_df"
   ]
  },
  {
   "cell_type": "code",
   "execution_count": 41,
   "id": "933f22ca-a29f-4868-a89f-869e26db7078",
   "metadata": {},
   "outputs": [
    {
     "data": {
      "text/html": [
       "<div>\n",
       "<style scoped>\n",
       "    .dataframe tbody tr th:only-of-type {\n",
       "        vertical-align: middle;\n",
       "    }\n",
       "\n",
       "    .dataframe tbody tr th {\n",
       "        vertical-align: top;\n",
       "    }\n",
       "\n",
       "    .dataframe thead th {\n",
       "        text-align: right;\n",
       "    }\n",
       "</style>\n",
       "<table border=\"1\" class=\"dataframe\">\n",
       "  <thead>\n",
       "    <tr style=\"text-align: right;\">\n",
       "      <th></th>\n",
       "      <th>latitude</th>\n",
       "      <th>longitude</th>\n",
       "      <th>geometry</th>\n",
       "      <th>number_of_listings</th>\n",
       "      <th>median_price</th>\n",
       "    </tr>\n",
       "    <tr>\n",
       "      <th>borough</th>\n",
       "      <th></th>\n",
       "      <th></th>\n",
       "      <th></th>\n",
       "      <th></th>\n",
       "      <th></th>\n",
       "    </tr>\n",
       "  </thead>\n",
       "  <tbody>\n",
       "    <tr>\n",
       "      <th>Barking and Dagenham</th>\n",
       "      <td>51.534300</td>\n",
       "      <td>0.081780</td>\n",
       "      <td>POINT (0.08178 51.53430)</td>\n",
       "      <td>410</td>\n",
       "      <td>50.0</td>\n",
       "    </tr>\n",
       "    <tr>\n",
       "      <th>Barking and Dagenham</th>\n",
       "      <td>51.540720</td>\n",
       "      <td>0.152460</td>\n",
       "      <td>POINT (0.15246 51.54072)</td>\n",
       "      <td>410</td>\n",
       "      <td>50.0</td>\n",
       "    </tr>\n",
       "    <tr>\n",
       "      <th>Barking and Dagenham</th>\n",
       "      <td>51.526100</td>\n",
       "      <td>0.118980</td>\n",
       "      <td>POINT (0.11898 51.52610)</td>\n",
       "      <td>410</td>\n",
       "      <td>50.0</td>\n",
       "    </tr>\n",
       "    <tr>\n",
       "      <th>Barking and Dagenham</th>\n",
       "      <td>51.554990</td>\n",
       "      <td>0.159270</td>\n",
       "      <td>POINT (0.15927 51.55499)</td>\n",
       "      <td>410</td>\n",
       "      <td>50.0</td>\n",
       "    </tr>\n",
       "    <tr>\n",
       "      <th>Barking and Dagenham</th>\n",
       "      <td>51.544850</td>\n",
       "      <td>0.162650</td>\n",
       "      <td>POINT (0.16265 51.54485)</td>\n",
       "      <td>410</td>\n",
       "      <td>50.0</td>\n",
       "    </tr>\n",
       "    <tr>\n",
       "      <th>...</th>\n",
       "      <td>...</td>\n",
       "      <td>...</td>\n",
       "      <td>...</td>\n",
       "      <td>...</td>\n",
       "      <td>...</td>\n",
       "    </tr>\n",
       "    <tr>\n",
       "      <th>Westminster</th>\n",
       "      <td>51.517561</td>\n",
       "      <td>-0.138529</td>\n",
       "      <td>POINT (-0.13853 51.51756)</td>\n",
       "      <td>7022</td>\n",
       "      <td>150.0</td>\n",
       "    </tr>\n",
       "    <tr>\n",
       "      <th>Westminster</th>\n",
       "      <td>51.517386</td>\n",
       "      <td>-0.169118</td>\n",
       "      <td>POINT (-0.16912 51.51739)</td>\n",
       "      <td>7022</td>\n",
       "      <td>150.0</td>\n",
       "    </tr>\n",
       "    <tr>\n",
       "      <th>Westminster</th>\n",
       "      <td>51.519200</td>\n",
       "      <td>-0.161710</td>\n",
       "      <td>POINT (-0.16171 51.51920)</td>\n",
       "      <td>7022</td>\n",
       "      <td>150.0</td>\n",
       "    </tr>\n",
       "    <tr>\n",
       "      <th>Westminster</th>\n",
       "      <td>51.495720</td>\n",
       "      <td>-0.149582</td>\n",
       "      <td>POINT (-0.14958 51.49572)</td>\n",
       "      <td>7022</td>\n",
       "      <td>150.0</td>\n",
       "    </tr>\n",
       "    <tr>\n",
       "      <th>Westminster</th>\n",
       "      <td>51.516027</td>\n",
       "      <td>-0.198119</td>\n",
       "      <td>POINT (-0.19812 51.51603)</td>\n",
       "      <td>7022</td>\n",
       "      <td>150.0</td>\n",
       "    </tr>\n",
       "  </tbody>\n",
       "</table>\n",
       "<p>66641 rows × 5 columns</p>\n",
       "</div>"
      ],
      "text/plain": [
       "                       latitude  longitude                   geometry  \\\n",
       "borough                                                                 \n",
       "Barking and Dagenham  51.534300   0.081780   POINT (0.08178 51.53430)   \n",
       "Barking and Dagenham  51.540720   0.152460   POINT (0.15246 51.54072)   \n",
       "Barking and Dagenham  51.526100   0.118980   POINT (0.11898 51.52610)   \n",
       "Barking and Dagenham  51.554990   0.159270   POINT (0.15927 51.55499)   \n",
       "Barking and Dagenham  51.544850   0.162650   POINT (0.16265 51.54485)   \n",
       "...                         ...        ...                        ...   \n",
       "Westminster           51.517561  -0.138529  POINT (-0.13853 51.51756)   \n",
       "Westminster           51.517386  -0.169118  POINT (-0.16912 51.51739)   \n",
       "Westminster           51.519200  -0.161710  POINT (-0.16171 51.51920)   \n",
       "Westminster           51.495720  -0.149582  POINT (-0.14958 51.49572)   \n",
       "Westminster           51.516027  -0.198119  POINT (-0.19812 51.51603)   \n",
       "\n",
       "                      number_of_listings  median_price  \n",
       "borough                                                 \n",
       "Barking and Dagenham                 410          50.0  \n",
       "Barking and Dagenham                 410          50.0  \n",
       "Barking and Dagenham                 410          50.0  \n",
       "Barking and Dagenham                 410          50.0  \n",
       "Barking and Dagenham                 410          50.0  \n",
       "...                                  ...           ...  \n",
       "Westminster                         7022         150.0  \n",
       "Westminster                         7022         150.0  \n",
       "Westminster                         7022         150.0  \n",
       "Westminster                         7022         150.0  \n",
       "Westminster                         7022         150.0  \n",
       "\n",
       "[66641 rows x 5 columns]"
      ]
     },
     "execution_count": 41,
     "metadata": {},
     "output_type": "execute_result"
    }
   ],
   "source": [
    "borough_df = pd.DataFrame(geo_df.groupby(\"borough\").size())\n",
    "borough_df.rename(columns = {0: \"number_of_listings\"}, inplace = True)\n",
    "borough_df['median_price'] = df.groupby(\"neighbourhood\").price.median().values\n",
    "\n",
    "# Joining the dataframes\n",
    "borough_map_df = geo_df.join(borough_df)\n",
    "borough_map_df"
   ]
  },
  {
   "cell_type": "markdown",
   "id": "5173cf2a-40ee-40c9-9ed5-ab3d15a3939f",
   "metadata": {},
   "source": [
    "Plotting a map to show the median prices of listings according to location "
   ]
  },
  {
   "cell_type": "code",
   "execution_count": 42,
   "id": "74a556d5-cb76-4f83-ad35-e3487110055a",
   "metadata": {},
   "outputs": [
    {
     "data": {
      "image/png": "[encoded data removed]",
      "text/plain": [
       "<Figure size 1008x360 with 2 Axes>"
      ]
     },
     "metadata": {
      "needs_background": "light"
     },
     "output_type": "display_data"
    },
    {
     "data": {
      "image/png": "[encoded data removed]",
      "text/plain": [
       "<Figure size 1008x360 with 2 Axes>"
      ]
     },
     "metadata": {
      "needs_background": "light"
     },
     "output_type": "display_data"
    }
   ],
   "source": [
    "from geopandas import GeoDataFrame\n",
    "\n",
    "# Finding number of Airbnb listings in each London borough\n",
    "borough_map_df = GeoDataFrame(borough_map_df)\n",
    "fig1, ax1 = plt.subplots(1, figsize = (14, 5))\n",
    "borough_map_df.plot(column = \"number_of_listings\", cmap = \"Blues\", ax = ax1)\n",
    "ax1.axis('off')\n",
    "ax1.set_title(\"Number of Airbnb listings\", fontsize = 14)\n",
    "sm = plt.cm.ScalarMappable(cmap = \"Blues\", norm = plt.Normalize(vmin = 0, vmax = 9000))\n",
    "sm._A = [] # Creates an empty array for the data range\n",
    "cbar = fig1.colorbar(sm)\n",
    "plt.show()\n",
    "\n",
    "# Finding median price of Airbnb listings in each London Borough\n",
    "fig2, ax2 = plt.subplots(1, figsize=(14, 5))\n",
    "borough_map_df.plot(column = \"median_price\", cmap = \"Blues\", ax = ax2)\n",
    "ax2.axis(\"off\")\n",
    "ax2.set_title(\"Median price of Airbnb listings\", fontsize = 14)\n",
    "sm = plt.cm.ScalarMappable(cmap = \"Blues\", norm = plt.Normalize(vmin = min(borough_map_df.median_price), vmax = max(borough_map_df.median_price)))\n",
    "sm._A = [] # Creates an empty array for the data range\n",
    "cbar = fig2.colorbar(sm)\n",
    "plt.show()"
   ]
  },
  {
   "cell_type": "markdown",
   "id": "ab0c5e10-04b2-4d7f-bd36-d3aa130daa2f",
   "metadata": {},
   "source": [
    "Plot a bar chart of neighbourhood vs median price"
   ]
  },
  {
   "cell_type": "code",
   "execution_count": 43,
   "id": "d0b7ce2c-bf58-4994-be74-ce09d41bb472",
   "metadata": {},
   "outputs": [
    {
     "data": {
      "text/html": [
       "<div>\n",
       "<style scoped>\n",
       "    .dataframe tbody tr th:only-of-type {\n",
       "        vertical-align: middle;\n",
       "    }\n",
       "\n",
       "    .dataframe tbody tr th {\n",
       "        vertical-align: top;\n",
       "    }\n",
       "\n",
       "    .dataframe thead th {\n",
       "        text-align: right;\n",
       "    }\n",
       "</style>\n",
       "<table border=\"1\" class=\"dataframe\">\n",
       "  <thead>\n",
       "    <tr style=\"text-align: right;\">\n",
       "      <th></th>\n",
       "      <th>neighbourhood</th>\n",
       "      <th>price</th>\n",
       "    </tr>\n",
       "  </thead>\n",
       "  <tbody>\n",
       "    <tr>\n",
       "      <th>19</th>\n",
       "      <td>Kensington and Chelsea</td>\n",
       "      <td>151.0</td>\n",
       "    </tr>\n",
       "    <tr>\n",
       "      <th>6</th>\n",
       "      <td>City of London</td>\n",
       "      <td>151.0</td>\n",
       "    </tr>\n",
       "    <tr>\n",
       "      <th>32</th>\n",
       "      <td>Westminster</td>\n",
       "      <td>150.0</td>\n",
       "    </tr>\n",
       "    <tr>\n",
       "      <th>5</th>\n",
       "      <td>Camden</td>\n",
       "      <td>103.0</td>\n",
       "    </tr>\n",
       "    <tr>\n",
       "      <th>12</th>\n",
       "      <td>Hammersmith and Fulham</td>\n",
       "      <td>100.0</td>\n",
       "    </tr>\n",
       "    <tr>\n",
       "      <th>26</th>\n",
       "      <td>Richmond upon Thames</td>\n",
       "      <td>98.0</td>\n",
       "    </tr>\n",
       "    <tr>\n",
       "      <th>18</th>\n",
       "      <td>Islington</td>\n",
       "      <td>90.0</td>\n",
       "    </tr>\n",
       "    <tr>\n",
       "      <th>31</th>\n",
       "      <td>Wandsworth</td>\n",
       "      <td>90.0</td>\n",
       "    </tr>\n",
       "    <tr>\n",
       "      <th>27</th>\n",
       "      <td>Southwark</td>\n",
       "      <td>85.0</td>\n",
       "    </tr>\n",
       "    <tr>\n",
       "      <th>23</th>\n",
       "      <td>Merton</td>\n",
       "      <td>80.0</td>\n",
       "    </tr>\n",
       "    <tr>\n",
       "      <th>11</th>\n",
       "      <td>Hackney</td>\n",
       "      <td>76.0</td>\n",
       "    </tr>\n",
       "    <tr>\n",
       "      <th>21</th>\n",
       "      <td>Lambeth</td>\n",
       "      <td>75.0</td>\n",
       "    </tr>\n",
       "    <tr>\n",
       "      <th>29</th>\n",
       "      <td>Tower Hamlets</td>\n",
       "      <td>75.0</td>\n",
       "    </tr>\n",
       "    <tr>\n",
       "      <th>3</th>\n",
       "      <td>Brent</td>\n",
       "      <td>71.0</td>\n",
       "    </tr>\n",
       "    <tr>\n",
       "      <th>10</th>\n",
       "      <td>Greenwich</td>\n",
       "      <td>70.0</td>\n",
       "    </tr>\n",
       "    <tr>\n",
       "      <th>1</th>\n",
       "      <td>Barnet</td>\n",
       "      <td>66.0</td>\n",
       "    </tr>\n",
       "    <tr>\n",
       "      <th>17</th>\n",
       "      <td>Hounslow</td>\n",
       "      <td>65.0</td>\n",
       "    </tr>\n",
       "    <tr>\n",
       "      <th>20</th>\n",
       "      <td>Kingston upon Thames</td>\n",
       "      <td>65.0</td>\n",
       "    </tr>\n",
       "    <tr>\n",
       "      <th>8</th>\n",
       "      <td>Ealing</td>\n",
       "      <td>60.0</td>\n",
       "    </tr>\n",
       "    <tr>\n",
       "      <th>24</th>\n",
       "      <td>Newham</td>\n",
       "      <td>60.0</td>\n",
       "    </tr>\n",
       "    <tr>\n",
       "      <th>15</th>\n",
       "      <td>Havering</td>\n",
       "      <td>60.0</td>\n",
       "    </tr>\n",
       "    <tr>\n",
       "      <th>4</th>\n",
       "      <td>Bromley</td>\n",
       "      <td>56.0</td>\n",
       "    </tr>\n",
       "    <tr>\n",
       "      <th>22</th>\n",
       "      <td>Lewisham</td>\n",
       "      <td>55.0</td>\n",
       "    </tr>\n",
       "    <tr>\n",
       "      <th>30</th>\n",
       "      <td>Waltham Forest</td>\n",
       "      <td>55.0</td>\n",
       "    </tr>\n",
       "    <tr>\n",
       "      <th>14</th>\n",
       "      <td>Harrow</td>\n",
       "      <td>55.0</td>\n",
       "    </tr>\n",
       "    <tr>\n",
       "      <th>13</th>\n",
       "      <td>Haringey</td>\n",
       "      <td>55.0</td>\n",
       "    </tr>\n",
       "    <tr>\n",
       "      <th>9</th>\n",
       "      <td>Enfield</td>\n",
       "      <td>54.5</td>\n",
       "    </tr>\n",
       "    <tr>\n",
       "      <th>16</th>\n",
       "      <td>Hillingdon</td>\n",
       "      <td>51.5</td>\n",
       "    </tr>\n",
       "    <tr>\n",
       "      <th>28</th>\n",
       "      <td>Sutton</td>\n",
       "      <td>50.0</td>\n",
       "    </tr>\n",
       "    <tr>\n",
       "      <th>25</th>\n",
       "      <td>Redbridge</td>\n",
       "      <td>50.0</td>\n",
       "    </tr>\n",
       "    <tr>\n",
       "      <th>0</th>\n",
       "      <td>Barking and Dagenham</td>\n",
       "      <td>50.0</td>\n",
       "    </tr>\n",
       "    <tr>\n",
       "      <th>7</th>\n",
       "      <td>Croydon</td>\n",
       "      <td>48.0</td>\n",
       "    </tr>\n",
       "    <tr>\n",
       "      <th>2</th>\n",
       "      <td>Bexley</td>\n",
       "      <td>45.0</td>\n",
       "    </tr>\n",
       "  </tbody>\n",
       "</table>\n",
       "</div>"
      ],
      "text/plain": [
       "             neighbourhood  price\n",
       "19  Kensington and Chelsea  151.0\n",
       "6           City of London  151.0\n",
       "32             Westminster  150.0\n",
       "5                   Camden  103.0\n",
       "12  Hammersmith and Fulham  100.0\n",
       "26    Richmond upon Thames   98.0\n",
       "18               Islington   90.0\n",
       "31              Wandsworth   90.0\n",
       "27               Southwark   85.0\n",
       "23                  Merton   80.0\n",
       "11                 Hackney   76.0\n",
       "21                 Lambeth   75.0\n",
       "29           Tower Hamlets   75.0\n",
       "3                    Brent   71.0\n",
       "10               Greenwich   70.0\n",
       "1                   Barnet   66.0\n",
       "17                Hounslow   65.0\n",
       "20    Kingston upon Thames   65.0\n",
       "8                   Ealing   60.0\n",
       "24                  Newham   60.0\n",
       "15                Havering   60.0\n",
       "4                  Bromley   56.0\n",
       "22                Lewisham   55.0\n",
       "30          Waltham Forest   55.0\n",
       "14                  Harrow   55.0\n",
       "13                Haringey   55.0\n",
       "9                  Enfield   54.5\n",
       "16              Hillingdon   51.5\n",
       "28                  Sutton   50.0\n",
       "25               Redbridge   50.0\n",
       "0     Barking and Dagenham   50.0\n",
       "7                  Croydon   48.0\n",
       "2                   Bexley   45.0"
      ]
     },
     "execution_count": 43,
     "metadata": {},
     "output_type": "execute_result"
    }
   ],
   "source": [
    "neighbourhood = df.groupby(['neighbourhood'])['price'].median().reset_index()\n",
    "neighbourhood = neighbourhood.sort_values(by=['price'],ascending=False)\n",
    "neighbourhood"
   ]
  },
  {
   "cell_type": "code",
   "execution_count": 44,
   "id": "81857c2a-9d6b-4b02-a818-f04945e1a2fd",
   "metadata": {},
   "outputs": [
    {
     "data": {
      "image/png": "[encoded data removed]",
      "text/plain": [
       "<Figure size 720x504 with 1 Axes>"
      ]
     },
     "metadata": {
      "needs_background": "light"
     },
     "output_type": "display_data"
    }
   ],
   "source": [
    "fig, ax = plt.subplots(figsize=(10, 7))\n",
    "sns.barplot(x = 'price', y = 'neighbourhood', data = neighbourhood, ax = ax, color = 'cornflowerblue').set(xlabel = 'Median Price', ylabel = 'Neighbourhood', title = 'Listings Price in Neighbourhood');"
   ]
  },
  {
   "cell_type": "markdown",
   "id": "6ce64335-217b-4ce9-b1da-12fc102cfaee",
   "metadata": {},
   "source": [
    "<a id=\"Property\"></a>\n",
    "## Property Type"
   ]
  },
  {
   "cell_type": "markdown",
   "id": "ec7d309a-d826-4a53-beb9-e2b73613aecb",
   "metadata": {},
   "source": [
    "Calculate the number of property types"
   ]
  },
  {
   "cell_type": "code",
   "execution_count": 45,
   "id": "174a00cc-80a1-40c8-92d8-3ce89a89ff49",
   "metadata": {},
   "outputs": [
    {
     "data": {
      "text/plain": [
       "85"
      ]
     },
     "execution_count": 45,
     "metadata": {},
     "output_type": "execute_result"
    }
   ],
   "source": [
    "df[\"property_type\"].nunique()"
   ]
  },
  {
   "cell_type": "markdown",
   "id": "bf71c27b-8ea4-49b9-ac2f-920c06062716",
   "metadata": {},
   "source": [
    "Grouping property types into categories"
   ]
  },
  {
   "cell_type": "code",
   "execution_count": 46,
   "id": "7d193d27-449b-465c-b197-4dce91847070",
   "metadata": {},
   "outputs": [],
   "source": [
    "df.property_type.replace({\n",
    "    'Entire condominium (condo)': 'Attached',\n",
    "    'Private room in condominium (condo)': 'Attached',\n",
    "    'Entire serviced apartment': 'Attached', \n",
    "    'Room in aparthotel': 'Attached',\n",
    "    'Private room in hostel': 'Attached', \n",
    "    'Shared room in hostel': 'Attached',\n",
    "    'Room in serviced apartment':'Attached',\n",
    "    'Private room in serviced apartment': 'Attached',\n",
    "    'Room in hostel': 'Attached', \n",
    "    'Shared room in condominium (condo)': 'Attached',\n",
    "    'Shared room in serviced apartment': 'Attached',\n",
    "    'Room in serviced apartment': 'Attached',\n",
    "    'Room in boutique hotel': 'Attached', \n",
    "    'Room in hotel': 'Attached', \n",
    "    'Entire guest suite': 'Attached',\n",
    "    'Private room in guest suite': 'Attached',\n",
    "    'Private room in bed and breakfast': 'Attached',\n",
    "    'Private room in guesthouse': 'Attached',\n",
    "    'Entire guesthouse': 'Attached',\n",
    "    'Room in bed and breakfast': 'Attached',\n",
    "    'Private room in dome house': 'Attached',\n",
    "    'Shared room in hotel': 'Attached',\n",
    "    'Shared room in boutique hotel': 'Attached',\n",
    "    'Shared room in bed and breakfast': 'Attached',\n",
    "    'Shared room in guesthouse': 'Attached',\n",
    "    'Shared room': 'Attached',\n",
    "    'Shared room in guest suite': 'Attached',\n",
    "    'Private room': 'Attached',\n",
    "    }, inplace = True)"
   ]
  },
  {
   "cell_type": "code",
   "execution_count": 47,
   "id": "f5e9906b-e5c7-4bc3-80da-b341731ad7ea",
   "metadata": {},
   "outputs": [],
   "source": [
    "df.property_type.replace({\n",
    "    'Private room in townhouse': 'Freestanding',\n",
    "    'Entire townhouse': 'Freestanding',\n",
    "    'Shared room in townhouse': 'Freestanding',\n",
    "    'Entire rental unit': 'Freestanding',\n",
    "    'Private room in rental unit': 'Freestanding',\n",
    "    'Private room in residential home': 'Freestanding',\n",
    "    'Entire residential home': 'Freestanding',\n",
    "    'Shared room in rental unit': 'Freestanding',\n",
    "    'Shared room in residential home': 'Freestanding',\n",
    "    'Private room in bungalow': 'Freestanding',\n",
    "    'Entire cottage': 'Freestanding',\n",
    "    'Entire bungalow': 'Freestanding',\n",
    "    'Private room in cottage': 'Freestanding',\n",
    "    'Tiny house': 'Freestanding',\n",
    "    'Entire cabin': 'Freestanding',\n",
    "    'Entire home/apt': 'Freestanding',\n",
    "    'Private room in tiny house': 'Freestanding',\n",
    "    'Shared room in bungalow': 'Freestanding',\n",
    "    'Private room in cabin': 'Freestanding',\n",
    "    'Private room in farm stay': 'Freestanding',\n",
    "    'Shared room in farm stay': 'Freestanding',\n",
    "    'Room in rental unit': 'Freestanding',\n",
    "    'Earth house': 'Freestanding',\n",
    "    'Entire place': 'Freestanding',\n",
    "    }, inplace = True)"
   ]
  },
  {
   "cell_type": "code",
   "execution_count": 48,
   "id": "7483e94a-3d97-4838-a6b9-860eeb4acc01",
   "metadata": {},
   "outputs": [],
   "source": [
    "df.property_type.replace({\n",
    "    'Private room in casa particular': 'Luxury',\n",
    "    'Entire villa': 'Luxury',\n",
    "    'Private room in villa': 'Luxury',\n",
    "    'Entire vacation home': 'Luxury',\n",
    "    'Private room in vacation home': 'Luxury',\n",
    "    'Entire chalet': 'Luxury',\n",
    "    'Private room in chalet': 'Luxury',\n",
    "    'Casa particular': 'Luxury',\n",
    "    'Shared room in villa': 'Luxury',\n",
    "    }, inplace = True)\n",
    "\n",
    "df.loc[~df.property_type.isin(['Attached', 'Freestanding', 'Luxury']), 'property_type'] = 'Other'"
   ]
  },
  {
   "cell_type": "code",
   "execution_count": 49,
   "id": "804be26d-0b89-4371-b92c-530a950b5dd2",
   "metadata": {},
   "outputs": [],
   "source": [
    "def category_count_plot(col, figsize=(10,6)):\n",
    "    \"\"\"\n",
    "    Plots a simple bar chart of the total count for each category in the column specified.\n",
    "    \"\"\"\n",
    "    plt.figure(figsize=figsize)\n",
    "    df[col].value_counts().plot(kind='bar')\n",
    "    plt.title(col)\n",
    "    plt.xticks(rotation=0)\n",
    "    plt.show()"
   ]
  },
  {
   "cell_type": "markdown",
   "id": "c71aff36-785b-4487-be70-086737b5234f",
   "metadata": {},
   "source": [
    "Determine the number of listings for each property type"
   ]
  },
  {
   "cell_type": "code",
   "execution_count": 50,
   "id": "2b5c2663-aa37-477d-9c40-6646fbd0ac68",
   "metadata": {},
   "outputs": [
    {
     "data": {
      "image/png": "[encoded data removed]",
      "text/plain": [
       "<Figure size 288x216 with 1 Axes>"
      ]
     },
     "metadata": {
      "needs_background": "light"
     },
     "output_type": "display_data"
    },
    {
     "name": "stdout",
     "output_type": "stream",
     "text": [
      "Freestanding    0.862410\n",
      "Attached        0.125581\n",
      "Other           0.010233\n",
      "Luxury          0.001776\n",
      "Name: property_type, dtype: float64\n"
     ]
    }
   ],
   "source": [
    "for col in ['property_type']:\n",
    "    category_count_plot(col, figsize=(4,3))\n",
    "    print(df[col].value_counts(normalize=True))"
   ]
  },
  {
   "cell_type": "markdown",
   "id": "c2b48032-defe-4f3e-911d-0286f37596c4",
   "metadata": {},
   "source": [
    "Plot a bar chart of property type vs median price"
   ]
  },
  {
   "cell_type": "code",
   "execution_count": 51,
   "id": "39cf1ba4-7e47-4e0b-8367-2e71bdcf7766",
   "metadata": {},
   "outputs": [
    {
     "data": {
      "text/plain": [
       "(array([0, 1, 2, 3]),\n",
       " [Text(0, 0, 'Attached'),\n",
       "  Text(1, 0, 'Freestanding'),\n",
       "  Text(2, 0, 'Luxury'),\n",
       "  Text(3, 0, 'Other')])"
      ]
     },
     "execution_count": 51,
     "metadata": {},
     "output_type": "execute_result"
    },
    {
     "data": {
      "image/png": "[encoded data removed]",
      "text/plain": [
       "<Figure size 432x288 with 1 Axes>"
      ]
     },
     "metadata": {
      "needs_background": "light"
     },
     "output_type": "display_data"
    }
   ],
   "source": [
    "plt.figure(figsize=(6,4))\n",
    "df.groupby(\"property_type\").price.median().plot(kind=\"bar\", color='green')\n",
    "plt.title(\"Effect of Property Type on Price\", fontsize=14)\n",
    "plt.xlabel(\"Property Type\", fontsize=13)\n",
    "plt.ylabel(\"Median Price\", fontsize=13)\n",
    "plt.xticks(rotation = 0)"
   ]
  },
  {
   "cell_type": "markdown",
   "id": "da65e1a7-20ae-4e16-b345-5960b713ff5a",
   "metadata": {},
   "source": [
    "<a id=\"Room\"></a>\n",
    "## Room Type"
   ]
  },
  {
   "cell_type": "markdown",
   "id": "1a311e41-d09e-4408-972f-55dc6dcebf61",
   "metadata": {},
   "source": [
    "Replace Hotel room with Private room, since there are only 3 types of rooms shown on the Airbnb website."
   ]
  },
  {
   "cell_type": "code",
   "execution_count": 52,
   "id": "91798202-328b-4e37-97ee-b4f40db76470",
   "metadata": {},
   "outputs": [],
   "source": [
    "df.room_type.replace({\n",
    "    'Hotel room': 'Private room' \n",
    "    }, inplace=True)"
   ]
  },
  {
   "cell_type": "markdown",
   "id": "ea5cde1d-4fe3-4970-adfa-a00a557740ca",
   "metadata": {},
   "source": [
    "Determine the number of listings for each room type"
   ]
  },
  {
   "cell_type": "code",
   "execution_count": 53,
   "id": "508e27d9-63bf-4279-8a06-2ed17a5d35fd",
   "metadata": {},
   "outputs": [
    {
     "data": {
      "image/png": "[encoded data removed]",
      "text/plain": [
       "<Figure size 288x216 with 1 Axes>"
      ]
     },
     "metadata": {
      "needs_background": "light"
     },
     "output_type": "display_data"
    },
    {
     "name": "stdout",
     "output_type": "stream",
     "text": [
      "Entire home/apt    0.560677\n",
      "Private room       0.432592\n",
      "Shared room        0.006732\n",
      "Name: room_type, dtype: float64\n"
     ]
    }
   ],
   "source": [
    "for col in ['room_type']:\n",
    "    category_count_plot(col, figsize=(4,3))\n",
    "    print(df[col].value_counts(normalize=True))"
   ]
  },
  {
   "cell_type": "markdown",
   "id": "949bdcf1-3198-48af-acc7-8b07325c59a1",
   "metadata": {},
   "source": [
    "Plot a bar chart of room type vs median price"
   ]
  },
  {
   "cell_type": "code",
   "execution_count": 54,
   "id": "5cd248e5-491e-42c5-8ec0-e964d257422f",
   "metadata": {},
   "outputs": [
    {
     "data": {
      "text/plain": [
       "(array([0, 1, 2]),\n",
       " [Text(0, 0, 'Entire home/apt'),\n",
       "  Text(1, 0, 'Private room'),\n",
       "  Text(2, 0, 'Shared room')])"
      ]
     },
     "execution_count": 54,
     "metadata": {},
     "output_type": "execute_result"
    },
    {
     "data": {
      "image/png": "[encoded data removed]",
      "text/plain": [
       "<Figure size 432x288 with 1 Axes>"
      ]
     },
     "metadata": {
      "needs_background": "light"
     },
     "output_type": "display_data"
    }
   ],
   "source": [
    "plt.figure(figsize=(6,4))\n",
    "df.groupby(\"room_type\").price.median().plot(kind=\"bar\", color=\"green\")\n",
    "plt.title(\"Effect of Room Type on Price\", fontsize=14)\n",
    "plt.xlabel(\"Room Type\", fontsize=13)\n",
    "plt.ylabel(\"Median Price\", fontsize=13)\n",
    "plt.xticks(rotation = 0)"
   ]
  },
  {
   "cell_type": "markdown",
   "id": "68294e48-6dc5-4749-b7ab-7ed3a8187944",
   "metadata": {},
   "source": [
    "<a id=\"Beds\"></a>\n",
    "## Beds and Bedrooms"
   ]
  },
  {
   "cell_type": "code",
   "execution_count": 55,
   "id": "75ec2c60-9528-4857-a39a-8272fe0f0868",
   "metadata": {},
   "outputs": [
    {
     "data": {
      "text/html": [
       "<div>\n",
       "<style scoped>\n",
       "    .dataframe tbody tr th:only-of-type {\n",
       "        vertical-align: middle;\n",
       "    }\n",
       "\n",
       "    .dataframe tbody tr th {\n",
       "        vertical-align: top;\n",
       "    }\n",
       "\n",
       "    .dataframe thead th {\n",
       "        text-align: right;\n",
       "    }\n",
       "</style>\n",
       "<table border=\"1\" class=\"dataframe\">\n",
       "  <thead>\n",
       "    <tr style=\"text-align: right;\">\n",
       "      <th></th>\n",
       "      <th>beds</th>\n",
       "      <th>price</th>\n",
       "    </tr>\n",
       "  </thead>\n",
       "  <tbody>\n",
       "    <tr>\n",
       "      <th>21</th>\n",
       "      <td>24</td>\n",
       "      <td>1000.0</td>\n",
       "    </tr>\n",
       "    <tr>\n",
       "      <th>24</th>\n",
       "      <td>29</td>\n",
       "      <td>1000.0</td>\n",
       "    </tr>\n",
       "    <tr>\n",
       "      <th>19</th>\n",
       "      <td>20</td>\n",
       "      <td>1000.0</td>\n",
       "    </tr>\n",
       "    <tr>\n",
       "      <th>18</th>\n",
       "      <td>19</td>\n",
       "      <td>1000.0</td>\n",
       "    </tr>\n",
       "    <tr>\n",
       "      <th>17</th>\n",
       "      <td>18</td>\n",
       "      <td>1000.0</td>\n",
       "    </tr>\n",
       "    <tr>\n",
       "      <th>16</th>\n",
       "      <td>17</td>\n",
       "      <td>850.0</td>\n",
       "    </tr>\n",
       "    <tr>\n",
       "      <th>15</th>\n",
       "      <td>16</td>\n",
       "      <td>559.0</td>\n",
       "    </tr>\n",
       "    <tr>\n",
       "      <th>25</th>\n",
       "      <td>38</td>\n",
       "      <td>441.0</td>\n",
       "    </tr>\n",
       "    <tr>\n",
       "      <th>8</th>\n",
       "      <td>9</td>\n",
       "      <td>350.0</td>\n",
       "    </tr>\n",
       "    <tr>\n",
       "      <th>12</th>\n",
       "      <td>13</td>\n",
       "      <td>350.0</td>\n",
       "    </tr>\n",
       "    <tr>\n",
       "      <th>10</th>\n",
       "      <td>11</td>\n",
       "      <td>332.5</td>\n",
       "    </tr>\n",
       "    <tr>\n",
       "      <th>6</th>\n",
       "      <td>7</td>\n",
       "      <td>296.0</td>\n",
       "    </tr>\n",
       "    <tr>\n",
       "      <th>9</th>\n",
       "      <td>10</td>\n",
       "      <td>279.5</td>\n",
       "    </tr>\n",
       "    <tr>\n",
       "      <th>5</th>\n",
       "      <td>6</td>\n",
       "      <td>240.0</td>\n",
       "    </tr>\n",
       "    <tr>\n",
       "      <th>4</th>\n",
       "      <td>5</td>\n",
       "      <td>230.0</td>\n",
       "    </tr>\n",
       "    <tr>\n",
       "      <th>7</th>\n",
       "      <td>8</td>\n",
       "      <td>225.0</td>\n",
       "    </tr>\n",
       "    <tr>\n",
       "      <th>3</th>\n",
       "      <td>4</td>\n",
       "      <td>190.0</td>\n",
       "    </tr>\n",
       "    <tr>\n",
       "      <th>2</th>\n",
       "      <td>3</td>\n",
       "      <td>150.0</td>\n",
       "    </tr>\n",
       "    <tr>\n",
       "      <th>22</th>\n",
       "      <td>26</td>\n",
       "      <td>127.0</td>\n",
       "    </tr>\n",
       "    <tr>\n",
       "      <th>11</th>\n",
       "      <td>12</td>\n",
       "      <td>124.0</td>\n",
       "    </tr>\n",
       "    <tr>\n",
       "      <th>1</th>\n",
       "      <td>2</td>\n",
       "      <td>115.0</td>\n",
       "    </tr>\n",
       "    <tr>\n",
       "      <th>23</th>\n",
       "      <td>28</td>\n",
       "      <td>109.0</td>\n",
       "    </tr>\n",
       "    <tr>\n",
       "      <th>13</th>\n",
       "      <td>14</td>\n",
       "      <td>106.0</td>\n",
       "    </tr>\n",
       "    <tr>\n",
       "      <th>0</th>\n",
       "      <td>1</td>\n",
       "      <td>55.0</td>\n",
       "    </tr>\n",
       "    <tr>\n",
       "      <th>14</th>\n",
       "      <td>15</td>\n",
       "      <td>26.5</td>\n",
       "    </tr>\n",
       "    <tr>\n",
       "      <th>20</th>\n",
       "      <td>21</td>\n",
       "      <td>24.0</td>\n",
       "    </tr>\n",
       "  </tbody>\n",
       "</table>\n",
       "</div>"
      ],
      "text/plain": [
       "    beds   price\n",
       "21    24  1000.0\n",
       "24    29  1000.0\n",
       "19    20  1000.0\n",
       "18    19  1000.0\n",
       "17    18  1000.0\n",
       "16    17   850.0\n",
       "15    16   559.0\n",
       "25    38   441.0\n",
       "8      9   350.0\n",
       "12    13   350.0\n",
       "10    11   332.5\n",
       "6      7   296.0\n",
       "9     10   279.5\n",
       "5      6   240.0\n",
       "4      5   230.0\n",
       "7      8   225.0\n",
       "3      4   190.0\n",
       "2      3   150.0\n",
       "22    26   127.0\n",
       "11    12   124.0\n",
       "1      2   115.0\n",
       "23    28   109.0\n",
       "13    14   106.0\n",
       "0      1    55.0\n",
       "14    15    26.5\n",
       "20    21    24.0"
      ]
     },
     "execution_count": 55,
     "metadata": {},
     "output_type": "execute_result"
    }
   ],
   "source": [
    "beds = df.groupby(['beds'])['price'].median().reset_index()\n",
    "beds = beds.sort_values(by=['price'],ascending=False)\n",
    "beds['beds'] = beds['beds'].astype(int)\n",
    "beds"
   ]
  },
  {
   "cell_type": "markdown",
   "id": "1913a666-bf62-4c05-ab2c-87a54ec885b1",
   "metadata": {},
   "source": [
    "Plot a bar chart of numbers beds vs median price"
   ]
  },
  {
   "cell_type": "code",
   "execution_count": 56,
   "id": "70d0be9b-b646-425f-a49a-59a975f4da76",
   "metadata": {},
   "outputs": [
    {
     "data": {
      "image/png": "[encoded data removed]",
      "text/plain": [
       "<Figure size 720x576 with 1 Axes>"
      ]
     },
     "metadata": {
      "needs_background": "light"
     },
     "output_type": "display_data"
    }
   ],
   "source": [
    "fig, ax = plt.subplots(figsize=(10, 8))\n",
    "sns.barplot(x = 'beds', y = 'price', data = beds, ax = ax, color = 'cornflowerblue').set(xlabel = 'Number of Beds', ylabel = 'Median Price', title = 'Number of Beds vs Listings Price');"
   ]
  },
  {
   "cell_type": "code",
   "execution_count": 57,
   "id": "1a8fa850-f750-41c1-8e81-389fba357cd3",
   "metadata": {},
   "outputs": [
    {
     "data": {
      "text/html": [
       "<div>\n",
       "<style scoped>\n",
       "    .dataframe tbody tr th:only-of-type {\n",
       "        vertical-align: middle;\n",
       "    }\n",
       "\n",
       "    .dataframe tbody tr th {\n",
       "        vertical-align: top;\n",
       "    }\n",
       "\n",
       "    .dataframe thead th {\n",
       "        text-align: right;\n",
       "    }\n",
       "</style>\n",
       "<table border=\"1\" class=\"dataframe\">\n",
       "  <thead>\n",
       "    <tr style=\"text-align: right;\">\n",
       "      <th></th>\n",
       "      <th>bedrooms</th>\n",
       "      <th>price</th>\n",
       "    </tr>\n",
       "  </thead>\n",
       "  <tbody>\n",
       "    <tr>\n",
       "      <th>10</th>\n",
       "      <td>11</td>\n",
       "      <td>1000.0</td>\n",
       "    </tr>\n",
       "    <tr>\n",
       "      <th>7</th>\n",
       "      <td>8</td>\n",
       "      <td>877.0</td>\n",
       "    </tr>\n",
       "    <tr>\n",
       "      <th>6</th>\n",
       "      <td>7</td>\n",
       "      <td>571.5</td>\n",
       "    </tr>\n",
       "    <tr>\n",
       "      <th>8</th>\n",
       "      <td>9</td>\n",
       "      <td>479.5</td>\n",
       "    </tr>\n",
       "    <tr>\n",
       "      <th>11</th>\n",
       "      <td>12</td>\n",
       "      <td>398.0</td>\n",
       "    </tr>\n",
       "    <tr>\n",
       "      <th>5</th>\n",
       "      <td>6</td>\n",
       "      <td>395.0</td>\n",
       "    </tr>\n",
       "    <tr>\n",
       "      <th>9</th>\n",
       "      <td>10</td>\n",
       "      <td>370.0</td>\n",
       "    </tr>\n",
       "    <tr>\n",
       "      <th>4</th>\n",
       "      <td>5</td>\n",
       "      <td>333.0</td>\n",
       "    </tr>\n",
       "    <tr>\n",
       "      <th>3</th>\n",
       "      <td>4</td>\n",
       "      <td>250.0</td>\n",
       "    </tr>\n",
       "    <tr>\n",
       "      <th>2</th>\n",
       "      <td>3</td>\n",
       "      <td>190.0</td>\n",
       "    </tr>\n",
       "    <tr>\n",
       "      <th>1</th>\n",
       "      <td>2</td>\n",
       "      <td>137.0</td>\n",
       "    </tr>\n",
       "    <tr>\n",
       "      <th>12</th>\n",
       "      <td>16</td>\n",
       "      <td>127.0</td>\n",
       "    </tr>\n",
       "    <tr>\n",
       "      <th>0</th>\n",
       "      <td>1</td>\n",
       "      <td>60.0</td>\n",
       "    </tr>\n",
       "  </tbody>\n",
       "</table>\n",
       "</div>"
      ],
      "text/plain": [
       "    bedrooms   price\n",
       "10        11  1000.0\n",
       "7          8   877.0\n",
       "6          7   571.5\n",
       "8          9   479.5\n",
       "11        12   398.0\n",
       "5          6   395.0\n",
       "9         10   370.0\n",
       "4          5   333.0\n",
       "3          4   250.0\n",
       "2          3   190.0\n",
       "1          2   137.0\n",
       "12        16   127.0\n",
       "0          1    60.0"
      ]
     },
     "execution_count": 57,
     "metadata": {},
     "output_type": "execute_result"
    }
   ],
   "source": [
    "bedrooms = df.groupby(['bedrooms'])['price'].median().reset_index()\n",
    "bedrooms = bedrooms.sort_values(by=['price'],ascending=False)\n",
    "bedrooms['bedrooms'] = bedrooms['bedrooms'].astype(int)\n",
    "bedrooms"
   ]
  },
  {
   "cell_type": "markdown",
   "id": "f8e58780-039f-44f6-9b69-f69a6dcf11a6",
   "metadata": {},
   "source": [
    "Plot a bar chart of number of bedrooms vs median price"
   ]
  },
  {
   "cell_type": "code",
   "execution_count": 58,
   "id": "9bb77215-04fc-40fc-a5b0-31ac9f0bff94",
   "metadata": {},
   "outputs": [
    {
     "data": {
      "image/png": "[encoded data removed]",
      "text/plain": [
       "<Figure size 576x432 with 1 Axes>"
      ]
     },
     "metadata": {
      "needs_background": "light"
     },
     "output_type": "display_data"
    }
   ],
   "source": [
    "fig, ax = plt.subplots(figsize=(8, 6))\n",
    "sns.barplot(x = 'bedrooms', y = 'price', data = bedrooms, ax = ax, color = 'cornflowerblue').set(xlabel = 'Number of Bedrooms', ylabel = 'Median Price', title = 'Number of Bedrooms vs Listings Price');"
   ]
  },
  {
   "cell_type": "markdown",
   "id": "dcd00c95-badd-4809-b87e-b730046d7c82",
   "metadata": {},
   "source": [
    "<a id=\"Bathrooms\"></a>\n",
    "## Bathrooms"
   ]
  },
  {
   "cell_type": "code",
   "execution_count": 59,
   "id": "db7a32b2-382c-4405-82c1-2d99cbeca010",
   "metadata": {},
   "outputs": [
    {
     "data": {
      "text/plain": [
       "count    58880.000000\n",
       "mean         3.923115\n",
       "std          6.889027\n",
       "min          0.000000\n",
       "25%          1.000000\n",
       "50%          1.000000\n",
       "75%          2.000000\n",
       "max        165.000000\n",
       "Name: bathrooms, dtype: float64"
      ]
     },
     "execution_count": 59,
     "metadata": {},
     "output_type": "execute_result"
    }
   ],
   "source": [
    "df['bathrooms'].describe()"
   ]
  },
  {
   "cell_type": "code",
   "execution_count": 60,
   "id": "7c9118d0-5b3c-44d0-a96f-f797cc66c699",
   "metadata": {},
   "outputs": [
    {
     "data": {
      "text/html": [
       "<div>\n",
       "<style scoped>\n",
       "    .dataframe tbody tr th:only-of-type {\n",
       "        vertical-align: middle;\n",
       "    }\n",
       "\n",
       "    .dataframe tbody tr th {\n",
       "        vertical-align: top;\n",
       "    }\n",
       "\n",
       "    .dataframe thead th {\n",
       "        text-align: right;\n",
       "    }\n",
       "</style>\n",
       "<table border=\"1\" class=\"dataframe\">\n",
       "  <thead>\n",
       "    <tr style=\"text-align: right;\">\n",
       "      <th></th>\n",
       "      <th>bathrooms</th>\n",
       "      <th>price</th>\n",
       "    </tr>\n",
       "  </thead>\n",
       "  <tbody>\n",
       "    <tr>\n",
       "      <th>10</th>\n",
       "      <td>10</td>\n",
       "      <td>1000.0</td>\n",
       "    </tr>\n",
       "    <tr>\n",
       "      <th>14</th>\n",
       "      <td>17</td>\n",
       "      <td>1000.0</td>\n",
       "    </tr>\n",
       "    <tr>\n",
       "      <th>19</th>\n",
       "      <td>65</td>\n",
       "      <td>1000.0</td>\n",
       "    </tr>\n",
       "    <tr>\n",
       "      <th>11</th>\n",
       "      <td>12</td>\n",
       "      <td>699.0</td>\n",
       "    </tr>\n",
       "    <tr>\n",
       "      <th>5</th>\n",
       "      <td>5</td>\n",
       "      <td>671.0</td>\n",
       "    </tr>\n",
       "    <tr>\n",
       "      <th>22</th>\n",
       "      <td>105</td>\n",
       "      <td>549.0</td>\n",
       "    </tr>\n",
       "    <tr>\n",
       "      <th>4</th>\n",
       "      <td>4</td>\n",
       "      <td>490.0</td>\n",
       "    </tr>\n",
       "    <tr>\n",
       "      <th>17</th>\n",
       "      <td>45</td>\n",
       "      <td>471.0</td>\n",
       "    </tr>\n",
       "    <tr>\n",
       "      <th>20</th>\n",
       "      <td>75</td>\n",
       "      <td>457.5</td>\n",
       "    </tr>\n",
       "    <tr>\n",
       "      <th>9</th>\n",
       "      <td>9</td>\n",
       "      <td>441.0</td>\n",
       "    </tr>\n",
       "    <tr>\n",
       "      <th>18</th>\n",
       "      <td>55</td>\n",
       "      <td>411.0</td>\n",
       "    </tr>\n",
       "    <tr>\n",
       "      <th>16</th>\n",
       "      <td>35</td>\n",
       "      <td>300.0</td>\n",
       "    </tr>\n",
       "    <tr>\n",
       "      <th>6</th>\n",
       "      <td>6</td>\n",
       "      <td>300.0</td>\n",
       "    </tr>\n",
       "    <tr>\n",
       "      <th>3</th>\n",
       "      <td>3</td>\n",
       "      <td>295.0</td>\n",
       "    </tr>\n",
       "    <tr>\n",
       "      <th>15</th>\n",
       "      <td>25</td>\n",
       "      <td>190.0</td>\n",
       "    </tr>\n",
       "    <tr>\n",
       "      <th>2</th>\n",
       "      <td>2</td>\n",
       "      <td>150.0</td>\n",
       "    </tr>\n",
       "    <tr>\n",
       "      <th>24</th>\n",
       "      <td>165</td>\n",
       "      <td>127.0</td>\n",
       "    </tr>\n",
       "    <tr>\n",
       "      <th>13</th>\n",
       "      <td>16</td>\n",
       "      <td>109.0</td>\n",
       "    </tr>\n",
       "    <tr>\n",
       "      <th>23</th>\n",
       "      <td>125</td>\n",
       "      <td>90.0</td>\n",
       "    </tr>\n",
       "    <tr>\n",
       "      <th>1</th>\n",
       "      <td>1</td>\n",
       "      <td>76.0</td>\n",
       "    </tr>\n",
       "    <tr>\n",
       "      <th>12</th>\n",
       "      <td>15</td>\n",
       "      <td>65.0</td>\n",
       "    </tr>\n",
       "    <tr>\n",
       "      <th>8</th>\n",
       "      <td>8</td>\n",
       "      <td>64.5</td>\n",
       "    </tr>\n",
       "    <tr>\n",
       "      <th>7</th>\n",
       "      <td>7</td>\n",
       "      <td>50.0</td>\n",
       "    </tr>\n",
       "    <tr>\n",
       "      <th>0</th>\n",
       "      <td>0</td>\n",
       "      <td>50.0</td>\n",
       "    </tr>\n",
       "    <tr>\n",
       "      <th>21</th>\n",
       "      <td>85</td>\n",
       "      <td>32.0</td>\n",
       "    </tr>\n",
       "  </tbody>\n",
       "</table>\n",
       "</div>"
      ],
      "text/plain": [
       "    bathrooms   price\n",
       "10         10  1000.0\n",
       "14         17  1000.0\n",
       "19         65  1000.0\n",
       "11         12   699.0\n",
       "5           5   671.0\n",
       "22        105   549.0\n",
       "4           4   490.0\n",
       "17         45   471.0\n",
       "20         75   457.5\n",
       "9           9   441.0\n",
       "18         55   411.0\n",
       "16         35   300.0\n",
       "6           6   300.0\n",
       "3           3   295.0\n",
       "15         25   190.0\n",
       "2           2   150.0\n",
       "24        165   127.0\n",
       "13         16   109.0\n",
       "23        125    90.0\n",
       "1           1    76.0\n",
       "12         15    65.0\n",
       "8           8    64.5\n",
       "7           7    50.0\n",
       "0           0    50.0\n",
       "21         85    32.0"
      ]
     },
     "execution_count": 60,
     "metadata": {},
     "output_type": "execute_result"
    }
   ],
   "source": [
    "bathrooms = df.groupby(['bathrooms'])['price'].median().reset_index()\n",
    "bathrooms = bathrooms.sort_values(by=['price'],ascending=False)\n",
    "bathrooms['bathrooms'] = bathrooms['bathrooms'].astype(int)\n",
    "bathrooms"
   ]
  },
  {
   "cell_type": "markdown",
   "id": "0e1f2b7b-7943-4ce4-8e2e-eac03b854fa5",
   "metadata": {},
   "source": [
    "Determine the number of Airbnb listings with a certain number of bathrooms"
   ]
  },
  {
   "cell_type": "code",
   "execution_count": 61,
   "id": "1268f705-7b2d-4abe-8560-ea2df6571e56",
   "metadata": {},
   "outputs": [
    {
     "data": {
      "text/plain": [
       "1.0      39872\n",
       "2.0       8362\n",
       "15.0      6665\n",
       "25.0      1898\n",
       "3.0       1058\n",
       "35.0       444\n",
       "4.0        205\n",
       "0.0        149\n",
       "45.0       103\n",
       "5.0         53\n",
       "6.0         21\n",
       "55.0        17\n",
       "65.0         9\n",
       "7.0          7\n",
       "8.0          4\n",
       "75.0         2\n",
       "105.0        2\n",
       "12.0         2\n",
       "85.0         1\n",
       "17.0         1\n",
       "10.0         1\n",
       "9.0          1\n",
       "16.0         1\n",
       "165.0        1\n",
       "125.0        1\n",
       "Name: bathrooms, dtype: int64"
      ]
     },
     "execution_count": 61,
     "metadata": {},
     "output_type": "execute_result"
    }
   ],
   "source": [
    "df['bathrooms'].value_counts()"
   ]
  },
  {
   "cell_type": "markdown",
   "id": "a76a4eea-faee-4c69-a715-4cd72c4d8888",
   "metadata": {},
   "source": [
    "Plot a scatter plot of number of bathrooms vs median price"
   ]
  },
  {
   "cell_type": "code",
   "execution_count": 62,
   "id": "290dd3b9-ea28-4202-a670-e65d920c1b11",
   "metadata": {},
   "outputs": [
    {
     "data": {
      "image/png": "[encoded data removed]",
      "text/plain": [
       "<Figure size 576x432 with 1 Axes>"
      ]
     },
     "metadata": {
      "needs_background": "light"
     },
     "output_type": "display_data"
    }
   ],
   "source": [
    "fig, ax = plt.subplots(figsize=[8, 6])\n",
    "plt.scatter(bathrooms['bathrooms'], bathrooms['price'], color='seagreen')\n",
    "plt.title('Listings Prices by Bathroom Count')\n",
    "plt.xlabel('Number of Bathrooms')\n",
    "plt.ylabel('Median Price')\n",
    "plt.show()"
   ]
  },
  {
   "cell_type": "markdown",
   "id": "eae95aa4-34bd-4158-82f4-6b24dd932f50",
   "metadata": {},
   "source": [
    "Add a line of best fit to determine linear correlation"
   ]
  },
  {
   "cell_type": "code",
   "execution_count": 63,
   "id": "9d13b8f7-cf91-4844-89cf-8017658e73b1",
   "metadata": {},
   "outputs": [
    {
     "data": {
      "image/png": "[encoded data removed]",
      "text/plain": [
       "<Figure size 504x360 with 1 Axes>"
      ]
     },
     "metadata": {
      "needs_background": "light"
     },
     "output_type": "display_data"
    }
   ],
   "source": [
    "a, b = np.polyfit(bathrooms['bathrooms'], bathrooms['price'], 1)\n",
    "fig, ax = plt.subplots(figsize=[7, 5])\n",
    "plt.scatter(bathrooms['bathrooms'], bathrooms['price'], color='seagreen')\n",
    "plt.plot(bathrooms['bathrooms'], a*bathrooms['bathrooms']+b, color='black')\n",
    "plt.title('Listings Prices by Bathroom Count')\n",
    "plt.xlabel('Number of Bathrooms')\n",
    "plt.ylabel('Median Price')\n",
    "plt.show()"
   ]
  },
  {
   "cell_type": "markdown",
   "id": "8209e553-d44c-4fbb-9366-a228770284b9",
   "metadata": {},
   "source": [
    "<a id=\"Availability\"></a>\n",
    "## Availability 365"
   ]
  },
  {
   "cell_type": "code",
   "execution_count": 64,
   "id": "fcab429a-6b6b-4cbb-bbae-ef3c81870604",
   "metadata": {},
   "outputs": [
    {
     "data": {
      "text/html": [
       "<div>\n",
       "<style scoped>\n",
       "    .dataframe tbody tr th:only-of-type {\n",
       "        vertical-align: middle;\n",
       "    }\n",
       "\n",
       "    .dataframe tbody tr th {\n",
       "        vertical-align: top;\n",
       "    }\n",
       "\n",
       "    .dataframe thead th {\n",
       "        text-align: right;\n",
       "    }\n",
       "</style>\n",
       "<table border=\"1\" class=\"dataframe\">\n",
       "  <thead>\n",
       "    <tr style=\"text-align: right;\">\n",
       "      <th></th>\n",
       "      <th>availability_365</th>\n",
       "      <th>price</th>\n",
       "    </tr>\n",
       "  </thead>\n",
       "  <tbody>\n",
       "    <tr>\n",
       "      <th>312</th>\n",
       "      <td>312</td>\n",
       "      <td>49.0</td>\n",
       "    </tr>\n",
       "    <tr>\n",
       "      <th>98</th>\n",
       "      <td>98</td>\n",
       "      <td>50.0</td>\n",
       "    </tr>\n",
       "    <tr>\n",
       "      <th>200</th>\n",
       "      <td>200</td>\n",
       "      <td>59.5</td>\n",
       "    </tr>\n",
       "    <tr>\n",
       "      <th>68</th>\n",
       "      <td>68</td>\n",
       "      <td>60.0</td>\n",
       "    </tr>\n",
       "    <tr>\n",
       "      <th>172</th>\n",
       "      <td>172</td>\n",
       "      <td>60.0</td>\n",
       "    </tr>\n",
       "    <tr>\n",
       "      <th>...</th>\n",
       "      <td>...</td>\n",
       "      <td>...</td>\n",
       "    </tr>\n",
       "    <tr>\n",
       "      <th>277</th>\n",
       "      <td>277</td>\n",
       "      <td>190.0</td>\n",
       "    </tr>\n",
       "    <tr>\n",
       "      <th>182</th>\n",
       "      <td>182</td>\n",
       "      <td>207.0</td>\n",
       "    </tr>\n",
       "    <tr>\n",
       "      <th>236</th>\n",
       "      <td>236</td>\n",
       "      <td>214.0</td>\n",
       "    </tr>\n",
       "    <tr>\n",
       "      <th>194</th>\n",
       "      <td>194</td>\n",
       "      <td>216.0</td>\n",
       "    </tr>\n",
       "    <tr>\n",
       "      <th>267</th>\n",
       "      <td>267</td>\n",
       "      <td>228.0</td>\n",
       "    </tr>\n",
       "  </tbody>\n",
       "</table>\n",
       "<p>366 rows × 2 columns</p>\n",
       "</div>"
      ],
      "text/plain": [
       "     availability_365  price\n",
       "312               312   49.0\n",
       "98                 98   50.0\n",
       "200               200   59.5\n",
       "68                 68   60.0\n",
       "172               172   60.0\n",
       "..                ...    ...\n",
       "277               277  190.0\n",
       "182               182  207.0\n",
       "236               236  214.0\n",
       "194               194  216.0\n",
       "267               267  228.0\n",
       "\n",
       "[366 rows x 2 columns]"
      ]
     },
     "execution_count": 64,
     "metadata": {},
     "output_type": "execute_result"
    }
   ],
   "source": [
    "avail = df.groupby(['availability_365'])['price'].median().reset_index()\n",
    "avail = avail.sort_values(by=['price'], ascending=True)\n",
    "avail"
   ]
  },
  {
   "cell_type": "markdown",
   "id": "9e387fb2-c6d6-4f1d-b218-8c3f8119d6dc",
   "metadata": {},
   "source": [
    "Plot a scatter plot of the number of days available in a year vs median price"
   ]
  },
  {
   "cell_type": "code",
   "execution_count": 65,
   "id": "ce089350-5f0e-4f46-be3e-cf6dc87f382c",
   "metadata": {
    "tags": []
   },
   "outputs": [
    {
     "data": {
      "image/png": "[encoded data removed]",
      "text/plain": [
       "<Figure size 576x432 with 1 Axes>"
      ]
     },
     "metadata": {
      "needs_background": "light"
     },
     "output_type": "display_data"
    }
   ],
   "source": [
    "fig, ax = plt.subplots(figsize=[8, 6])\n",
    "plt.scatter(avail['availability_365'], avail['price'], color='cornflowerblue')\n",
    "plt.title('Listings Prices by Availability')\n",
    "plt.xlabel('Number of Days Available')\n",
    "plt.ylabel('Median Price')\n",
    "plt.show()"
   ]
  },
  {
   "cell_type": "markdown",
   "id": "d25b9248-fb0c-4269-a985-d48a62ecac92",
   "metadata": {},
   "source": [
    "Add a line of best fit to determine linear correlation "
   ]
  },
  {
   "cell_type": "code",
   "execution_count": 66,
   "id": "00fba159-87fa-4853-bc3d-1f7dd0b56447",
   "metadata": {},
   "outputs": [
    {
     "data": {
      "image/png": "[encoded data removed]",
      "text/plain": [
       "<Figure size 576x432 with 1 Axes>"
      ]
     },
     "metadata": {
      "needs_background": "light"
     },
     "output_type": "display_data"
    }
   ],
   "source": [
    "a, b = np.polyfit(avail['availability_365'], avail['price'], 1)\n",
    "fig, ax = plt.subplots(figsize=[8, 6])\n",
    "plt.scatter(avail['availability_365'], avail['price'], color='cornflowerblue')\n",
    "plt.plot(avail['availability_365'], a*avail['availability_365']+b, color='black')\n",
    "plt.title('Listings Prices by Availability')\n",
    "plt.xlabel('Number of Days Available')\n",
    "plt.ylabel('Median Price')\n",
    "plt.show()"
   ]
  },
  {
   "cell_type": "markdown",
   "id": "16b3e830-5058-470a-8605-598d57396d05",
   "metadata": {},
   "source": [
    "<a id=\"Minimum\"></a>\n",
    "## Minimum Nights"
   ]
  },
  {
   "cell_type": "code",
   "execution_count": 67,
   "id": "eeb3c9b5-5237-4c28-9b95-2509f84fb0e7",
   "metadata": {},
   "outputs": [
    {
     "data": {
      "text/plain": [
       "count    59125.000000\n",
       "mean         6.141057\n",
       "std         27.607531\n",
       "min          1.000000\n",
       "25%          1.000000\n",
       "50%          2.000000\n",
       "75%          4.000000\n",
       "max       1125.000000\n",
       "Name: minimum_nights, dtype: float64"
      ]
     },
     "execution_count": 67,
     "metadata": {},
     "output_type": "execute_result"
    }
   ],
   "source": [
    "df['minimum_nights'].describe()"
   ]
  },
  {
   "cell_type": "code",
   "execution_count": 68,
   "id": "b740f771-22bc-4639-9a7e-cdf99d5577bb",
   "metadata": {},
   "outputs": [
    {
     "data": {
      "text/html": [
       "<div>\n",
       "<style scoped>\n",
       "    .dataframe tbody tr th:only-of-type {\n",
       "        vertical-align: middle;\n",
       "    }\n",
       "\n",
       "    .dataframe tbody tr th {\n",
       "        vertical-align: top;\n",
       "    }\n",
       "\n",
       "    .dataframe thead th {\n",
       "        text-align: right;\n",
       "    }\n",
       "</style>\n",
       "<table border=\"1\" class=\"dataframe\">\n",
       "  <thead>\n",
       "    <tr style=\"text-align: right;\">\n",
       "      <th></th>\n",
       "      <th>minimum_nights</th>\n",
       "      <th>price</th>\n",
       "    </tr>\n",
       "  </thead>\n",
       "  <tbody>\n",
       "    <tr>\n",
       "      <th>122</th>\n",
       "      <td>1124</td>\n",
       "      <td>1000.0</td>\n",
       "    </tr>\n",
       "    <tr>\n",
       "      <th>83</th>\n",
       "      <td>121</td>\n",
       "      <td>800.0</td>\n",
       "    </tr>\n",
       "    <tr>\n",
       "      <th>77</th>\n",
       "      <td>99</td>\n",
       "      <td>369.0</td>\n",
       "    </tr>\n",
       "    <tr>\n",
       "      <th>31</th>\n",
       "      <td>32</td>\n",
       "      <td>325.0</td>\n",
       "    </tr>\n",
       "    <tr>\n",
       "      <th>79</th>\n",
       "      <td>110</td>\n",
       "      <td>295.0</td>\n",
       "    </tr>\n",
       "    <tr>\n",
       "      <th>...</th>\n",
       "      <td>...</td>\n",
       "      <td>...</td>\n",
       "    </tr>\n",
       "    <tr>\n",
       "      <th>58</th>\n",
       "      <td>71</td>\n",
       "      <td>25.0</td>\n",
       "    </tr>\n",
       "    <tr>\n",
       "      <th>61</th>\n",
       "      <td>76</td>\n",
       "      <td>25.0</td>\n",
       "    </tr>\n",
       "    <tr>\n",
       "      <th>74</th>\n",
       "      <td>93</td>\n",
       "      <td>25.0</td>\n",
       "    </tr>\n",
       "    <tr>\n",
       "      <th>50</th>\n",
       "      <td>58</td>\n",
       "      <td>20.0</td>\n",
       "    </tr>\n",
       "    <tr>\n",
       "      <th>67</th>\n",
       "      <td>86</td>\n",
       "      <td>10.0</td>\n",
       "    </tr>\n",
       "  </tbody>\n",
       "</table>\n",
       "<p>124 rows × 2 columns</p>\n",
       "</div>"
      ],
      "text/plain": [
       "     minimum_nights   price\n",
       "122            1124  1000.0\n",
       "83              121   800.0\n",
       "77               99   369.0\n",
       "31               32   325.0\n",
       "79              110   295.0\n",
       "..              ...     ...\n",
       "58               71    25.0\n",
       "61               76    25.0\n",
       "74               93    25.0\n",
       "50               58    20.0\n",
       "67               86    10.0\n",
       "\n",
       "[124 rows x 2 columns]"
      ]
     },
     "execution_count": 68,
     "metadata": {},
     "output_type": "execute_result"
    }
   ],
   "source": [
    "minimum = df.groupby(['minimum_nights'])['price'].median().reset_index()\n",
    "minimum = minimum.sort_values(by=['price'],ascending=False)\n",
    "minimum"
   ]
  },
  {
   "cell_type": "markdown",
   "id": "0e4d39a2-785c-4990-b6c9-9b3589fcbea2",
   "metadata": {},
   "source": [
    "Plot a scatter plot of minimum number of nights vs median price"
   ]
  },
  {
   "cell_type": "code",
   "execution_count": 69,
   "id": "de1ad326-b284-403b-b5da-0f7402f54677",
   "metadata": {},
   "outputs": [
    {
     "data": {
      "image/png": "[encoded data removed]",
      "text/plain": [
       "<Figure size 576x432 with 1 Axes>"
      ]
     },
     "metadata": {
      "needs_background": "light"
     },
     "output_type": "display_data"
    }
   ],
   "source": [
    "fig, ax = plt.subplots(figsize=[8, 6])\n",
    "plt.scatter(minimum['minimum_nights'], minimum['price'], color='firebrick')\n",
    "plt.title('Listings Prices by Minimum Nights')\n",
    "plt.xlabel('Minimum Number of Nights')\n",
    "plt.ylabel('Median Price')\n",
    "plt.show()"
   ]
  },
  {
   "cell_type": "markdown",
   "id": "2d4cafe8-1799-4d76-8a04-c21ad524ac6c",
   "metadata": {},
   "source": [
    "We identified outliers the same way we identified those in the Total Listings vs Price graph."
   ]
  },
  {
   "cell_type": "code",
   "execution_count": 70,
   "id": "8ca63a84-7f84-4544-8962-745fc830a383",
   "metadata": {},
   "outputs": [
    {
     "data": {
      "text/plain": [
       "minimum_nights    124.5\n",
       "price              50.0\n",
       "dtype: float64"
      ]
     },
     "execution_count": 70,
     "metadata": {},
     "output_type": "execute_result"
    }
   ],
   "source": [
    "q12 = minimum.quantile(0.25)\n",
    "q32 = minimum.quantile(0.75)\n",
    "iqr2 = q32 - q12\n",
    "iqr2"
   ]
  },
  {
   "cell_type": "code",
   "execution_count": 71,
   "id": "0583c89f-2238-480c-a743-648dc6d66af6",
   "metadata": {},
   "outputs": [],
   "source": [
    "lower_lim2 = q12 - 1.5*iqr2\n",
    "upper_lim2 = q32 + 1.5*iqr2\n",
    "outliers2 = (minimum < lower_lim2) | (minimum > upper_lim2)"
   ]
  },
  {
   "cell_type": "code",
   "execution_count": 72,
   "id": "7b123983-a7e4-4440-aec8-37398dffe49e",
   "metadata": {},
   "outputs": [],
   "source": [
    "minimum.loc[minimum['minimum_nights'] > upper_lim2['minimum_nights'], 'minimum_nights'] = np.nan\n",
    "minimum.loc[minimum['minimum_nights'] < lower_lim2['minimum_nights'], 'minimum_nights'] = np.nan\n",
    "minimum.loc[minimum['price'] > upper_lim2['price'], 'price'] = np.nan\n",
    "minimum.loc[minimum['price'] < lower_lim2['price'], 'price'] = np.nan"
   ]
  },
  {
   "cell_type": "code",
   "execution_count": 73,
   "id": "aacfdd2f-1d35-47ce-b1d2-e96a7e543afd",
   "metadata": {},
   "outputs": [
    {
     "data": {
      "text/html": [
       "<div>\n",
       "<style scoped>\n",
       "    .dataframe tbody tr th:only-of-type {\n",
       "        vertical-align: middle;\n",
       "    }\n",
       "\n",
       "    .dataframe tbody tr th {\n",
       "        vertical-align: top;\n",
       "    }\n",
       "\n",
       "    .dataframe thead th {\n",
       "        text-align: right;\n",
       "    }\n",
       "</style>\n",
       "<table border=\"1\" class=\"dataframe\">\n",
       "  <thead>\n",
       "    <tr style=\"text-align: right;\">\n",
       "      <th></th>\n",
       "      <th>minimum_nights</th>\n",
       "      <th>price</th>\n",
       "    </tr>\n",
       "  </thead>\n",
       "  <tbody>\n",
       "    <tr>\n",
       "      <th>122</th>\n",
       "      <td>NaN</td>\n",
       "      <td>NaN</td>\n",
       "    </tr>\n",
       "    <tr>\n",
       "      <th>83</th>\n",
       "      <td>121.0</td>\n",
       "      <td>NaN</td>\n",
       "    </tr>\n",
       "    <tr>\n",
       "      <th>77</th>\n",
       "      <td>99.0</td>\n",
       "      <td>NaN</td>\n",
       "    </tr>\n",
       "    <tr>\n",
       "      <th>31</th>\n",
       "      <td>32.0</td>\n",
       "      <td>NaN</td>\n",
       "    </tr>\n",
       "    <tr>\n",
       "      <th>79</th>\n",
       "      <td>110.0</td>\n",
       "      <td>NaN</td>\n",
       "    </tr>\n",
       "    <tr>\n",
       "      <th>37</th>\n",
       "      <td>39.0</td>\n",
       "      <td>NaN</td>\n",
       "    </tr>\n",
       "    <tr>\n",
       "      <th>105</th>\n",
       "      <td>222.0</td>\n",
       "      <td>NaN</td>\n",
       "    </tr>\n",
       "    <tr>\n",
       "      <th>70</th>\n",
       "      <td>89.0</td>\n",
       "      <td>NaN</td>\n",
       "    </tr>\n",
       "    <tr>\n",
       "      <th>102</th>\n",
       "      <td>186.0</td>\n",
       "      <td>NaN</td>\n",
       "    </tr>\n",
       "    <tr>\n",
       "      <th>41</th>\n",
       "      <td>43.0</td>\n",
       "      <td>NaN</td>\n",
       "    </tr>\n",
       "    <tr>\n",
       "      <th>34</th>\n",
       "      <td>35.0</td>\n",
       "      <td>NaN</td>\n",
       "    </tr>\n",
       "    <tr>\n",
       "      <th>87</th>\n",
       "      <td>140.0</td>\n",
       "      <td>NaN</td>\n",
       "    </tr>\n",
       "    <tr>\n",
       "      <th>98</th>\n",
       "      <td>181.0</td>\n",
       "      <td>NaN</td>\n",
       "    </tr>\n",
       "    <tr>\n",
       "      <th>96</th>\n",
       "      <td>175.0</td>\n",
       "      <td>NaN</td>\n",
       "    </tr>\n",
       "    <tr>\n",
       "      <th>117</th>\n",
       "      <td>NaN</td>\n",
       "      <td>116.0</td>\n",
       "    </tr>\n",
       "    <tr>\n",
       "      <th>115</th>\n",
       "      <td>NaN</td>\n",
       "      <td>100.0</td>\n",
       "    </tr>\n",
       "    <tr>\n",
       "      <th>119</th>\n",
       "      <td>NaN</td>\n",
       "      <td>98.0</td>\n",
       "    </tr>\n",
       "    <tr>\n",
       "      <th>112</th>\n",
       "      <td>NaN</td>\n",
       "      <td>90.0</td>\n",
       "    </tr>\n",
       "    <tr>\n",
       "      <th>114</th>\n",
       "      <td>NaN</td>\n",
       "      <td>89.0</td>\n",
       "    </tr>\n",
       "    <tr>\n",
       "      <th>116</th>\n",
       "      <td>NaN</td>\n",
       "      <td>80.0</td>\n",
       "    </tr>\n",
       "    <tr>\n",
       "      <th>121</th>\n",
       "      <td>NaN</td>\n",
       "      <td>71.0</td>\n",
       "    </tr>\n",
       "    <tr>\n",
       "      <th>123</th>\n",
       "      <td>NaN</td>\n",
       "      <td>65.0</td>\n",
       "    </tr>\n",
       "    <tr>\n",
       "      <th>113</th>\n",
       "      <td>NaN</td>\n",
       "      <td>57.0</td>\n",
       "    </tr>\n",
       "    <tr>\n",
       "      <th>118</th>\n",
       "      <td>NaN</td>\n",
       "      <td>50.0</td>\n",
       "    </tr>\n",
       "    <tr>\n",
       "      <th>120</th>\n",
       "      <td>NaN</td>\n",
       "      <td>37.5</td>\n",
       "    </tr>\n",
       "  </tbody>\n",
       "</table>\n",
       "</div>"
      ],
      "text/plain": [
       "     minimum_nights  price\n",
       "122             NaN    NaN\n",
       "83            121.0    NaN\n",
       "77             99.0    NaN\n",
       "31             32.0    NaN\n",
       "79            110.0    NaN\n",
       "37             39.0    NaN\n",
       "105           222.0    NaN\n",
       "70             89.0    NaN\n",
       "102           186.0    NaN\n",
       "41             43.0    NaN\n",
       "34             35.0    NaN\n",
       "87            140.0    NaN\n",
       "98            181.0    NaN\n",
       "96            175.0    NaN\n",
       "117             NaN  116.0\n",
       "115             NaN  100.0\n",
       "119             NaN   98.0\n",
       "112             NaN   90.0\n",
       "114             NaN   89.0\n",
       "116             NaN   80.0\n",
       "121             NaN   71.0\n",
       "123             NaN   65.0\n",
       "113             NaN   57.0\n",
       "118             NaN   50.0\n",
       "120             NaN   37.5"
      ]
     },
     "execution_count": 73,
     "metadata": {},
     "output_type": "execute_result"
    }
   ],
   "source": [
    "minimum[minimum.isna().any(axis = 1)]"
   ]
  },
  {
   "cell_type": "markdown",
   "id": "70d3237b-1bba-46f1-8f99-2726f6194466",
   "metadata": {},
   "source": [
    "Plot a scatter plot of minimum number of nights vs median price (after removing outliers)"
   ]
  },
  {
   "cell_type": "code",
   "execution_count": 74,
   "id": "eebf4de3-7d2b-4f38-a884-e317be2fb554",
   "metadata": {},
   "outputs": [
    {
     "data": {
      "image/png": "[encoded data removed]",
      "text/plain": [
       "<Figure size 576x432 with 1 Axes>"
      ]
     },
     "metadata": {
      "needs_background": "light"
     },
     "output_type": "display_data"
    }
   ],
   "source": [
    "fig, ax = plt.subplots(figsize=[8, 6])\n",
    "plt.scatter(minimum['minimum_nights'], minimum['price'], color='firebrick')\n",
    "plt.title('Listings Prices by Minimum Nights')\n",
    "plt.xlabel('Minimum Number of Nights')\n",
    "plt.ylabel('Median Price')\n",
    "plt.show()"
   ]
  },
  {
   "cell_type": "markdown",
   "id": "8c9a804d-324d-479c-a673-7310e0c13abd",
   "metadata": {},
   "source": [
    "Import `nltk` and download data"
   ]
  },
  {
   "cell_type": "code",
   "execution_count": 75,
   "id": "3126a91e-f9a2-41ed-bd43-c52868d48dcd",
   "metadata": {},
   "outputs": [],
   "source": [
    "import nltk"
   ]
  },
  {
   "cell_type": "code",
   "execution_count": 76,
   "id": "2de51b32-e3d1-4422-aa0f-0a5f41cbddc3",
   "metadata": {},
   "outputs": [
    {
     "name": "stderr",
     "output_type": "stream",
     "text": [
      "[nltk_data] Downloading package stopwords to\n",
      "[nltk_data]     /Users/joelle/nltk_data...\n",
      "[nltk_data]   Package stopwords is already up-to-date!\n"
     ]
    },
    {
     "data": {
      "text/plain": [
       "True"
      ]
     },
     "execution_count": 76,
     "metadata": {},
     "output_type": "execute_result"
    }
   ],
   "source": [
    "nltk.download(\"stopwords\")"
   ]
  },
  {
   "cell_type": "code",
   "execution_count": 77,
   "id": "78b6be98-e7ca-45db-990d-f171108de462",
   "metadata": {},
   "outputs": [
    {
     "data": {
      "text/html": [
       "<div>\n",
       "<style scoped>\n",
       "    .dataframe tbody tr th:only-of-type {\n",
       "        vertical-align: middle;\n",
       "    }\n",
       "\n",
       "    .dataframe tbody tr th {\n",
       "        vertical-align: top;\n",
       "    }\n",
       "\n",
       "    .dataframe thead th {\n",
       "        text-align: right;\n",
       "    }\n",
       "</style>\n",
       "<table border=\"1\" class=\"dataframe\">\n",
       "  <thead>\n",
       "    <tr style=\"text-align: right;\">\n",
       "      <th></th>\n",
       "      <th>listing_id</th>\n",
       "      <th>id</th>\n",
       "      <th>date</th>\n",
       "      <th>reviewer_id</th>\n",
       "      <th>reviewer_name</th>\n",
       "      <th>comments</th>\n",
       "    </tr>\n",
       "  </thead>\n",
       "  <tbody>\n",
       "    <tr>\n",
       "      <th>0</th>\n",
       "      <td>13913</td>\n",
       "      <td>80770</td>\n",
       "      <td>2010-08-18</td>\n",
       "      <td>177109</td>\n",
       "      <td>Michael</td>\n",
       "      <td>My girlfriend and I hadn't known Alina before ...</td>\n",
       "    </tr>\n",
       "    <tr>\n",
       "      <th>1</th>\n",
       "      <td>13913</td>\n",
       "      <td>367568</td>\n",
       "      <td>2011-07-11</td>\n",
       "      <td>19835707</td>\n",
       "      <td>Mathias</td>\n",
       "      <td>Alina was a really good host. The flat is clea...</td>\n",
       "    </tr>\n",
       "    <tr>\n",
       "      <th>2</th>\n",
       "      <td>13913</td>\n",
       "      <td>529579</td>\n",
       "      <td>2011-09-13</td>\n",
       "      <td>1110304</td>\n",
       "      <td>Kristin</td>\n",
       "      <td>Alina is an amazing host. She made me feel rig...</td>\n",
       "    </tr>\n",
       "    <tr>\n",
       "      <th>3</th>\n",
       "      <td>13913</td>\n",
       "      <td>595481</td>\n",
       "      <td>2011-10-03</td>\n",
       "      <td>1216358</td>\n",
       "      <td>Camilla</td>\n",
       "      <td>Alina's place is so nice, the room is big and ...</td>\n",
       "    </tr>\n",
       "    <tr>\n",
       "      <th>4</th>\n",
       "      <td>13913</td>\n",
       "      <td>612947</td>\n",
       "      <td>2011-10-09</td>\n",
       "      <td>490840</td>\n",
       "      <td>Jorik</td>\n",
       "      <td>Nice location in Islington area, good for shor...</td>\n",
       "    </tr>\n",
       "  </tbody>\n",
       "</table>\n",
       "</div>"
      ],
      "text/plain": [
       "   listing_id      id        date  reviewer_id reviewer_name  \\\n",
       "0       13913   80770  2010-08-18       177109       Michael   \n",
       "1       13913  367568  2011-07-11     19835707       Mathias   \n",
       "2       13913  529579  2011-09-13      1110304       Kristin   \n",
       "3       13913  595481  2011-10-03      1216358       Camilla   \n",
       "4       13913  612947  2011-10-09       490840         Jorik   \n",
       "\n",
       "                                            comments  \n",
       "0  My girlfriend and I hadn't known Alina before ...  \n",
       "1  Alina was a really good host. The flat is clea...  \n",
       "2  Alina is an amazing host. She made me feel rig...  \n",
       "3  Alina's place is so nice, the room is big and ...  \n",
       "4  Nice location in Islington area, good for shor...  "
      ]
     },
     "execution_count": 77,
     "metadata": {},
     "output_type": "execute_result"
    }
   ],
   "source": [
    "reviews = pd.read_csv(\"/Users/joelle/Downloads/reviews.csv\")\n",
    "reviews.head()"
   ]
  },
  {
   "cell_type": "code",
   "execution_count": 78,
   "id": "46d67802-00fa-4cec-a564-8adfd0918fea",
   "metadata": {},
   "outputs": [
    {
     "data": {
      "text/html": [
       "<div>\n",
       "<style scoped>\n",
       "    .dataframe tbody tr th:only-of-type {\n",
       "        vertical-align: middle;\n",
       "    }\n",
       "\n",
       "    .dataframe tbody tr th {\n",
       "        vertical-align: top;\n",
       "    }\n",
       "\n",
       "    .dataframe thead th {\n",
       "        text-align: right;\n",
       "    }\n",
       "</style>\n",
       "<table border=\"1\" class=\"dataframe\">\n",
       "  <thead>\n",
       "    <tr style=\"text-align: right;\">\n",
       "      <th></th>\n",
       "      <th>comments</th>\n",
       "    </tr>\n",
       "    <tr>\n",
       "      <th>id</th>\n",
       "      <th></th>\n",
       "    </tr>\n",
       "  </thead>\n",
       "  <tbody>\n",
       "    <tr>\n",
       "      <th>13913</th>\n",
       "      <td>My girlfriend and I hadn't known Alina before ...</td>\n",
       "    </tr>\n",
       "    <tr>\n",
       "      <th>13913</th>\n",
       "      <td>Alina was a really good host. The flat is clea...</td>\n",
       "    </tr>\n",
       "    <tr>\n",
       "      <th>13913</th>\n",
       "      <td>Alina is an amazing host. She made me feel rig...</td>\n",
       "    </tr>\n",
       "    <tr>\n",
       "      <th>13913</th>\n",
       "      <td>Alina's place is so nice, the room is big and ...</td>\n",
       "    </tr>\n",
       "    <tr>\n",
       "      <th>13913</th>\n",
       "      <td>Nice location in Islington area, good for shor...</td>\n",
       "    </tr>\n",
       "    <tr>\n",
       "      <th>...</th>\n",
       "      <td>...</td>\n",
       "    </tr>\n",
       "    <tr>\n",
       "      <th>53622933</th>\n",
       "      <td>Gregory is an absolutely amazing host! He went...</td>\n",
       "    </tr>\n",
       "    <tr>\n",
       "      <th>53629457</th>\n",
       "      <td>Those considering the aptm as a last minute bo...</td>\n",
       "    </tr>\n",
       "    <tr>\n",
       "      <th>53656459</th>\n",
       "      <td>One of the worst places I have ever stayed... ...</td>\n",
       "    </tr>\n",
       "    <tr>\n",
       "      <th>53657036</th>\n",
       "      <td>An exceptional little apartment for a short st...</td>\n",
       "    </tr>\n",
       "    <tr>\n",
       "      <th>53673183</th>\n",
       "      <td>This place is a true gem and needle in the hay...</td>\n",
       "    </tr>\n",
       "  </tbody>\n",
       "</table>\n",
       "<p>1043004 rows × 1 columns</p>\n",
       "</div>"
      ],
      "text/plain": [
       "                                                   comments\n",
       "id                                                         \n",
       "13913     My girlfriend and I hadn't known Alina before ...\n",
       "13913     Alina was a really good host. The flat is clea...\n",
       "13913     Alina is an amazing host. She made me feel rig...\n",
       "13913     Alina's place is so nice, the room is big and ...\n",
       "13913     Nice location in Islington area, good for shor...\n",
       "...                                                     ...\n",
       "53622933  Gregory is an absolutely amazing host! He went...\n",
       "53629457  Those considering the aptm as a last minute bo...\n",
       "53656459  One of the worst places I have ever stayed... ...\n",
       "53657036  An exceptional little apartment for a short st...\n",
       "53673183  This place is a true gem and needle in the hay...\n",
       "\n",
       "[1043004 rows x 1 columns]"
      ]
     },
     "execution_count": 78,
     "metadata": {},
     "output_type": "execute_result"
    }
   ],
   "source": [
    "reviews = reviews.drop(columns = [\"id\", \"date\", \"reviewer_id\", \"reviewer_name\"])\n",
    "reviews = reviews.set_index(\"listing_id\")\n",
    "reviews = reviews.rename_axis(\"id\")\n",
    "reviews"
   ]
  },
  {
   "cell_type": "code",
   "execution_count": 79,
   "id": "0eece644-49a0-4781-8c12-214ddaf8af80",
   "metadata": {},
   "outputs": [],
   "source": [
    "column = [\n",
    "        \"id\", \n",
    "        \"number_of_reviews\",\n",
    "        \"review_scores_rating\"\n",
    "]\n",
    "\n",
    "df1 = pd.read_csv(\"/Users/joelle/Downloads/listings 2.csv\", usecols=column)"
   ]
  },
  {
   "cell_type": "code",
   "execution_count": 80,
   "id": "5022c738-0815-4b78-b2d5-359accd4b202",
   "metadata": {},
   "outputs": [],
   "source": [
    "df1 = df1.set_index(\"id\")"
   ]
  },
  {
   "cell_type": "code",
   "execution_count": 81,
   "id": "6e6f133b-ba80-4b48-9d4c-193a1e8326e7",
   "metadata": {},
   "outputs": [
    {
     "data": {
      "text/html": [
       "<div>\n",
       "<style scoped>\n",
       "    .dataframe tbody tr th:only-of-type {\n",
       "        vertical-align: middle;\n",
       "    }\n",
       "\n",
       "    .dataframe tbody tr th {\n",
       "        vertical-align: top;\n",
       "    }\n",
       "\n",
       "    .dataframe thead th {\n",
       "        text-align: right;\n",
       "    }\n",
       "</style>\n",
       "<table border=\"1\" class=\"dataframe\">\n",
       "  <thead>\n",
       "    <tr style=\"text-align: right;\">\n",
       "      <th></th>\n",
       "      <th>number_of_reviews</th>\n",
       "      <th>review_scores_rating</th>\n",
       "    </tr>\n",
       "    <tr>\n",
       "      <th>id</th>\n",
       "      <th></th>\n",
       "      <th></th>\n",
       "    </tr>\n",
       "  </thead>\n",
       "  <tbody>\n",
       "    <tr>\n",
       "      <th>13913</th>\n",
       "      <td>22</td>\n",
       "      <td>4.86</td>\n",
       "    </tr>\n",
       "    <tr>\n",
       "      <th>15400</th>\n",
       "      <td>89</td>\n",
       "      <td>4.79</td>\n",
       "    </tr>\n",
       "    <tr>\n",
       "      <th>17402</th>\n",
       "      <td>43</td>\n",
       "      <td>4.69</td>\n",
       "    </tr>\n",
       "    <tr>\n",
       "      <th>17506</th>\n",
       "      <td>0</td>\n",
       "      <td>NaN</td>\n",
       "    </tr>\n",
       "    <tr>\n",
       "      <th>25123</th>\n",
       "      <td>129</td>\n",
       "      <td>4.78</td>\n",
       "    </tr>\n",
       "    <tr>\n",
       "      <th>...</th>\n",
       "      <td>...</td>\n",
       "      <td>...</td>\n",
       "    </tr>\n",
       "    <tr>\n",
       "      <th>53709893</th>\n",
       "      <td>0</td>\n",
       "      <td>NaN</td>\n",
       "    </tr>\n",
       "    <tr>\n",
       "      <th>53710986</th>\n",
       "      <td>0</td>\n",
       "      <td>NaN</td>\n",
       "    </tr>\n",
       "    <tr>\n",
       "      <th>53711668</th>\n",
       "      <td>0</td>\n",
       "      <td>NaN</td>\n",
       "    </tr>\n",
       "    <tr>\n",
       "      <th>53712786</th>\n",
       "      <td>0</td>\n",
       "      <td>NaN</td>\n",
       "    </tr>\n",
       "    <tr>\n",
       "      <th>53713050</th>\n",
       "      <td>0</td>\n",
       "      <td>NaN</td>\n",
       "    </tr>\n",
       "  </tbody>\n",
       "</table>\n",
       "<p>66641 rows × 2 columns</p>\n",
       "</div>"
      ],
      "text/plain": [
       "          number_of_reviews  review_scores_rating\n",
       "id                                               \n",
       "13913                    22                  4.86\n",
       "15400                    89                  4.79\n",
       "17402                    43                  4.69\n",
       "17506                     0                   NaN\n",
       "25123                   129                  4.78\n",
       "...                     ...                   ...\n",
       "53709893                  0                   NaN\n",
       "53710986                  0                   NaN\n",
       "53711668                  0                   NaN\n",
       "53712786                  0                   NaN\n",
       "53713050                  0                   NaN\n",
       "\n",
       "[66641 rows x 2 columns]"
      ]
     },
     "execution_count": 81,
     "metadata": {},
     "output_type": "execute_result"
    }
   ],
   "source": [
    "df1"
   ]
  },
  {
   "cell_type": "code",
   "execution_count": 82,
   "id": "5c29c89d-a1cc-4358-81aa-25aee60873e9",
   "metadata": {},
   "outputs": [
    {
     "data": {
      "text/html": [
       "<div>\n",
       "<style scoped>\n",
       "    .dataframe tbody tr th:only-of-type {\n",
       "        vertical-align: middle;\n",
       "    }\n",
       "\n",
       "    .dataframe tbody tr th {\n",
       "        vertical-align: top;\n",
       "    }\n",
       "\n",
       "    .dataframe thead th {\n",
       "        text-align: right;\n",
       "    }\n",
       "</style>\n",
       "<table border=\"1\" class=\"dataframe\">\n",
       "  <thead>\n",
       "    <tr style=\"text-align: right;\">\n",
       "      <th></th>\n",
       "      <th>number_of_reviews</th>\n",
       "      <th>review_scores_rating</th>\n",
       "      <th>comments</th>\n",
       "    </tr>\n",
       "    <tr>\n",
       "      <th>id</th>\n",
       "      <th></th>\n",
       "      <th></th>\n",
       "      <th></th>\n",
       "    </tr>\n",
       "  </thead>\n",
       "  <tbody>\n",
       "    <tr>\n",
       "      <th>13913</th>\n",
       "      <td>22</td>\n",
       "      <td>4.86</td>\n",
       "      <td>My girlfriend and I hadn't known Alina before ...</td>\n",
       "    </tr>\n",
       "    <tr>\n",
       "      <th>13913</th>\n",
       "      <td>22</td>\n",
       "      <td>4.86</td>\n",
       "      <td>Alina was a really good host. The flat is clea...</td>\n",
       "    </tr>\n",
       "    <tr>\n",
       "      <th>13913</th>\n",
       "      <td>22</td>\n",
       "      <td>4.86</td>\n",
       "      <td>Alina is an amazing host. She made me feel rig...</td>\n",
       "    </tr>\n",
       "    <tr>\n",
       "      <th>13913</th>\n",
       "      <td>22</td>\n",
       "      <td>4.86</td>\n",
       "      <td>Alina's place is so nice, the room is big and ...</td>\n",
       "    </tr>\n",
       "    <tr>\n",
       "      <th>13913</th>\n",
       "      <td>22</td>\n",
       "      <td>4.86</td>\n",
       "      <td>Nice location in Islington area, good for shor...</td>\n",
       "    </tr>\n",
       "    <tr>\n",
       "      <th>...</th>\n",
       "      <td>...</td>\n",
       "      <td>...</td>\n",
       "      <td>...</td>\n",
       "    </tr>\n",
       "    <tr>\n",
       "      <th>53622933</th>\n",
       "      <td>1</td>\n",
       "      <td>5.00</td>\n",
       "      <td>Gregory is an absolutely amazing host! He went...</td>\n",
       "    </tr>\n",
       "    <tr>\n",
       "      <th>53629457</th>\n",
       "      <td>1</td>\n",
       "      <td>2.00</td>\n",
       "      <td>Those considering the aptm as a last minute bo...</td>\n",
       "    </tr>\n",
       "    <tr>\n",
       "      <th>53656459</th>\n",
       "      <td>1</td>\n",
       "      <td>1.00</td>\n",
       "      <td>One of the worst places I have ever stayed... ...</td>\n",
       "    </tr>\n",
       "    <tr>\n",
       "      <th>53657036</th>\n",
       "      <td>1</td>\n",
       "      <td>5.00</td>\n",
       "      <td>An exceptional little apartment for a short st...</td>\n",
       "    </tr>\n",
       "    <tr>\n",
       "      <th>53673183</th>\n",
       "      <td>1</td>\n",
       "      <td>5.00</td>\n",
       "      <td>This place is a true gem and needle in the hay...</td>\n",
       "    </tr>\n",
       "  </tbody>\n",
       "</table>\n",
       "<p>1043004 rows × 3 columns</p>\n",
       "</div>"
      ],
      "text/plain": [
       "          number_of_reviews  review_scores_rating  \\\n",
       "id                                                  \n",
       "13913                    22                  4.86   \n",
       "13913                    22                  4.86   \n",
       "13913                    22                  4.86   \n",
       "13913                    22                  4.86   \n",
       "13913                    22                  4.86   \n",
       "...                     ...                   ...   \n",
       "53622933                  1                  5.00   \n",
       "53629457                  1                  2.00   \n",
       "53656459                  1                  1.00   \n",
       "53657036                  1                  5.00   \n",
       "53673183                  1                  5.00   \n",
       "\n",
       "                                                   comments  \n",
       "id                                                           \n",
       "13913     My girlfriend and I hadn't known Alina before ...  \n",
       "13913     Alina was a really good host. The flat is clea...  \n",
       "13913     Alina is an amazing host. She made me feel rig...  \n",
       "13913     Alina's place is so nice, the room is big and ...  \n",
       "13913     Nice location in Islington area, good for shor...  \n",
       "...                                                     ...  \n",
       "53622933  Gregory is an absolutely amazing host! He went...  \n",
       "53629457  Those considering the aptm as a last minute bo...  \n",
       "53656459  One of the worst places I have ever stayed... ...  \n",
       "53657036  An exceptional little apartment for a short st...  \n",
       "53673183  This place is a true gem and needle in the hay...  \n",
       "\n",
       "[1043004 rows x 3 columns]"
      ]
     },
     "execution_count": 82,
     "metadata": {},
     "output_type": "execute_result"
    }
   ],
   "source": [
    "reviews = pd.merge(df1, reviews, left_index = True, right_index = True)\n",
    "reviews"
   ]
  },
  {
   "cell_type": "code",
   "execution_count": 83,
   "id": "2f3cc367-2086-430a-96e5-526ce01098f2",
   "metadata": {},
   "outputs": [
    {
     "data": {
      "text/html": [
       "<div>\n",
       "<style scoped>\n",
       "    .dataframe tbody tr th:only-of-type {\n",
       "        vertical-align: middle;\n",
       "    }\n",
       "\n",
       "    .dataframe tbody tr th {\n",
       "        vertical-align: top;\n",
       "    }\n",
       "\n",
       "    .dataframe thead th {\n",
       "        text-align: right;\n",
       "    }\n",
       "</style>\n",
       "<table border=\"1\" class=\"dataframe\">\n",
       "  <thead>\n",
       "    <tr style=\"text-align: right;\">\n",
       "      <th></th>\n",
       "      <th>number_of_reviews</th>\n",
       "      <th>review_scores_rating</th>\n",
       "      <th>comments</th>\n",
       "    </tr>\n",
       "    <tr>\n",
       "      <th>id</th>\n",
       "      <th></th>\n",
       "      <th></th>\n",
       "      <th></th>\n",
       "    </tr>\n",
       "  </thead>\n",
       "  <tbody>\n",
       "    <tr>\n",
       "      <th>33332</th>\n",
       "      <td>11</td>\n",
       "      <td>4.55</td>\n",
       "      <td>NaN</td>\n",
       "    </tr>\n",
       "    <tr>\n",
       "      <th>75120</th>\n",
       "      <td>131</td>\n",
       "      <td>4.79</td>\n",
       "      <td>NaN</td>\n",
       "    </tr>\n",
       "    <tr>\n",
       "      <th>90549</th>\n",
       "      <td>127</td>\n",
       "      <td>4.90</td>\n",
       "      <td>NaN</td>\n",
       "    </tr>\n",
       "    <tr>\n",
       "      <th>107048</th>\n",
       "      <td>473</td>\n",
       "      <td>4.80</td>\n",
       "      <td>NaN</td>\n",
       "    </tr>\n",
       "    <tr>\n",
       "      <th>107051</th>\n",
       "      <td>529</td>\n",
       "      <td>4.91</td>\n",
       "      <td>NaN</td>\n",
       "    </tr>\n",
       "    <tr>\n",
       "      <th>...</th>\n",
       "      <td>...</td>\n",
       "      <td>...</td>\n",
       "      <td>...</td>\n",
       "    </tr>\n",
       "    <tr>\n",
       "      <th>51795260</th>\n",
       "      <td>9</td>\n",
       "      <td>5.00</td>\n",
       "      <td>NaN</td>\n",
       "    </tr>\n",
       "    <tr>\n",
       "      <th>51995358</th>\n",
       "      <td>9</td>\n",
       "      <td>5.00</td>\n",
       "      <td>NaN</td>\n",
       "    </tr>\n",
       "    <tr>\n",
       "      <th>52051745</th>\n",
       "      <td>98</td>\n",
       "      <td>4.61</td>\n",
       "      <td>NaN</td>\n",
       "    </tr>\n",
       "    <tr>\n",
       "      <th>52415146</th>\n",
       "      <td>6</td>\n",
       "      <td>4.83</td>\n",
       "      <td>NaN</td>\n",
       "    </tr>\n",
       "    <tr>\n",
       "      <th>53618701</th>\n",
       "      <td>1</td>\n",
       "      <td>5.00</td>\n",
       "      <td>NaN</td>\n",
       "    </tr>\n",
       "  </tbody>\n",
       "</table>\n",
       "<p>494 rows × 3 columns</p>\n",
       "</div>"
      ],
      "text/plain": [
       "          number_of_reviews  review_scores_rating comments\n",
       "id                                                        \n",
       "33332                    11                  4.55      NaN\n",
       "75120                   131                  4.79      NaN\n",
       "90549                   127                  4.90      NaN\n",
       "107048                  473                  4.80      NaN\n",
       "107051                  529                  4.91      NaN\n",
       "...                     ...                   ...      ...\n",
       "51795260                  9                  5.00      NaN\n",
       "51995358                  9                  5.00      NaN\n",
       "52051745                 98                  4.61      NaN\n",
       "52415146                  6                  4.83      NaN\n",
       "53618701                  1                  5.00      NaN\n",
       "\n",
       "[494 rows x 3 columns]"
      ]
     },
     "execution_count": 83,
     "metadata": {},
     "output_type": "execute_result"
    }
   ],
   "source": [
    "reviews[reviews.isna().any(axis = 1)]"
   ]
  },
  {
   "cell_type": "code",
   "execution_count": 84,
   "id": "a5ca9b87-1c29-4e4b-9fde-659d06b3ba48",
   "metadata": {},
   "outputs": [
    {
     "data": {
      "text/plain": [
       "number_of_reviews         0\n",
       "review_scores_rating      0\n",
       "comments                494\n",
       "dtype: int64"
      ]
     },
     "execution_count": 84,
     "metadata": {},
     "output_type": "execute_result"
    }
   ],
   "source": [
    "reviews.isna().sum()"
   ]
  },
  {
   "cell_type": "markdown",
   "id": "96424269-e962-468b-ade7-b68876c74845",
   "metadata": {},
   "source": [
    "Change cells with null values to blanks, since the guests did not leave any written comments."
   ]
  },
  {
   "cell_type": "code",
   "execution_count": 85,
   "id": "0d315dfd-4879-4906-b2cb-ae1c81c2d695",
   "metadata": {},
   "outputs": [],
   "source": [
    "import itertools\n",
    "import collections\n",
    "\n",
    "def convert(lst): \n",
    "    return ([i for item in lst for i in item.lower().split()]) \n",
    "\n",
    "new_reviews = convert(reviews['comments'].fillna(\"\"))"
   ]
  },
  {
   "cell_type": "code",
   "execution_count": 86,
   "id": "edbc4d78-e428-458f-b925-f16632bbf195",
   "metadata": {},
   "outputs": [
    {
     "data": {
      "text/html": [
       "<div>\n",
       "<style scoped>\n",
       "    .dataframe tbody tr th:only-of-type {\n",
       "        vertical-align: middle;\n",
       "    }\n",
       "\n",
       "    .dataframe tbody tr th {\n",
       "        vertical-align: top;\n",
       "    }\n",
       "\n",
       "    .dataframe thead th {\n",
       "        text-align: right;\n",
       "    }\n",
       "</style>\n",
       "<table border=\"1\" class=\"dataframe\">\n",
       "  <thead>\n",
       "    <tr style=\"text-align: right;\">\n",
       "      <th></th>\n",
       "      <th>words</th>\n",
       "      <th>count</th>\n",
       "    </tr>\n",
       "  </thead>\n",
       "  <tbody>\n",
       "    <tr>\n",
       "      <th>0</th>\n",
       "      <td>and</td>\n",
       "      <td>2087645</td>\n",
       "    </tr>\n",
       "    <tr>\n",
       "      <th>1</th>\n",
       "      <td>the</td>\n",
       "      <td>1884730</td>\n",
       "    </tr>\n",
       "    <tr>\n",
       "      <th>2</th>\n",
       "      <td>a</td>\n",
       "      <td>1329908</td>\n",
       "    </tr>\n",
       "    <tr>\n",
       "      <th>3</th>\n",
       "      <td>to</td>\n",
       "      <td>1194567</td>\n",
       "    </tr>\n",
       "    <tr>\n",
       "      <th>4</th>\n",
       "      <td>was</td>\n",
       "      <td>912066</td>\n",
       "    </tr>\n",
       "  </tbody>\n",
       "</table>\n",
       "</div>"
      ],
      "text/plain": [
       "  words    count\n",
       "0   and  2087645\n",
       "1   the  1884730\n",
       "2     a  1329908\n",
       "3    to  1194567\n",
       "4   was   912066"
      ]
     },
     "execution_count": 86,
     "metadata": {},
     "output_type": "execute_result"
    }
   ],
   "source": [
    "# Count word frequency\n",
    "count = collections.Counter(new_reviews) \n",
    "\n",
    "clean_count = pd.DataFrame(count.most_common(5), columns = [\"words\", \"count\"])\n",
    "clean_count.head()"
   ]
  },
  {
   "cell_type": "markdown",
   "id": "7f0817a3-f345-4af4-ad08-677c8bb1328b",
   "metadata": {},
   "source": [
    "**Removing stopwords**"
   ]
  },
  {
   "cell_type": "code",
   "execution_count": 87,
   "id": "68bbd457-b373-420d-8953-31c69265402b",
   "metadata": {},
   "outputs": [
    {
     "data": {
      "text/plain": [
       "['itself',\n",
       " 'who',\n",
       " 'again',\n",
       " 'by',\n",
       " 'up',\n",
       " 'shouldn',\n",
       " \"that'll\",\n",
       " \"shouldn't\",\n",
       " 'ain',\n",
       " 'my']"
      ]
     },
     "execution_count": 87,
     "metadata": {},
     "output_type": "execute_result"
    }
   ],
   "source": [
    "from nltk.corpus import stopwords\n",
    "stopwords_list = set(stopwords.words(\"english\"))\n",
    "list(stopwords_list)[:10]"
   ]
  },
  {
   "cell_type": "code",
   "execution_count": 88,
   "id": "6c844d71-f7c1-4b48-9be7-7559d0f88fac",
   "metadata": {},
   "outputs": [],
   "source": [
    "clean_reviews = [word for word in new_reviews if word not in stopwords_list]\n",
    "word_review_count = collections.Counter(clean_reviews)\n",
    "\n",
    "word_review_count_df = pd.DataFrame(word_review_count.most_common(15),\n",
    "                             columns=[\"words\", \"count\"])"
   ]
  },
  {
   "cell_type": "code",
   "execution_count": 89,
   "id": "542b8275-92b0-4777-a8be-4e7f19c52bd2",
   "metadata": {},
   "outputs": [
    {
     "data": {
      "image/png": "[encoded data removed]",
      "text/plain": [
       "<Figure size 576x576 with 1 Axes>"
      ]
     },
     "metadata": {
      "needs_background": "light"
     },
     "output_type": "display_data"
    }
   ],
   "source": [
    "fig3, ax3 = plt.subplots(figsize = (8, 8))\n",
    "\n",
    "# Plot horizontal bar graph\n",
    "word_review_count_df.sort_values(by = \"count\").plot.barh(x = \"words\", \n",
    "                                                         y = \"count\", \n",
    "                                                         ax = ax3)\n",
    "\n",
    "ax3.set_title(\"Most Frequent Words\")\n",
    "\n",
    "plt.show()"
   ]
  },
  {
   "cell_type": "markdown",
   "id": "cd356193-376b-46eb-bc11-e746e502206b",
   "metadata": {},
   "source": [
    "**Detecting positive and negative reviews**"
   ]
  },
  {
   "cell_type": "code",
   "execution_count": null,
   "id": "4c2c0ddf-a119-4164-af81-a82361e0b72c",
   "metadata": {},
   "outputs": [],
   "source": []
  },
  {
   "cell_type": "markdown",
   "id": "51183868-81c6-41cb-86a4-d6235abe9215",
   "metadata": {},
   "source": [
    "**Determine effect of having high ratings/number of reviews on price**"
   ]
  },
  {
   "cell_type": "code",
   "execution_count": 90,
   "id": "30fd3e2c-4fbd-451a-bd0c-d2c48beb3286",
   "metadata": {
    "tags": []
   },
   "outputs": [
    {
     "data": {
      "text/plain": [
       "15750"
      ]
     },
     "execution_count": 90,
     "metadata": {},
     "output_type": "execute_result"
    }
   ],
   "source": [
    "df[\"review_scores_rating\"].isna().sum()"
   ]
  },
  {
   "cell_type": "code",
   "execution_count": 91,
   "id": "16232b81-9cb9-4d6d-9fa4-745d9355221c",
   "metadata": {},
   "outputs": [],
   "source": [
    "#turn NaN scores into 'No Reviews'\n",
    "idx_vals = df['review_scores_rating'][df['number_of_reviews'] == 0].index.values.tolist()\n",
    "df.loc[idx_vals, ('review_scores_rating')] = df['review_scores_rating'][df['number_of_reviews'] == 0].replace('NaN', 'No Reviews')\n",
    "\n",
    "#remove inconsistent NaN values\n",
    "df = df[~df['review_scores_rating'].isnull()]"
   ]
  },
  {
   "cell_type": "markdown",
   "id": "cc58f279-8094-4e7e-a15f-86b239fe6e5e",
   "metadata": {},
   "source": [
    "**Determine the effect of review score on prices**\n",
    "\n",
    "We rounded the review score values to integers to make it easier to plot. "
   ]
  },
  {
   "cell_type": "code",
   "execution_count": 92,
   "id": "5ce5bb45-0839-486f-bad1-2ec61aba70b0",
   "metadata": {},
   "outputs": [],
   "source": [
    "df[\"review_scores_rating\"] = df[\"review_scores_rating\"].round(0)"
   ]
  },
  {
   "cell_type": "code",
   "execution_count": 93,
   "id": "c5fe0d7f-0dc2-4946-bfe1-80304369f347",
   "metadata": {},
   "outputs": [
    {
     "data": {
      "text/plain": [
       "(array([0, 1, 2, 3, 4, 5]),\n",
       " [Text(0, 0, '0.0'),\n",
       "  Text(1, 0, '1.0'),\n",
       "  Text(2, 0, '2.0'),\n",
       "  Text(3, 0, '3.0'),\n",
       "  Text(4, 0, '4.0'),\n",
       "  Text(5, 0, '5.0')])"
      ]
     },
     "execution_count": 93,
     "metadata": {},
     "output_type": "execute_result"
    },
    {
     "data": {
      "image/png": "[encoded data removed]",
      "text/plain": [
       "<Figure size 432x288 with 1 Axes>"
      ]
     },
     "metadata": {
      "needs_background": "light"
     },
     "output_type": "display_data"
    }
   ],
   "source": [
    "plt.figure(figsize=(6,4))\n",
    "df.groupby(\"review_scores_rating\").price.median().plot(kind=\"bar\", color='mediumblue')\n",
    "plt.title(\"Effect of Review Score on Price\", fontsize=14)\n",
    "plt.xlabel(\"Review Score\", fontsize=13)\n",
    "plt.ylabel(\"Median Price\", fontsize=13)\n",
    "plt.xticks(rotation = 0)"
   ]
  },
  {
   "cell_type": "code",
   "execution_count": null,
   "id": "2662310c-1e69-4679-bbfd-641df73ffe3f",
   "metadata": {},
   "outputs": [],
   "source": []
  }
 ],
 "metadata": {
  "kernelspec": {
   "display_name": "Python 3 (ipykernel)",
   "language": "python",
   "name": "python3"
  },
  "language_info": {
   "codemirror_mode": {
    "name": "ipython",
    "version": 3
   },
   "file_extension": ".py",
   "mimetype": "text/x-python",
   "name": "python",
   "nbconvert_exporter": "python",
   "pygments_lexer": "ipython3",
   "version": "3.9.7"
  }
 },
 "nbformat": 4,
 "nbformat_minor": 5
}
