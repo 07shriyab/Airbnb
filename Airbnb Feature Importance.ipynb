{
 "cells": [
  {
   "cell_type": "markdown",
   "id": "442edc58-a128-422a-b094-667ad2b43882",
   "metadata": {},
   "source": [
    "## Contents:\n",
    "1. **[Cleaning Data](#Cleaning)**\n",
    "2. **[Feature Importance using Decision Tree](#Decision)**\n",
    "3. **[Feature Importance using Random Forest Regression](#Forest)**"
   ]
  },
  {
   "cell_type": "markdown",
   "id": "a9e5446c-a2c4-459c-85a9-4d566f3579cf",
   "metadata": {
    "tags": []
   },
   "source": [
    "<a id=\"Cleaning\"></a>\n",
    "## Cleaning Data"
   ]
  },
  {
   "cell_type": "markdown",
   "id": "9af67ec3-1758-4023-90d9-233687d87484",
   "metadata": {},
   "source": [
    "Import required libraries"
   ]
  },
  {
   "cell_type": "code",
   "execution_count": 1,
   "id": "a5e13849-2d38-4b2b-9d62-845f5c24d974",
   "metadata": {},
   "outputs": [],
   "source": [
    "import pandas as pd\n",
    "import numpy as np\n",
    "from numpy.random import seed\n",
    "seed(123)\n",
    "import matplotlib.pyplot as plt\n",
    "%matplotlib inline\n",
    "from datetime import datetime\n",
    "import seaborn as sns\n",
    "from sklearn.preprocessing import StandardScaler, MinMaxScaler\n",
    "from sklearn.model_selection import train_test_split, cross_val_score\n",
    "import xgboost as xgb\n",
    "from xgboost import plot_importance\n",
    "from sklearn.metrics import explained_variance_score, mean_squared_error, r2_score\n",
    "import time\n",
    "from IPython.display import SVG\n",
    "from statsmodels.tsa.seasonal import seasonal_decompose"
   ]
  },
  {
   "cell_type": "markdown",
   "id": "ff21c60e-fd89-490c-a6f6-df9cce97de58",
   "metadata": {},
   "source": [
    "Import the data"
   ]
  },
  {
   "cell_type": "code",
   "execution_count": 2,
   "id": "c807e685-3c79-454b-9899-f4bd945b6ba7",
   "metadata": {},
   "outputs": [],
   "source": [
    "cols = [\n",
    "    \"id\",\n",
    "    \"host_is_superhost\",\n",
    "    \"host_total_listings_count\",\n",
    "    \"host_identity_verified\",\n",
    "    \"accommodates\",\n",
    "    \"bathrooms_text\",\n",
    "    \"bedrooms\",\n",
    "    \"beds\",\n",
    "    \"price\",\n",
    "    \"minimum_nights\",\n",
    "    \"availability_365\",\n",
    "    \"number_of_reviews\",\n",
    "    \"review_scores_rating\",\n",
    "    \"review_scores_cleanliness\",\n",
    "    \"review_scores_accuracy\",\n",
    "    \"review_scores_checkin\",\n",
    "    \"review_scores_communication\",\n",
    "    \"review_scores_location\",\n",
    "    \"instant_bookable\",\n",
    "    \n",
    "]\n",
    "\n",
    "df = pd.read_csv(\"listings 2.csv\", usecols=cols)"
   ]
  },
  {
   "cell_type": "code",
   "execution_count": 3,
   "id": "636401fc-27a5-46a4-8b4c-171874c51125",
   "metadata": {},
   "outputs": [],
   "source": [
    "pd.options.mode.chained_assignment = None"
   ]
  },
  {
   "cell_type": "code",
   "execution_count": 4,
   "id": "d13f873a-8b83-4290-9969-870f858a2148",
   "metadata": {},
   "outputs": [
    {
     "data": {
      "text/plain": [
       "id                                 0\n",
       "host_is_superhost                 59\n",
       "host_total_listings_count         59\n",
       "host_identity_verified            59\n",
       "accommodates                       0\n",
       "bathrooms_text                   244\n",
       "bedrooms                        4017\n",
       "beds                            3646\n",
       "price                              0\n",
       "minimum_nights                     0\n",
       "availability_365                   0\n",
       "number_of_reviews                  0\n",
       "review_scores_rating           18559\n",
       "review_scores_accuracy         19877\n",
       "review_scores_cleanliness      19866\n",
       "review_scores_checkin          19916\n",
       "review_scores_communication    19880\n",
       "review_scores_location         19917\n",
       "instant_bookable                   0\n",
       "dtype: int64"
      ]
     },
     "execution_count": 4,
     "metadata": {},
     "output_type": "execute_result"
    }
   ],
   "source": [
    "df.isna().sum()"
   ]
  },
  {
   "cell_type": "markdown",
   "id": "5d464623-e726-47f0-a6eb-013a0e19dc65",
   "metadata": {},
   "source": [
    "Drop NaN values"
   ]
  },
  {
   "cell_type": "code",
   "execution_count": 5,
   "id": "1c8c467a-7dc7-4109-9fb8-35ffd848fc65",
   "metadata": {},
   "outputs": [
    {
     "data": {
      "text/html": [
       "<div>\n",
       "<style scoped>\n",
       "    .dataframe tbody tr th:only-of-type {\n",
       "        vertical-align: middle;\n",
       "    }\n",
       "\n",
       "    .dataframe tbody tr th {\n",
       "        vertical-align: top;\n",
       "    }\n",
       "\n",
       "    .dataframe thead th {\n",
       "        text-align: right;\n",
       "    }\n",
       "</style>\n",
       "<table border=\"1\" class=\"dataframe\">\n",
       "  <thead>\n",
       "    <tr style=\"text-align: right;\">\n",
       "      <th></th>\n",
       "      <th>id</th>\n",
       "      <th>host_is_superhost</th>\n",
       "      <th>host_total_listings_count</th>\n",
       "      <th>host_identity_verified</th>\n",
       "      <th>accommodates</th>\n",
       "      <th>bathrooms_text</th>\n",
       "      <th>bedrooms</th>\n",
       "      <th>beds</th>\n",
       "      <th>price</th>\n",
       "      <th>minimum_nights</th>\n",
       "      <th>availability_365</th>\n",
       "      <th>number_of_reviews</th>\n",
       "      <th>review_scores_rating</th>\n",
       "      <th>review_scores_accuracy</th>\n",
       "      <th>review_scores_cleanliness</th>\n",
       "      <th>review_scores_checkin</th>\n",
       "      <th>review_scores_communication</th>\n",
       "      <th>review_scores_location</th>\n",
       "      <th>instant_bookable</th>\n",
       "    </tr>\n",
       "  </thead>\n",
       "  <tbody>\n",
       "    <tr>\n",
       "      <th>1</th>\n",
       "      <td>15400</td>\n",
       "      <td>f</td>\n",
       "      <td>1.0</td>\n",
       "      <td>t</td>\n",
       "      <td>2</td>\n",
       "      <td>1 bath</td>\n",
       "      <td>1.0</td>\n",
       "      <td>1.0</td>\n",
       "      <td>$75.00</td>\n",
       "      <td>3</td>\n",
       "      <td>4</td>\n",
       "      <td>89</td>\n",
       "      <td>4.79</td>\n",
       "      <td>4.84</td>\n",
       "      <td>4.88</td>\n",
       "      <td>4.87</td>\n",
       "      <td>4.82</td>\n",
       "      <td>4.93</td>\n",
       "      <td>f</td>\n",
       "    </tr>\n",
       "    <tr>\n",
       "      <th>2</th>\n",
       "      <td>17402</td>\n",
       "      <td>f</td>\n",
       "      <td>18.0</td>\n",
       "      <td>t</td>\n",
       "      <td>6</td>\n",
       "      <td>2 baths</td>\n",
       "      <td>3.0</td>\n",
       "      <td>3.0</td>\n",
       "      <td>$265.00</td>\n",
       "      <td>4</td>\n",
       "      <td>295</td>\n",
       "      <td>43</td>\n",
       "      <td>4.69</td>\n",
       "      <td>4.80</td>\n",
       "      <td>4.68</td>\n",
       "      <td>4.66</td>\n",
       "      <td>4.66</td>\n",
       "      <td>4.85</td>\n",
       "      <td>f</td>\n",
       "    </tr>\n",
       "    <tr>\n",
       "      <th>3</th>\n",
       "      <td>17506</td>\n",
       "      <td>f</td>\n",
       "      <td>3.0</td>\n",
       "      <td>t</td>\n",
       "      <td>2</td>\n",
       "      <td>1 private bath</td>\n",
       "      <td>1.0</td>\n",
       "      <td>1.0</td>\n",
       "      <td>$150.00</td>\n",
       "      <td>3</td>\n",
       "      <td>364</td>\n",
       "      <td>0</td>\n",
       "      <td>NaN</td>\n",
       "      <td>NaN</td>\n",
       "      <td>NaN</td>\n",
       "      <td>NaN</td>\n",
       "      <td>NaN</td>\n",
       "      <td>NaN</td>\n",
       "      <td>f</td>\n",
       "    </tr>\n",
       "    <tr>\n",
       "      <th>5</th>\n",
       "      <td>33332</td>\n",
       "      <td>f</td>\n",
       "      <td>2.0</td>\n",
       "      <td>t</td>\n",
       "      <td>2</td>\n",
       "      <td>1 private bath</td>\n",
       "      <td>1.0</td>\n",
       "      <td>1.0</td>\n",
       "      <td>$65.00</td>\n",
       "      <td>2</td>\n",
       "      <td>362</td>\n",
       "      <td>11</td>\n",
       "      <td>4.55</td>\n",
       "      <td>4.50</td>\n",
       "      <td>4.60</td>\n",
       "      <td>4.70</td>\n",
       "      <td>4.80</td>\n",
       "      <td>4.80</td>\n",
       "      <td>f</td>\n",
       "    </tr>\n",
       "    <tr>\n",
       "      <th>6</th>\n",
       "      <td>36299</td>\n",
       "      <td>f</td>\n",
       "      <td>1.0</td>\n",
       "      <td>t</td>\n",
       "      <td>5</td>\n",
       "      <td>1.5 baths</td>\n",
       "      <td>3.0</td>\n",
       "      <td>3.0</td>\n",
       "      <td>$195.00</td>\n",
       "      <td>3</td>\n",
       "      <td>300</td>\n",
       "      <td>86</td>\n",
       "      <td>4.82</td>\n",
       "      <td>4.81</td>\n",
       "      <td>4.80</td>\n",
       "      <td>4.94</td>\n",
       "      <td>4.96</td>\n",
       "      <td>4.90</td>\n",
       "      <td>f</td>\n",
       "    </tr>\n",
       "    <tr>\n",
       "      <th>...</th>\n",
       "      <td>...</td>\n",
       "      <td>...</td>\n",
       "      <td>...</td>\n",
       "      <td>...</td>\n",
       "      <td>...</td>\n",
       "      <td>...</td>\n",
       "      <td>...</td>\n",
       "      <td>...</td>\n",
       "      <td>...</td>\n",
       "      <td>...</td>\n",
       "      <td>...</td>\n",
       "      <td>...</td>\n",
       "      <td>...</td>\n",
       "      <td>...</td>\n",
       "      <td>...</td>\n",
       "      <td>...</td>\n",
       "      <td>...</td>\n",
       "      <td>...</td>\n",
       "      <td>...</td>\n",
       "    </tr>\n",
       "    <tr>\n",
       "      <th>66636</th>\n",
       "      <td>53709893</td>\n",
       "      <td>t</td>\n",
       "      <td>13.0</td>\n",
       "      <td>t</td>\n",
       "      <td>6</td>\n",
       "      <td>1 bath</td>\n",
       "      <td>3.0</td>\n",
       "      <td>3.0</td>\n",
       "      <td>$120.00</td>\n",
       "      <td>2</td>\n",
       "      <td>253</td>\n",
       "      <td>0</td>\n",
       "      <td>NaN</td>\n",
       "      <td>NaN</td>\n",
       "      <td>NaN</td>\n",
       "      <td>NaN</td>\n",
       "      <td>NaN</td>\n",
       "      <td>NaN</td>\n",
       "      <td>f</td>\n",
       "    </tr>\n",
       "    <tr>\n",
       "      <th>66637</th>\n",
       "      <td>53710986</td>\n",
       "      <td>f</td>\n",
       "      <td>9.0</td>\n",
       "      <td>t</td>\n",
       "      <td>8</td>\n",
       "      <td>2.5 baths</td>\n",
       "      <td>3.0</td>\n",
       "      <td>4.0</td>\n",
       "      <td>$288.00</td>\n",
       "      <td>3</td>\n",
       "      <td>260</td>\n",
       "      <td>0</td>\n",
       "      <td>NaN</td>\n",
       "      <td>NaN</td>\n",
       "      <td>NaN</td>\n",
       "      <td>NaN</td>\n",
       "      <td>NaN</td>\n",
       "      <td>NaN</td>\n",
       "      <td>t</td>\n",
       "    </tr>\n",
       "    <tr>\n",
       "      <th>66638</th>\n",
       "      <td>53711668</td>\n",
       "      <td>t</td>\n",
       "      <td>5.0</td>\n",
       "      <td>t</td>\n",
       "      <td>4</td>\n",
       "      <td>2 baths</td>\n",
       "      <td>2.0</td>\n",
       "      <td>1.0</td>\n",
       "      <td>$104.00</td>\n",
       "      <td>5</td>\n",
       "      <td>73</td>\n",
       "      <td>0</td>\n",
       "      <td>NaN</td>\n",
       "      <td>NaN</td>\n",
       "      <td>NaN</td>\n",
       "      <td>NaN</td>\n",
       "      <td>NaN</td>\n",
       "      <td>NaN</td>\n",
       "      <td>t</td>\n",
       "    </tr>\n",
       "    <tr>\n",
       "      <th>66639</th>\n",
       "      <td>53712786</td>\n",
       "      <td>f</td>\n",
       "      <td>4.0</td>\n",
       "      <td>t</td>\n",
       "      <td>4</td>\n",
       "      <td>2.5 baths</td>\n",
       "      <td>2.0</td>\n",
       "      <td>2.0</td>\n",
       "      <td>$402.00</td>\n",
       "      <td>7</td>\n",
       "      <td>365</td>\n",
       "      <td>0</td>\n",
       "      <td>NaN</td>\n",
       "      <td>NaN</td>\n",
       "      <td>NaN</td>\n",
       "      <td>NaN</td>\n",
       "      <td>NaN</td>\n",
       "      <td>NaN</td>\n",
       "      <td>t</td>\n",
       "    </tr>\n",
       "    <tr>\n",
       "      <th>66640</th>\n",
       "      <td>53713050</td>\n",
       "      <td>f</td>\n",
       "      <td>5.0</td>\n",
       "      <td>t</td>\n",
       "      <td>4</td>\n",
       "      <td>1 bath</td>\n",
       "      <td>1.0</td>\n",
       "      <td>2.0</td>\n",
       "      <td>$70.00</td>\n",
       "      <td>2</td>\n",
       "      <td>85</td>\n",
       "      <td>0</td>\n",
       "      <td>NaN</td>\n",
       "      <td>NaN</td>\n",
       "      <td>NaN</td>\n",
       "      <td>NaN</td>\n",
       "      <td>NaN</td>\n",
       "      <td>NaN</td>\n",
       "      <td>f</td>\n",
       "    </tr>\n",
       "  </tbody>\n",
       "</table>\n",
       "<p>59127 rows × 19 columns</p>\n",
       "</div>"
      ],
      "text/plain": [
       "             id host_is_superhost  host_total_listings_count  \\\n",
       "1         15400                 f                        1.0   \n",
       "2         17402                 f                       18.0   \n",
       "3         17506                 f                        3.0   \n",
       "5         33332                 f                        2.0   \n",
       "6         36299                 f                        1.0   \n",
       "...         ...               ...                        ...   \n",
       "66636  53709893                 t                       13.0   \n",
       "66637  53710986                 f                        9.0   \n",
       "66638  53711668                 t                        5.0   \n",
       "66639  53712786                 f                        4.0   \n",
       "66640  53713050                 f                        5.0   \n",
       "\n",
       "      host_identity_verified  accommodates  bathrooms_text  bedrooms  beds  \\\n",
       "1                          t             2          1 bath       1.0   1.0   \n",
       "2                          t             6         2 baths       3.0   3.0   \n",
       "3                          t             2  1 private bath       1.0   1.0   \n",
       "5                          t             2  1 private bath       1.0   1.0   \n",
       "6                          t             5       1.5 baths       3.0   3.0   \n",
       "...                      ...           ...             ...       ...   ...   \n",
       "66636                      t             6          1 bath       3.0   3.0   \n",
       "66637                      t             8       2.5 baths       3.0   4.0   \n",
       "66638                      t             4         2 baths       2.0   1.0   \n",
       "66639                      t             4       2.5 baths       2.0   2.0   \n",
       "66640                      t             4          1 bath       1.0   2.0   \n",
       "\n",
       "         price  minimum_nights  availability_365  number_of_reviews  \\\n",
       "1       $75.00               3                 4                 89   \n",
       "2      $265.00               4               295                 43   \n",
       "3      $150.00               3               364                  0   \n",
       "5       $65.00               2               362                 11   \n",
       "6      $195.00               3               300                 86   \n",
       "...        ...             ...               ...                ...   \n",
       "66636  $120.00               2               253                  0   \n",
       "66637  $288.00               3               260                  0   \n",
       "66638  $104.00               5                73                  0   \n",
       "66639  $402.00               7               365                  0   \n",
       "66640   $70.00               2                85                  0   \n",
       "\n",
       "       review_scores_rating  review_scores_accuracy  \\\n",
       "1                      4.79                    4.84   \n",
       "2                      4.69                    4.80   \n",
       "3                       NaN                     NaN   \n",
       "5                      4.55                    4.50   \n",
       "6                      4.82                    4.81   \n",
       "...                     ...                     ...   \n",
       "66636                   NaN                     NaN   \n",
       "66637                   NaN                     NaN   \n",
       "66638                   NaN                     NaN   \n",
       "66639                   NaN                     NaN   \n",
       "66640                   NaN                     NaN   \n",
       "\n",
       "       review_scores_cleanliness  review_scores_checkin  \\\n",
       "1                           4.88                   4.87   \n",
       "2                           4.68                   4.66   \n",
       "3                            NaN                    NaN   \n",
       "5                           4.60                   4.70   \n",
       "6                           4.80                   4.94   \n",
       "...                          ...                    ...   \n",
       "66636                        NaN                    NaN   \n",
       "66637                        NaN                    NaN   \n",
       "66638                        NaN                    NaN   \n",
       "66639                        NaN                    NaN   \n",
       "66640                        NaN                    NaN   \n",
       "\n",
       "       review_scores_communication  review_scores_location instant_bookable  \n",
       "1                             4.82                    4.93                f  \n",
       "2                             4.66                    4.85                f  \n",
       "3                              NaN                     NaN                f  \n",
       "5                             4.80                    4.80                f  \n",
       "6                             4.96                    4.90                f  \n",
       "...                            ...                     ...              ...  \n",
       "66636                          NaN                     NaN                f  \n",
       "66637                          NaN                     NaN                t  \n",
       "66638                          NaN                     NaN                t  \n",
       "66639                          NaN                     NaN                t  \n",
       "66640                          NaN                     NaN                f  \n",
       "\n",
       "[59127 rows x 19 columns]"
      ]
     },
     "execution_count": 5,
     "metadata": {},
     "output_type": "execute_result"
    }
   ],
   "source": [
    "df = df.dropna(subset = [\"host_is_superhost\", \"host_total_listings_count\", \"bathrooms_text\", \"bedrooms\", \"beds\"])\n",
    "\n",
    "df"
   ]
  },
  {
   "cell_type": "code",
   "execution_count": 6,
   "id": "f76afec4-f3c5-4c24-9b95-e32fab0836f9",
   "metadata": {},
   "outputs": [
    {
     "data": {
      "text/plain": [
       "0"
      ]
     },
     "execution_count": 6,
     "metadata": {},
     "output_type": "execute_result"
    }
   ],
   "source": [
    "sum((df.minimum_nights == df.minimum_nights) == False)"
   ]
  },
  {
   "cell_type": "code",
   "execution_count": 7,
   "id": "1f5f8c9e-7d2f-43e0-a4cd-84b08a97f5ef",
   "metadata": {},
   "outputs": [],
   "source": [
    "df = df[df.accommodates != 0]\n",
    "df = df[df.bedrooms != 0]\n",
    "df = df[df.beds != 0]\n",
    "df = df[df.price != 0]"
   ]
  },
  {
   "cell_type": "code",
   "execution_count": 8,
   "id": "b41436e7-133e-4cec-991f-d8dc2c50e66f",
   "metadata": {},
   "outputs": [
    {
     "data": {
      "image/png": "[encoded data removed]",
      "text/plain": [
       "<Figure size 1440x1440 with 20 Axes>"
      ]
     },
     "metadata": {
      "needs_background": "light"
     },
     "output_type": "display_data"
    }
   ],
   "source": [
    "# Replacing columns with f/t with 0/1\n",
    "df.replace({'f': 0, 't': 1}, inplace=True)\n",
    "\n",
    "# Plotting the distribution of numerical and boolean categories\n",
    "df.hist(figsize=(20,20));"
   ]
  },
  {
   "cell_type": "code",
   "execution_count": 9,
   "id": "643f3151-4d75-482f-ada4-9d9986d0bb21",
   "metadata": {},
   "outputs": [
    {
     "data": {
      "text/plain": [
       "0"
      ]
     },
     "execution_count": 9,
     "metadata": {},
     "output_type": "execute_result"
    }
   ],
   "source": [
    "# Number of rows without a value for multiple host-related columns\n",
    "len(df[df.loc[ :,[ 'host_is_superhost', 'host_total_listings_count', 'host_identity_verified'] ].isnull().sum(axis=1) == 5])"
   ]
  },
  {
   "cell_type": "code",
   "execution_count": 10,
   "id": "628d88e7-1b03-48bf-9798-834b43654533",
   "metadata": {},
   "outputs": [],
   "source": [
    "df.price = df.price.str[1:-3]\n",
    "df.price = df.price.str.replace(\",\", \"\")\n",
    "df.price = df.price.astype('int64')"
   ]
  },
  {
   "cell_type": "code",
   "execution_count": 11,
   "id": "cf4637b5-cf10-48d7-b5d1-6764bff9734f",
   "metadata": {},
   "outputs": [],
   "source": [
    "df[\"bathrooms_text\"] = df.bathrooms_text.str.replace(r\"\\D+\", \"\",regex=True)"
   ]
  },
  {
   "cell_type": "code",
   "execution_count": 12,
   "id": "a5f647bb-a8f7-4326-8dcb-397ea73b07fd",
   "metadata": {},
   "outputs": [],
   "source": [
    "df[\"bathrooms_text\"]=df.bathrooms_text.replace('',np.nan).astype(float)"
   ]
  },
  {
   "cell_type": "code",
   "execution_count": 13,
   "id": "51c7bafb-6fdd-4dd9-8455-adca4e334806",
   "metadata": {},
   "outputs": [
    {
     "data": {
      "text/html": [
       "<div>\n",
       "<style scoped>\n",
       "    .dataframe tbody tr th:only-of-type {\n",
       "        vertical-align: middle;\n",
       "    }\n",
       "\n",
       "    .dataframe tbody tr th {\n",
       "        vertical-align: top;\n",
       "    }\n",
       "\n",
       "    .dataframe thead th {\n",
       "        text-align: right;\n",
       "    }\n",
       "</style>\n",
       "<table border=\"1\" class=\"dataframe\">\n",
       "  <thead>\n",
       "    <tr style=\"text-align: right;\">\n",
       "      <th></th>\n",
       "      <th>id</th>\n",
       "      <th>host_is_superhost</th>\n",
       "      <th>host_total_listings_count</th>\n",
       "      <th>host_identity_verified</th>\n",
       "      <th>accommodates</th>\n",
       "      <th>bathrooms_text</th>\n",
       "      <th>bedrooms</th>\n",
       "      <th>beds</th>\n",
       "      <th>price</th>\n",
       "      <th>minimum_nights</th>\n",
       "      <th>availability_365</th>\n",
       "      <th>number_of_reviews</th>\n",
       "      <th>review_scores_rating</th>\n",
       "      <th>review_scores_accuracy</th>\n",
       "      <th>review_scores_cleanliness</th>\n",
       "      <th>review_scores_checkin</th>\n",
       "      <th>review_scores_communication</th>\n",
       "      <th>review_scores_location</th>\n",
       "      <th>instant_bookable</th>\n",
       "    </tr>\n",
       "  </thead>\n",
       "  <tbody>\n",
       "    <tr>\n",
       "      <th>1</th>\n",
       "      <td>15400</td>\n",
       "      <td>0</td>\n",
       "      <td>1.0</td>\n",
       "      <td>1</td>\n",
       "      <td>2</td>\n",
       "      <td>1.0</td>\n",
       "      <td>1.0</td>\n",
       "      <td>1.0</td>\n",
       "      <td>75</td>\n",
       "      <td>3</td>\n",
       "      <td>4</td>\n",
       "      <td>89</td>\n",
       "      <td>4.79</td>\n",
       "      <td>4.84</td>\n",
       "      <td>4.88</td>\n",
       "      <td>4.87</td>\n",
       "      <td>4.82</td>\n",
       "      <td>4.93</td>\n",
       "      <td>0</td>\n",
       "    </tr>\n",
       "    <tr>\n",
       "      <th>2</th>\n",
       "      <td>17402</td>\n",
       "      <td>0</td>\n",
       "      <td>18.0</td>\n",
       "      <td>1</td>\n",
       "      <td>6</td>\n",
       "      <td>2.0</td>\n",
       "      <td>3.0</td>\n",
       "      <td>3.0</td>\n",
       "      <td>265</td>\n",
       "      <td>4</td>\n",
       "      <td>295</td>\n",
       "      <td>43</td>\n",
       "      <td>4.69</td>\n",
       "      <td>4.80</td>\n",
       "      <td>4.68</td>\n",
       "      <td>4.66</td>\n",
       "      <td>4.66</td>\n",
       "      <td>4.85</td>\n",
       "      <td>0</td>\n",
       "    </tr>\n",
       "    <tr>\n",
       "      <th>3</th>\n",
       "      <td>17506</td>\n",
       "      <td>0</td>\n",
       "      <td>3.0</td>\n",
       "      <td>1</td>\n",
       "      <td>2</td>\n",
       "      <td>1.0</td>\n",
       "      <td>1.0</td>\n",
       "      <td>1.0</td>\n",
       "      <td>150</td>\n",
       "      <td>3</td>\n",
       "      <td>364</td>\n",
       "      <td>0</td>\n",
       "      <td>NaN</td>\n",
       "      <td>NaN</td>\n",
       "      <td>NaN</td>\n",
       "      <td>NaN</td>\n",
       "      <td>NaN</td>\n",
       "      <td>NaN</td>\n",
       "      <td>0</td>\n",
       "    </tr>\n",
       "    <tr>\n",
       "      <th>5</th>\n",
       "      <td>33332</td>\n",
       "      <td>0</td>\n",
       "      <td>2.0</td>\n",
       "      <td>1</td>\n",
       "      <td>2</td>\n",
       "      <td>1.0</td>\n",
       "      <td>1.0</td>\n",
       "      <td>1.0</td>\n",
       "      <td>65</td>\n",
       "      <td>2</td>\n",
       "      <td>362</td>\n",
       "      <td>11</td>\n",
       "      <td>4.55</td>\n",
       "      <td>4.50</td>\n",
       "      <td>4.60</td>\n",
       "      <td>4.70</td>\n",
       "      <td>4.80</td>\n",
       "      <td>4.80</td>\n",
       "      <td>0</td>\n",
       "    </tr>\n",
       "    <tr>\n",
       "      <th>6</th>\n",
       "      <td>36299</td>\n",
       "      <td>0</td>\n",
       "      <td>1.0</td>\n",
       "      <td>1</td>\n",
       "      <td>5</td>\n",
       "      <td>15.0</td>\n",
       "      <td>3.0</td>\n",
       "      <td>3.0</td>\n",
       "      <td>195</td>\n",
       "      <td>3</td>\n",
       "      <td>300</td>\n",
       "      <td>86</td>\n",
       "      <td>4.82</td>\n",
       "      <td>4.81</td>\n",
       "      <td>4.80</td>\n",
       "      <td>4.94</td>\n",
       "      <td>4.96</td>\n",
       "      <td>4.90</td>\n",
       "      <td>0</td>\n",
       "    </tr>\n",
       "  </tbody>\n",
       "</table>\n",
       "</div>"
      ],
      "text/plain": [
       "      id  host_is_superhost  host_total_listings_count  \\\n",
       "1  15400                  0                        1.0   \n",
       "2  17402                  0                       18.0   \n",
       "3  17506                  0                        3.0   \n",
       "5  33332                  0                        2.0   \n",
       "6  36299                  0                        1.0   \n",
       "\n",
       "   host_identity_verified  accommodates  bathrooms_text  bedrooms  beds  \\\n",
       "1                       1             2             1.0       1.0   1.0   \n",
       "2                       1             6             2.0       3.0   3.0   \n",
       "3                       1             2             1.0       1.0   1.0   \n",
       "5                       1             2             1.0       1.0   1.0   \n",
       "6                       1             5            15.0       3.0   3.0   \n",
       "\n",
       "   price  minimum_nights  availability_365  number_of_reviews  \\\n",
       "1     75               3                 4                 89   \n",
       "2    265               4               295                 43   \n",
       "3    150               3               364                  0   \n",
       "5     65               2               362                 11   \n",
       "6    195               3               300                 86   \n",
       "\n",
       "   review_scores_rating  review_scores_accuracy  review_scores_cleanliness  \\\n",
       "1                  4.79                    4.84                       4.88   \n",
       "2                  4.69                    4.80                       4.68   \n",
       "3                   NaN                     NaN                        NaN   \n",
       "5                  4.55                    4.50                       4.60   \n",
       "6                  4.82                    4.81                       4.80   \n",
       "\n",
       "   review_scores_checkin  review_scores_communication  review_scores_location  \\\n",
       "1                   4.87                         4.82                    4.93   \n",
       "2                   4.66                         4.66                    4.85   \n",
       "3                    NaN                          NaN                     NaN   \n",
       "5                   4.70                         4.80                    4.80   \n",
       "6                   4.94                         4.96                    4.90   \n",
       "\n",
       "   instant_bookable  \n",
       "1                 0  \n",
       "2                 0  \n",
       "3                 0  \n",
       "5                 0  \n",
       "6                 0  "
      ]
     },
     "execution_count": 13,
     "metadata": {},
     "output_type": "execute_result"
    }
   ],
   "source": [
    "df.head()"
   ]
  },
  {
   "cell_type": "markdown",
   "id": "c08ea5d1-1cd4-4574-91d8-367c69580ac7",
   "metadata": {},
   "source": [
    "Determine data types of each column to ensure that a graph for feature importance can be plotted"
   ]
  },
  {
   "cell_type": "code",
   "execution_count": 14,
   "id": "8ce13095-426f-464d-9e25-41f1178e5849",
   "metadata": {},
   "outputs": [
    {
     "name": "stdout",
     "output_type": "stream",
     "text": [
      "<class 'pandas.core.frame.DataFrame'>\n",
      "Int64Index: 59127 entries, 1 to 66640\n",
      "Data columns (total 19 columns):\n",
      " #   Column                       Non-Null Count  Dtype  \n",
      "---  ------                       --------------  -----  \n",
      " 0   id                           59127 non-null  int64  \n",
      " 1   host_is_superhost            59127 non-null  int64  \n",
      " 2   host_total_listings_count    59127 non-null  float64\n",
      " 3   host_identity_verified       59127 non-null  int64  \n",
      " 4   accommodates                 59127 non-null  int64  \n",
      " 5   bathrooms_text               58882 non-null  float64\n",
      " 6   bedrooms                     59127 non-null  float64\n",
      " 7   beds                         59127 non-null  float64\n",
      " 8   price                        59127 non-null  int64  \n",
      " 9   minimum_nights               59127 non-null  int64  \n",
      " 10  availability_365             59127 non-null  int64  \n",
      " 11  number_of_reviews            59127 non-null  int64  \n",
      " 12  review_scores_rating         43376 non-null  float64\n",
      " 13  review_scores_accuracy       42192 non-null  float64\n",
      " 14  review_scores_cleanliness    42202 non-null  float64\n",
      " 15  review_scores_checkin        42151 non-null  float64\n",
      " 16  review_scores_communication  42185 non-null  float64\n",
      " 17  review_scores_location       42152 non-null  float64\n",
      " 18  instant_bookable             59127 non-null  int64  \n",
      "dtypes: float64(10), int64(9)\n",
      "memory usage: 9.0 MB\n"
     ]
    }
   ],
   "source": [
    "df.info()"
   ]
  },
  {
   "cell_type": "code",
   "execution_count": 15,
   "id": "ad27e4b1-8886-4f35-aa0e-53e23c0f8bab",
   "metadata": {},
   "outputs": [],
   "source": [
    "df = df.set_index('id')"
   ]
  },
  {
   "cell_type": "markdown",
   "id": "0f030403-4297-4ec1-be8b-dbbe8102d9c1",
   "metadata": {},
   "source": [
    "Limit prices to £1000"
   ]
  },
  {
   "cell_type": "code",
   "execution_count": 16,
   "id": "159d3106-59ad-4b88-95b6-322b7f44c1b7",
   "metadata": {},
   "outputs": [],
   "source": [
    "maxVal = 1000\n",
    "df['price'][df['price'] >= maxVal] = maxVal"
   ]
  },
  {
   "cell_type": "markdown",
   "id": "cf4e1e73-f30e-4952-9979-cbca9b74e1dd",
   "metadata": {},
   "source": [
    "Replace NaN values in review scores columns with 0 and drop NaN values in other columns"
   ]
  },
  {
   "cell_type": "code",
   "execution_count": 17,
   "id": "6445a4a1-5fdc-4707-890b-38b528533921",
   "metadata": {},
   "outputs": [],
   "source": [
    "df['review_scores_rating'] = df['review_scores_rating'].fillna(0)\n",
    "df['review_scores_accuracy'] = df['review_scores_accuracy'].fillna(0)\n",
    "df['review_scores_cleanliness'] = df['review_scores_cleanliness'].fillna(0)\n",
    "df['review_scores_checkin'] = df['review_scores_checkin'].fillna(0)\n",
    "df['review_scores_communication'] = df['review_scores_communication'].fillna(0)\n",
    "df['review_scores_location'] = df['review_scores_location'].fillna(0)\n",
    "\n",
    "\n",
    "df = df.dropna(subset = [\"host_is_superhost\", \"host_total_listings_count\", \"bathrooms_text\", \"bedrooms\", \"beds\"])"
   ]
  },
  {
   "cell_type": "code",
   "execution_count": 18,
   "id": "a33d36fa-91f0-401c-b75f-164c36471f4e",
   "metadata": {},
   "outputs": [],
   "source": [
    "def clean_dataset(df):\n",
    "    assert isinstance(df, pd.DataFrame), \"df needs to be a pd.DataFrame\"\n",
    "    df.dropna(inplace=True)\n",
    "    indices_to_keep = ~df.isin([np.nan, np.inf, -np.inf]).any(1)\n",
    "    return df[indices_to_keep].astype(np.float64)"
   ]
  },
  {
   "cell_type": "markdown",
   "id": "535fdad4-ecc7-4f4d-85b9-85324fa58938",
   "metadata": {
    "tags": []
   },
   "source": [
    "<a id=\"Decision\"></a>\n",
    "## Feature Importance using Decision Tree"
   ]
  },
  {
   "cell_type": "code",
   "execution_count": 19,
   "id": "f3e79b2c-1860-4506-8bd8-fa3a4cff596a",
   "metadata": {},
   "outputs": [],
   "source": [
    "# Putting feature variable to X\n",
    "X = df.drop('price',axis=1)\n",
    "\n",
    "# Putting response variable to y\n",
    "y = df['price']"
   ]
  },
  {
   "cell_type": "markdown",
   "id": "19731336-9338-4a54-9590-0962b3fd4826",
   "metadata": {},
   "source": [
    "Import train-test split"
   ]
  },
  {
   "cell_type": "code",
   "execution_count": 20,
   "id": "242a4e5d-d016-4967-9b8d-631741dcd7a4",
   "metadata": {},
   "outputs": [],
   "source": [
    "from sklearn.model_selection import train_test_split"
   ]
  },
  {
   "cell_type": "code",
   "execution_count": 21,
   "id": "8256f1a2-df1a-4292-8fa3-51cb50f7d042",
   "metadata": {},
   "outputs": [
    {
     "data": {
      "text/plain": [
       "((41217, 17), (17665, 17))"
      ]
     },
     "execution_count": 21,
     "metadata": {},
     "output_type": "execute_result"
    }
   ],
   "source": [
    "X_train, X_test, y_train, y_test = train_test_split(X, y, train_size=0.7, random_state=42)\n",
    "X_train.shape, X_test.shape"
   ]
  },
  {
   "cell_type": "markdown",
   "id": "29215959-1ee6-445f-81c4-ae7bb9d7aade",
   "metadata": {},
   "source": [
    "Import DecisionTreeClassifier"
   ]
  },
  {
   "cell_type": "code",
   "execution_count": 22,
   "id": "86cd824b-84f7-4797-954c-89eb55e44a1e",
   "metadata": {},
   "outputs": [],
   "source": [
    "from sklearn.tree import DecisionTreeClassifier"
   ]
  },
  {
   "cell_type": "code",
   "execution_count": 23,
   "id": "8eeabc0c-8a1e-4281-9c2c-d919812e48bf",
   "metadata": {},
   "outputs": [
    {
     "data": {
      "text/plain": [
       "DecisionTreeClassifier(max_depth=3, random_state=43)"
      ]
     },
     "execution_count": 23,
     "metadata": {},
     "output_type": "execute_result"
    }
   ],
   "source": [
    "dt = DecisionTreeClassifier(max_depth = 3, random_state = 43)\n",
    "dt.fit(X_train, y_train)"
   ]
  },
  {
   "cell_type": "code",
   "execution_count": 24,
   "id": "14642df7-b483-465a-842f-15a0f9db2a04",
   "metadata": {},
   "outputs": [],
   "source": [
    "from sklearn.metrics import confusion_matrix, accuracy_score"
   ]
  },
  {
   "cell_type": "code",
   "execution_count": 25,
   "id": "a331e5d7-c4d1-4a3f-b3b2-a8b287b940fe",
   "metadata": {},
   "outputs": [
    {
     "data": {
      "text/plain": [
       "DecisionTreeClassifier(random_state=43)"
      ]
     },
     "execution_count": 25,
     "metadata": {},
     "output_type": "execute_result"
    }
   ],
   "source": [
    "dt = DecisionTreeClassifier(random_state=43)\n",
    "dt.fit(X_train,y_train)"
   ]
  },
  {
   "cell_type": "code",
   "execution_count": 26,
   "id": "9420e7bf-b18b-4cea-bd81-7289942823c2",
   "metadata": {},
   "outputs": [],
   "source": [
    "y_train_pred = dt.predict(X_train)\n",
    "y_test_pred = dt.predict(X_test)"
   ]
  },
  {
   "cell_type": "code",
   "execution_count": 27,
   "id": "7ebff2d5-660b-4477-9046-a544da3a04eb",
   "metadata": {},
   "outputs": [
    {
     "name": "stdout",
     "output_type": "stream",
     "text": [
      "0.8829123905184754\n"
     ]
    },
    {
     "data": {
      "text/plain": [
       "array([[  2,   0,   0, ...,   0,   0,   0],\n",
       "       [  0,   0,   0, ...,   0,   0,   0],\n",
       "       [  0,   0,  20, ...,   0,   0,   0],\n",
       "       ...,\n",
       "       [  0,   0,   0, ...,   1,   0,   0],\n",
       "       [  0,   0,   0, ...,   0,   7,   0],\n",
       "       [  0,   0,   0, ...,   0,   0, 623]])"
      ]
     },
     "execution_count": 27,
     "metadata": {},
     "output_type": "execute_result"
    }
   ],
   "source": [
    "print(accuracy_score(y_train, y_train_pred))\n",
    "confusion_matrix(y_train, y_train_pred)"
   ]
  },
  {
   "cell_type": "code",
   "execution_count": 28,
   "id": "14db15f2-a0e9-45bf-b4ff-b3f26a7ab08c",
   "metadata": {},
   "outputs": [
    {
     "name": "stdout",
     "output_type": "stream",
     "text": [
      "0.04443815454288141\n"
     ]
    },
    {
     "data": {
      "text/plain": [
       "array([[  0,   0,   0, ...,   0,   0,   0],\n",
       "       [  0,   1,   0, ...,   0,   0,   0],\n",
       "       [  0,   0,   0, ...,   0,   0,   0],\n",
       "       ...,\n",
       "       [  0,   0,   0, ...,   0,   0,   0],\n",
       "       [  0,   0,   0, ...,   0,   0,   0],\n",
       "       [  0,   1,   0, ...,   0,   0, 126]])"
      ]
     },
     "execution_count": 28,
     "metadata": {},
     "output_type": "execute_result"
    }
   ],
   "source": [
    "print(accuracy_score(y_test, y_test_pred))\n",
    "confusion_matrix(y_test, y_test_pred)"
   ]
  },
  {
   "cell_type": "code",
   "execution_count": 29,
   "id": "6d0cff76-892c-4dc3-8343-85f94d7ea69c",
   "metadata": {},
   "outputs": [],
   "source": [
    "# Checking the overall accuracy.\n",
    "trainaccuracy= accuracy_score(y_train, y_train_pred)\n",
    "testaccuracy= accuracy_score(y_test, y_test_pred)\n",
    "\n",
    "confusion_TRN = confusion_matrix(y_train, y_train_pred)\n",
    "confusion_TST = confusion_matrix(y_test, y_test_pred)"
   ]
  },
  {
   "cell_type": "markdown",
   "id": "c0ba8990-b66a-45c0-8d7a-c0bced3370e3",
   "metadata": {},
   "source": [
    "Check the confusion matrix (true positive/negative, false positive/negative)"
   ]
  },
  {
   "cell_type": "code",
   "execution_count": 30,
   "id": "7822a2b8-cb41-4a78-a2a3-b6e2a294f065",
   "metadata": {},
   "outputs": [
    {
     "name": "stdout",
     "output_type": "stream",
     "text": [
      "------------------------------\n",
      "On Train Data\n",
      "------------------------------\n",
      "Accuracy    : 88.29 %\n",
      "Sensitivity : nan %\n",
      "Specificity : 100.0 %\n",
      "------------------------------\n",
      "On Test Data\n",
      "------------------------------\n",
      "Accuracy    : 4.44 %\n",
      "Sensitivity : 100.0 %\n",
      "Specificity : nan %\n",
      "------------------------------\n"
     ]
    },
    {
     "name": "stderr",
     "output_type": "stream",
     "text": [
      "/var/folders/98/_7wkwp_d073bz2gfk33t19hr0000gn/T/ipykernel_2323/742187470.py:11: RuntimeWarning: invalid value encountered in true_divide\n",
      "  trainsensitivity= TP / float(TP+FN)\n",
      "/var/folders/98/_7wkwp_d073bz2gfk33t19hr0000gn/T/ipykernel_2323/742187470.py:15: RuntimeWarning: invalid value encountered in true_divide\n",
      "  testspecificity= TN_TST / float(TN_TST+FP_TST)\n"
     ]
    }
   ],
   "source": [
    "TP = confusion_TRN[1,1] # true positive \n",
    "TN = confusion_TRN[0,0] # true negatives\n",
    "FP = confusion_TRN[0,1] # false positives\n",
    "FN = confusion_TRN[1,0] # false negatives\n",
    "\n",
    "TP_TST = confusion_TST[1,1] # true positive \n",
    "TN_TST = confusion_TST[0,0] # true negatives\n",
    "FP_TST = confusion_TST[0,1] # false positives\n",
    "FN_TST = confusion_TST[1,0] # false negatives\n",
    "\n",
    "trainsensitivity= TP / float(TP+FN)\n",
    "trainspecificity= TN / float(TN+FP)\n",
    "\n",
    "testsensitivity= TP_TST / float(TP_TST+FN_TST)\n",
    "testspecificity= TN_TST / float(TN_TST+FP_TST)\n",
    "\n",
    "# Let us compare the values obtained for Train & Test:\n",
    "print('-'*30)\n",
    "print('On Train Data')\n",
    "print('-'*30)\n",
    "print(\"Accuracy    : {} %\".format(round((trainaccuracy*100),2)))\n",
    "print(\"Sensitivity : {} %\".format(round((trainsensitivity*100),2)))\n",
    "print(\"Specificity : {} %\".format(round((trainspecificity*100),2)))\n",
    "print('-'*30)\n",
    "print('On Test Data')\n",
    "print('-'*30)\n",
    "print(\"Accuracy    : {} %\".format(round((testaccuracy*100),2)))\n",
    "print(\"Sensitivity : {} %\".format(round((testsensitivity*100),2)))\n",
    "print(\"Specificity : {} %\".format(round((testspecificity*100),2)))\n",
    "print('-'*30)"
   ]
  },
  {
   "cell_type": "markdown",
   "id": "66b79e2b-16ea-42fe-9465-3407e3e95e31",
   "metadata": {},
   "source": [
    "Import the GridSearchCV to check the best parameters for Decision Tree"
   ]
  },
  {
   "cell_type": "code",
   "execution_count": 31,
   "id": "0d921a70-7709-47bd-93d7-6749fb8859a1",
   "metadata": {},
   "outputs": [],
   "source": [
    "from sklearn.model_selection import GridSearchCV"
   ]
  },
  {
   "cell_type": "code",
   "execution_count": 32,
   "id": "dd77ee76-0bbc-45b0-8b81-6fc49fa55356",
   "metadata": {},
   "outputs": [],
   "source": [
    "dt_hp = DecisionTreeClassifier(random_state=43)\n",
    "\n",
    "params = {'max_depth':[3,5,7,10],\n",
    "          'min_samples_leaf':[5,10,15,20],\n",
    "          'min_samples_split':[10,12,18,20],\n",
    "          'criterion':['gini','entropy']}\n",
    "GS = GridSearchCV(estimator=dt_hp,param_grid=params,cv=5,n_jobs=-1, verbose=True, scoring='accuracy')"
   ]
  },
  {
   "cell_type": "code",
   "execution_count": 33,
   "id": "b0f453ab-8e80-42cc-a27c-bf2e2d366f88",
   "metadata": {},
   "outputs": [
    {
     "name": "stderr",
     "output_type": "stream",
     "text": [
      "/Users/joelle/opt/anaconda3/lib/python3.9/site-packages/sklearn/model_selection/_split.py:666: UserWarning: The least populated class in y has only 1 members, which is less than n_splits=5.\n",
      "  warnings.warn((\"The least populated class in y has only %d\"\n"
     ]
    },
    {
     "name": "stdout",
     "output_type": "stream",
     "text": [
      "Fitting 5 folds for each of 128 candidates, totalling 640 fits\n"
     ]
    },
    {
     "data": {
      "text/plain": [
       "GridSearchCV(cv=5, estimator=DecisionTreeClassifier(random_state=43), n_jobs=-1,\n",
       "             param_grid={'criterion': ['gini', 'entropy'],\n",
       "                         'max_depth': [3, 5, 7, 10],\n",
       "                         'min_samples_leaf': [5, 10, 15, 20],\n",
       "                         'min_samples_split': [10, 12, 18, 20]},\n",
       "             scoring='accuracy', verbose=True)"
      ]
     },
     "execution_count": 33,
     "metadata": {},
     "output_type": "execute_result"
    }
   ],
   "source": [
    "GS.fit(X_train, y_train)"
   ]
  },
  {
   "cell_type": "code",
   "execution_count": 34,
   "id": "964b0f86-d5df-4e1e-b83d-5a087ecc1e3e",
   "metadata": {},
   "outputs": [
    {
     "name": "stdout",
     "output_type": "stream",
     "text": [
      "Best Parameters: {'criterion': 'entropy', 'max_depth': 7, 'min_samples_leaf': 5, 'min_samples_split': 10}\n",
      "\n",
      "Best Score: 0.06366312427882732\n"
     ]
    }
   ],
   "source": [
    "print('Best Parameters:',GS.best_params_,end='\\n\\n')\n",
    "print('Best Score:',GS.best_score_)"
   ]
  },
  {
   "cell_type": "code",
   "execution_count": 35,
   "id": "c6afb96a-e5f3-44a3-b4cf-3fb482634e5c",
   "metadata": {},
   "outputs": [],
   "source": [
    "dt_hp = DecisionTreeClassifier(max_depth= 9,min_samples_leaf= 25, min_samples_split=5 ,random_state=43)"
   ]
  },
  {
   "cell_type": "code",
   "execution_count": 36,
   "id": "58938eea-c042-4b47-8187-866524da71e3",
   "metadata": {},
   "outputs": [
    {
     "data": {
      "text/plain": [
       "DecisionTreeClassifier(max_depth=9, min_samples_leaf=25, min_samples_split=5,\n",
       "                       random_state=43)"
      ]
     },
     "execution_count": 36,
     "metadata": {},
     "output_type": "execute_result"
    }
   ],
   "source": [
    "dt_hp.fit(X_train, y_train)"
   ]
  },
  {
   "cell_type": "code",
   "execution_count": 37,
   "id": "2afc44d4-e211-4041-8f9e-048903b6269e",
   "metadata": {},
   "outputs": [
    {
     "name": "stdout",
     "output_type": "stream",
     "text": [
      "------------------------------\n",
      "On Train Data\n",
      "------------------------------\n",
      "Accuracy    : 8.9 %\n",
      "Sensitivity : nan %\n",
      "Specificity : nan %\n",
      "------------------------------\n",
      "On Test Data\n",
      "------------------------------\n",
      "Accuracy    : 6.04 %\n",
      "Sensitivity : nan %\n",
      "Specificity : nan %\n",
      "------------------------------\n"
     ]
    },
    {
     "name": "stderr",
     "output_type": "stream",
     "text": [
      "/var/folders/98/_7wkwp_d073bz2gfk33t19hr0000gn/T/ipykernel_2323/1361111424.py:21: RuntimeWarning: invalid value encountered in true_divide\n",
      "  trainsensitivity= TP / float(TP+FN)\n",
      "/var/folders/98/_7wkwp_d073bz2gfk33t19hr0000gn/T/ipykernel_2323/1361111424.py:22: RuntimeWarning: invalid value encountered in true_divide\n",
      "  trainspecificity= TN / float(TN+FP)\n",
      "/var/folders/98/_7wkwp_d073bz2gfk33t19hr0000gn/T/ipykernel_2323/1361111424.py:24: RuntimeWarning: invalid value encountered in true_divide\n",
      "  testsensitivity= TP_TST / float(TP_TST+FN_TST)\n",
      "/var/folders/98/_7wkwp_d073bz2gfk33t19hr0000gn/T/ipykernel_2323/1361111424.py:25: RuntimeWarning: invalid value encountered in true_divide\n",
      "  testspecificity= TN_TST / float(TN_TST+FP_TST)\n"
     ]
    }
   ],
   "source": [
    "y_train_pred = dt_hp.predict(X_train)\n",
    "y_test_pred = dt_hp.predict(X_test)\n",
    "\n",
    "# Let's check the overall accuracy.\n",
    "trainaccuracy= accuracy_score(y_train, y_train_pred)\n",
    "testaccuracy= accuracy_score(y_test, y_test_pred)\n",
    "\n",
    "confusion_TRN = confusion_matrix(y_train, y_train_pred)\n",
    "confusion_TST = confusion_matrix(y_test, y_test_pred)\n",
    "\n",
    "TP = confusion_TRN[1,1] # true positive \n",
    "TN = confusion_TRN[0,0] # true negatives\n",
    "FP = confusion_TRN[0,1] # false positives\n",
    "FN = confusion_TRN[1,0] # false negatives\n",
    "\n",
    "TP_TST = confusion_TST[1,1] # true positive \n",
    "TN_TST = confusion_TST[0,0] # true negatives\n",
    "FP_TST = confusion_TST[0,1] # false positives\n",
    "FN_TST = confusion_TST[1,0] # false negatives\n",
    "\n",
    "trainsensitivity= TP / float(TP+FN)\n",
    "trainspecificity= TN / float(TN+FP)\n",
    "\n",
    "testsensitivity= TP_TST / float(TP_TST+FN_TST)\n",
    "testspecificity= TN_TST / float(TN_TST+FP_TST)\n",
    "\n",
    "# Let us compare the values obtained for Train & Test:\n",
    "print('-'*30)\n",
    "print('On Train Data')\n",
    "print('-'*30)\n",
    "print(\"Accuracy    : {} %\".format(round((trainaccuracy*100),2)))\n",
    "print(\"Sensitivity : {} %\".format(round((trainsensitivity*100),2)))\n",
    "print(\"Specificity : {} %\".format(round((trainspecificity*100),2)))\n",
    "print('-'*30)\n",
    "print('On Test Data')\n",
    "print('-'*30)\n",
    "print(\"Accuracy    : {} %\".format(round((testaccuracy*100),2)))\n",
    "print(\"Sensitivity : {} %\".format(round((testsensitivity*100),2)))\n",
    "print(\"Specificity : {} %\".format(round((testspecificity*100),2)))\n",
    "print('-'*30)"
   ]
  },
  {
   "cell_type": "markdown",
   "id": "b838639e-719e-404b-ad45-0680c2f9b7ef",
   "metadata": {},
   "source": [
    "Creating a dictionary of the features and determine their importance values"
   ]
  },
  {
   "cell_type": "code",
   "execution_count": 38,
   "id": "86b53b4c-5f8c-4272-a38a-350fb6fd4cf5",
   "metadata": {},
   "outputs": [],
   "source": [
    "# Create a dictionary of features and their importance values\n",
    "feat_dict= {}\n",
    "for col, val in sorted(zip(X_train.columns, dt_hp.feature_importances_),key=lambda x:x[1],reverse=True):\n",
    "  feat_dict[col]=val"
   ]
  },
  {
   "cell_type": "code",
   "execution_count": 39,
   "id": "abfd65ab-120e-4e40-b5f2-169895609dbf",
   "metadata": {},
   "outputs": [
    {
     "data": {
      "text/html": [
       "<div>\n",
       "<style scoped>\n",
       "    .dataframe tbody tr th:only-of-type {\n",
       "        vertical-align: middle;\n",
       "    }\n",
       "\n",
       "    .dataframe tbody tr th {\n",
       "        vertical-align: top;\n",
       "    }\n",
       "\n",
       "    .dataframe thead th {\n",
       "        text-align: right;\n",
       "    }\n",
       "</style>\n",
       "<table border=\"1\" class=\"dataframe\">\n",
       "  <thead>\n",
       "    <tr style=\"text-align: right;\">\n",
       "      <th></th>\n",
       "      <th>Feature</th>\n",
       "      <th>Importance</th>\n",
       "    </tr>\n",
       "  </thead>\n",
       "  <tbody>\n",
       "    <tr>\n",
       "      <th>0</th>\n",
       "      <td>host_total_listings_count</td>\n",
       "      <td>0.306151</td>\n",
       "    </tr>\n",
       "    <tr>\n",
       "      <th>1</th>\n",
       "      <td>accommodates</td>\n",
       "      <td>0.215812</td>\n",
       "    </tr>\n",
       "    <tr>\n",
       "      <th>2</th>\n",
       "      <td>minimum_nights</td>\n",
       "      <td>0.121830</td>\n",
       "    </tr>\n",
       "    <tr>\n",
       "      <th>3</th>\n",
       "      <td>availability_365</td>\n",
       "      <td>0.089565</td>\n",
       "    </tr>\n",
       "    <tr>\n",
       "      <th>4</th>\n",
       "      <td>bathrooms_text</td>\n",
       "      <td>0.054375</td>\n",
       "    </tr>\n",
       "    <tr>\n",
       "      <th>5</th>\n",
       "      <td>number_of_reviews</td>\n",
       "      <td>0.051628</td>\n",
       "    </tr>\n",
       "    <tr>\n",
       "      <th>6</th>\n",
       "      <td>review_scores_location</td>\n",
       "      <td>0.039544</td>\n",
       "    </tr>\n",
       "    <tr>\n",
       "      <th>7</th>\n",
       "      <td>bedrooms</td>\n",
       "      <td>0.030074</td>\n",
       "    </tr>\n",
       "    <tr>\n",
       "      <th>8</th>\n",
       "      <td>review_scores_cleanliness</td>\n",
       "      <td>0.017111</td>\n",
       "    </tr>\n",
       "    <tr>\n",
       "      <th>9</th>\n",
       "      <td>host_identity_verified</td>\n",
       "      <td>0.014865</td>\n",
       "    </tr>\n",
       "    <tr>\n",
       "      <th>10</th>\n",
       "      <td>instant_bookable</td>\n",
       "      <td>0.013103</td>\n",
       "    </tr>\n",
       "    <tr>\n",
       "      <th>11</th>\n",
       "      <td>beds</td>\n",
       "      <td>0.009590</td>\n",
       "    </tr>\n",
       "    <tr>\n",
       "      <th>12</th>\n",
       "      <td>review_scores_checkin</td>\n",
       "      <td>0.009034</td>\n",
       "    </tr>\n",
       "    <tr>\n",
       "      <th>13</th>\n",
       "      <td>review_scores_rating</td>\n",
       "      <td>0.008227</td>\n",
       "    </tr>\n",
       "    <tr>\n",
       "      <th>14</th>\n",
       "      <td>review_scores_accuracy</td>\n",
       "      <td>0.007956</td>\n",
       "    </tr>\n",
       "    <tr>\n",
       "      <th>15</th>\n",
       "      <td>review_scores_communication</td>\n",
       "      <td>0.006425</td>\n",
       "    </tr>\n",
       "    <tr>\n",
       "      <th>16</th>\n",
       "      <td>host_is_superhost</td>\n",
       "      <td>0.004709</td>\n",
       "    </tr>\n",
       "  </tbody>\n",
       "</table>\n",
       "</div>"
      ],
      "text/plain": [
       "                        Feature  Importance\n",
       "0     host_total_listings_count    0.306151\n",
       "1                  accommodates    0.215812\n",
       "2                minimum_nights    0.121830\n",
       "3              availability_365    0.089565\n",
       "4                bathrooms_text    0.054375\n",
       "5             number_of_reviews    0.051628\n",
       "6        review_scores_location    0.039544\n",
       "7                      bedrooms    0.030074\n",
       "8     review_scores_cleanliness    0.017111\n",
       "9        host_identity_verified    0.014865\n",
       "10             instant_bookable    0.013103\n",
       "11                         beds    0.009590\n",
       "12        review_scores_checkin    0.009034\n",
       "13         review_scores_rating    0.008227\n",
       "14       review_scores_accuracy    0.007956\n",
       "15  review_scores_communication    0.006425\n",
       "16            host_is_superhost    0.004709"
      ]
     },
     "execution_count": 39,
     "metadata": {},
     "output_type": "execute_result"
    }
   ],
   "source": [
    "feat_df = pd.DataFrame({'Feature':feat_dict.keys(),'Importance':feat_dict.values()})\n",
    "feat_df"
   ]
  },
  {
   "cell_type": "markdown",
   "id": "fbf262a7-7e52-4281-9b26-12f986dda30d",
   "metadata": {},
   "source": [
    "Plot bar chart of features in order of their importance in influencing prices"
   ]
  },
  {
   "cell_type": "code",
   "execution_count": 40,
   "id": "37668229-6e4d-4c75-8c7d-b76a41011b08",
   "metadata": {},
   "outputs": [
    {
     "data": {
      "image/png": "[encoded data removed]",
      "text/plain": [
       "<Figure size 720x576 with 1 Axes>"
      ]
     },
     "metadata": {
      "needs_background": "light"
     },
     "output_type": "display_data"
    }
   ],
   "source": [
    "values = feat_df.Importance    \n",
    "idx = feat_df.Feature\n",
    "plt.figure(figsize=(10,8))\n",
    "clrs = ['blue']\n",
    "sns.barplot(y=idx,x=values,palette=clrs).set(title='Important Features to Predict Prices (Decision Tree)')\n",
    "plt.show()"
   ]
  },
  {
   "cell_type": "markdown",
   "id": "287462c6-f0d0-4257-b25b-946b8431b9e0",
   "metadata": {},
   "source": [
    "<a id=\"Forest\"></a>\n",
    "## Feature Importance using Random Forest Regression "
   ]
  },
  {
   "cell_type": "code",
   "execution_count": 41,
   "id": "162d95db-e368-4619-a66a-62c251390d5e",
   "metadata": {},
   "outputs": [],
   "source": [
    "# Putting feature variable to X\n",
    "X = df.drop('price',axis=1)\n",
    "\n",
    "# Putting response variable to y\n",
    "y = df['price']"
   ]
  },
  {
   "cell_type": "markdown",
   "id": "45821ac9-08ed-40a2-9607-84889cdbf0db",
   "metadata": {},
   "source": [
    "Import train-test split"
   ]
  },
  {
   "cell_type": "code",
   "execution_count": 42,
   "id": "43ac9f7a-b5f5-4e95-a40d-e6e1521803b4",
   "metadata": {},
   "outputs": [],
   "source": [
    "from sklearn.model_selection import train_test_split"
   ]
  },
  {
   "cell_type": "code",
   "execution_count": 43,
   "id": "c3b1fbda-3504-44d9-9ce9-159d410f4c2f",
   "metadata": {},
   "outputs": [
    {
     "data": {
      "text/plain": [
       "((41217, 17), (17665, 17))"
      ]
     },
     "execution_count": 43,
     "metadata": {},
     "output_type": "execute_result"
    }
   ],
   "source": [
    "X_train, X_test, y_train, y_test = train_test_split(X, y, train_size=0.7, random_state=42)\n",
    "X_train.shape, X_test.shape"
   ]
  },
  {
   "cell_type": "markdown",
   "id": "e8db8443-cbb2-4e37-a9f0-ed4893cf5e1c",
   "metadata": {},
   "source": [
    "Import RandomForestClassifier"
   ]
  },
  {
   "cell_type": "code",
   "execution_count": 44,
   "id": "f1fa360a-eb1f-4467-a4c8-dfdbffed55cb",
   "metadata": {},
   "outputs": [],
   "source": [
    "from sklearn.ensemble import RandomForestRegressor"
   ]
  },
  {
   "cell_type": "code",
   "execution_count": null,
   "id": "f560f3a2-9af0-4ff2-8464-2f08416497a5",
   "metadata": {},
   "outputs": [],
   "source": [
    "# Creating and fitting the model\n",
    "RF = RandomForestRegressor(n_estimators=2000, max_depth=40,min_samples_split = 50,\n",
    "                           max_leaf_nodes = 70,max_features = 5)\n",
    "\n",
    "RF.fit(X_train, y_train)\n",
    "# Predicting the training and testing sets\n",
    "trainPredictin_RF = RF.predict(X_train)\n",
    "testPredictin_RF =RF.predict(X_test)"
   ]
  },
  {
   "cell_type": "code",
   "execution_count": null,
   "id": "0a06f4da-dbb8-473a-abf6-117d51774be6",
   "metadata": {},
   "outputs": [],
   "source": [
    "# The model accurracies and validation analysis\n",
    "trainPredictin_RF = RF.predict(X_train)\n",
    "testPredictin_RF =RF.predict(X_test)\n",
    "\n",
    "print('Random Forest MSE train: %.3f, test: %.3f' % (\n",
    "        mean_squared_error(y_train, trainPredictin_RF),\n",
    "        mean_squared_error(y_test, testPredictin_RF)))\n",
    "print('Random Forest R^2 train: %.3f, test: %.3f' % (\n",
    "        r2_score(y_train, trainPredictin_RF),\n",
    "        r2_score(y_test, testPredictin_RF)))"
   ]
  },
  {
   "cell_type": "markdown",
   "id": "61f86c1b-d87d-4886-9a75-d7c4e7f45f0f",
   "metadata": {},
   "source": [
    "Creating feature importance"
   ]
  },
  {
   "cell_type": "code",
   "execution_count": null,
   "id": "106c0cbb-e64b-41ac-95b5-c5a560b10683",
   "metadata": {},
   "outputs": [],
   "source": [
    "importancesRF = RF.feature_importances_\n",
    "feat_imp1 = pd.DataFrame(importancesRF, columns=['Importance'], index= X_train.columns)\n",
    "feat_imp1.sort_values(by=['Importance'], ascending= False, inplace=True)\n",
    "feat_imp1"
   ]
  },
  {
   "cell_type": "code",
   "execution_count": null,
   "id": "833752b7-5532-4ce3-9d09-be90ee2b45ec",
   "metadata": {},
   "outputs": [],
   "source": [
    "feat_imp = pd.DataFrame({'Importance':RF.feature_importances_})  #creating a data of the features and importance \n",
    "feat_imp['Feature'] = X_train.columns\n",
    "\n",
    "feat_imp.sort_values(by='Importance', inplace=True)\n",
    "feat_imp.sort_values(by='Importance', ascending=False, inplace=True)\n",
    "\n",
    "feat_imp = feat_imp[[\"Feature\", \"Importance\"]]\n",
    "feat_imp"
   ]
  },
  {
   "cell_type": "markdown",
   "id": "d0da5186-bba5-491c-8fcc-b3a27b04accd",
   "metadata": {},
   "source": [
    "Plot bar chart of features in order of their importance in influencing prices"
   ]
  },
  {
   "cell_type": "code",
   "execution_count": null,
   "id": "286788f1-0a00-4bff-9609-3b5f2fb11115",
   "metadata": {},
   "outputs": [],
   "source": [
    "values = feat_imp.Importance    \n",
    "idx = feat_imp.Feature\n",
    "plt.figure(figsize=(10,8))\n",
    "clrs = ['blue']\n",
    "sns.barplot(y=idx,x=values,palette=clrs).set(title= 'Important Features to Predict Prices (Random Forest Regression)')\n",
    "plt.show()"
   ]
  }
 ],
 "metadata": {
  "kernelspec": {
   "display_name": "Python 3 (ipykernel)",
   "language": "python",
   "name": "python3"
  },
  "language_info": {
   "codemirror_mode": {
    "name": "ipython",
    "version": 3
   },
   "file_extension": ".py",
   "mimetype": "text/x-python",
   "name": "python",
   "nbconvert_exporter": "python",
   "pygments_lexer": "ipython3",
   "version": "3.9.7"
  }
 },
 "nbformat": 4,
 "nbformat_minor": 5
}
