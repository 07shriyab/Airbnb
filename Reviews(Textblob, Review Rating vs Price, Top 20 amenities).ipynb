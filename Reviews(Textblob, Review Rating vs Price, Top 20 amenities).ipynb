{
 "cells": [
  {
   "cell_type": "markdown",
   "id": "e517113b-4c8f-4efd-8551-ed1792008e33",
   "metadata": {
    "tags": []
   },
   "source": [
    "## Reviews Part I: Sentiment Analysis "
   ]
  },
  {
   "cell_type": "code",
   "execution_count": 182,
   "id": "bc736170-cc9c-49f8-8911-4a440c53a42a",
   "metadata": {},
   "outputs": [],
   "source": [
    "import pandas as pd\n",
    "from textblob import TextBlob\n",
    "from wordcloud import WordCloud\n",
    "import pandas as pd\n",
    "import numpy as np\n",
    "import re\n",
    "import matplotlib.pyplot as plt"
   ]
  },
  {
   "cell_type": "code",
   "execution_count": 183,
   "id": "0d7a691c-2a84-4bbe-84ee-a39e8b9e2ffe",
   "metadata": {},
   "outputs": [
    {
     "data": {
      "text/html": [
       "<div>\n",
       "<style scoped>\n",
       "    .dataframe tbody tr th:only-of-type {\n",
       "        vertical-align: middle;\n",
       "    }\n",
       "\n",
       "    .dataframe tbody tr th {\n",
       "        vertical-align: top;\n",
       "    }\n",
       "\n",
       "    .dataframe thead th {\n",
       "        text-align: right;\n",
       "    }\n",
       "</style>\n",
       "<table border=\"1\" class=\"dataframe\">\n",
       "  <thead>\n",
       "    <tr style=\"text-align: right;\">\n",
       "      <th></th>\n",
       "      <th>comments</th>\n",
       "    </tr>\n",
       "  </thead>\n",
       "  <tbody>\n",
       "    <tr>\n",
       "      <th>0</th>\n",
       "      <td>My girlfriend and I hadn't known Alina before ...</td>\n",
       "    </tr>\n",
       "    <tr>\n",
       "      <th>1</th>\n",
       "      <td>Alina was a really good host. The flat is clea...</td>\n",
       "    </tr>\n",
       "    <tr>\n",
       "      <th>2</th>\n",
       "      <td>Alina is an amazing host. She made me feel rig...</td>\n",
       "    </tr>\n",
       "    <tr>\n",
       "      <th>3</th>\n",
       "      <td>Alina's place is so nice, the room is big and ...</td>\n",
       "    </tr>\n",
       "    <tr>\n",
       "      <th>4</th>\n",
       "      <td>Nice location in Islington area, good for shor...</td>\n",
       "    </tr>\n",
       "  </tbody>\n",
       "</table>\n",
       "</div>"
      ],
      "text/plain": [
       "                                            comments\n",
       "0  My girlfriend and I hadn't known Alina before ...\n",
       "1  Alina was a really good host. The flat is clea...\n",
       "2  Alina is an amazing host. She made me feel rig...\n",
       "3  Alina's place is so nice, the room is big and ...\n",
       "4  Nice location in Islington area, good for shor..."
      ]
     },
     "execution_count": 183,
     "metadata": {},
     "output_type": "execute_result"
    }
   ],
   "source": [
    "cols = [\"comments\"]\n",
    "reviews= pd.read_csv(\"reviews.csv\", usecols = cols)\n",
    "reviews[\"comments\"] = reviews[\"comments\"].astype(str) #spliting the text into words\n",
    "reviews.drop(reviews.index[101:1043004], inplace=True)\n",
    "reviews.head()"
   ]
  },
  {
   "cell_type": "markdown",
   "id": "1fc1402f-9e67-435c-af66-0748f16739e7",
   "metadata": {},
   "source": [
    "### Preprocessing/Cleaning of the Data "
   ]
  },
  {
   "cell_type": "code",
   "execution_count": 184,
   "id": "cea96ea0-2133-40c3-9f1a-59b78330997b",
   "metadata": {},
   "outputs": [
    {
     "data": {
      "text/html": [
       "<div>\n",
       "<style scoped>\n",
       "    .dataframe tbody tr th:only-of-type {\n",
       "        vertical-align: middle;\n",
       "    }\n",
       "\n",
       "    .dataframe tbody tr th {\n",
       "        vertical-align: top;\n",
       "    }\n",
       "\n",
       "    .dataframe thead th {\n",
       "        text-align: right;\n",
       "    }\n",
       "</style>\n",
       "<table border=\"1\" class=\"dataframe\">\n",
       "  <thead>\n",
       "    <tr style=\"text-align: right;\">\n",
       "      <th></th>\n",
       "      <th>comments</th>\n",
       "    </tr>\n",
       "  </thead>\n",
       "  <tbody>\n",
       "    <tr>\n",
       "      <th>0</th>\n",
       "      <td>My girlfriend and I hadnt known Alina before w...</td>\n",
       "    </tr>\n",
       "    <tr>\n",
       "      <th>1</th>\n",
       "      <td>Alina was a really good host The flat is clean...</td>\n",
       "    </tr>\n",
       "    <tr>\n",
       "      <th>2</th>\n",
       "      <td>Alina is an amazing host She made me feel righ...</td>\n",
       "    </tr>\n",
       "    <tr>\n",
       "      <th>3</th>\n",
       "      <td>Alinas place is so nice the room is big and cl...</td>\n",
       "    </tr>\n",
       "    <tr>\n",
       "      <th>4</th>\n",
       "      <td>Nice location in Islington area good for short...</td>\n",
       "    </tr>\n",
       "  </tbody>\n",
       "</table>\n",
       "</div>"
      ],
      "text/plain": [
       "                                            comments\n",
       "0  My girlfriend and I hadnt known Alina before w...\n",
       "1  Alina was a really good host The flat is clean...\n",
       "2  Alina is an amazing host She made me feel righ...\n",
       "3  Alinas place is so nice the room is big and cl...\n",
       "4  Nice location in Islington area good for short..."
      ]
     },
     "execution_count": 184,
     "metadata": {},
     "output_type": "execute_result"
    }
   ],
   "source": [
    "#clean the text\n",
    "#create a function to clean the comments\n",
    "\n",
    "def CleanTxt(text):\n",
    "    text = re.sub(r'@[A-Za-z0-9]+', '', text)\n",
    "    text = re.sub(r'[^a-zA-Z0-9 ]', '', text)\n",
    "    text = re.sub(r'#', '', text)\n",
    "    text = re.sub(r'RT[\\S]+', '', text)\n",
    "    \n",
    "    return text\n",
    "\n",
    "#cheaning the text\n",
    "reviews['comments'] = reviews['comments'].apply(CleanTxt)\n",
    "\n",
    "#shows clean text\n",
    "reviews.head()"
   ]
  },
  {
   "cell_type": "code",
   "execution_count": 185,
   "id": "1d5665ca-faba-4d6f-960b-cf5fc90b7207",
   "metadata": {},
   "outputs": [],
   "source": [
    "new_reviews = reviews.copy()"
   ]
  },
  {
   "cell_type": "markdown",
   "id": "232e07aa-b736-475a-9797-abb56501dda4",
   "metadata": {},
   "source": [
    "### Calculating the Subjectivty and Polarity using TextBlob"
   ]
  },
  {
   "cell_type": "code",
   "execution_count": 186,
   "id": "7dbecf7c-157d-49bc-9b10-cfcaa0e8d0e9",
   "metadata": {},
   "outputs": [
    {
     "data": {
      "text/html": [
       "<div>\n",
       "<style scoped>\n",
       "    .dataframe tbody tr th:only-of-type {\n",
       "        vertical-align: middle;\n",
       "    }\n",
       "\n",
       "    .dataframe tbody tr th {\n",
       "        vertical-align: top;\n",
       "    }\n",
       "\n",
       "    .dataframe thead th {\n",
       "        text-align: right;\n",
       "    }\n",
       "</style>\n",
       "<table border=\"1\" class=\"dataframe\">\n",
       "  <thead>\n",
       "    <tr style=\"text-align: right;\">\n",
       "      <th></th>\n",
       "      <th>comments</th>\n",
       "      <th>Subjectivity</th>\n",
       "      <th>Polarity</th>\n",
       "    </tr>\n",
       "  </thead>\n",
       "  <tbody>\n",
       "    <tr>\n",
       "      <th>0</th>\n",
       "      <td>My girlfriend and I hadnt known Alina before w...</td>\n",
       "      <td>0.486742</td>\n",
       "      <td>0.264773</td>\n",
       "    </tr>\n",
       "    <tr>\n",
       "      <th>1</th>\n",
       "      <td>Alina was a really good host The flat is clean...</td>\n",
       "      <td>0.445833</td>\n",
       "      <td>0.306944</td>\n",
       "    </tr>\n",
       "    <tr>\n",
       "      <th>2</th>\n",
       "      <td>Alina is an amazing host She made me feel righ...</td>\n",
       "      <td>0.566266</td>\n",
       "      <td>0.280812</td>\n",
       "    </tr>\n",
       "    <tr>\n",
       "      <th>3</th>\n",
       "      <td>Alinas place is so nice the room is big and cl...</td>\n",
       "      <td>0.579915</td>\n",
       "      <td>0.397669</td>\n",
       "    </tr>\n",
       "    <tr>\n",
       "      <th>4</th>\n",
       "      <td>Nice location in Islington area good for short...</td>\n",
       "      <td>0.610000</td>\n",
       "      <td>0.457500</td>\n",
       "    </tr>\n",
       "    <tr>\n",
       "      <th>5</th>\n",
       "      <td>Im very happy to have been Alinas guest Weve h...</td>\n",
       "      <td>0.588010</td>\n",
       "      <td>0.337183</td>\n",
       "    </tr>\n",
       "    <tr>\n",
       "      <th>6</th>\n",
       "      <td>I stayed with Alina in her flat in London for ...</td>\n",
       "      <td>0.693981</td>\n",
       "      <td>0.545833</td>\n",
       "    </tr>\n",
       "    <tr>\n",
       "      <th>7</th>\n",
       "      <td>Alina was a perfect guest and her flat is abso...</td>\n",
       "      <td>0.666250</td>\n",
       "      <td>0.533750</td>\n",
       "    </tr>\n",
       "    <tr>\n",
       "      <th>8</th>\n",
       "      <td>Alinas flat is exceptional one  brI have to sa...</td>\n",
       "      <td>0.626000</td>\n",
       "      <td>0.319111</td>\n",
       "    </tr>\n",
       "    <tr>\n",
       "      <th>9</th>\n",
       "      <td>The House is a piece of Art  there are beautif...</td>\n",
       "      <td>0.730000</td>\n",
       "      <td>0.499167</td>\n",
       "    </tr>\n",
       "  </tbody>\n",
       "</table>\n",
       "</div>"
      ],
      "text/plain": [
       "                                            comments  Subjectivity  Polarity\n",
       "0  My girlfriend and I hadnt known Alina before w...      0.486742  0.264773\n",
       "1  Alina was a really good host The flat is clean...      0.445833  0.306944\n",
       "2  Alina is an amazing host She made me feel righ...      0.566266  0.280812\n",
       "3  Alinas place is so nice the room is big and cl...      0.579915  0.397669\n",
       "4  Nice location in Islington area good for short...      0.610000  0.457500\n",
       "5  Im very happy to have been Alinas guest Weve h...      0.588010  0.337183\n",
       "6  I stayed with Alina in her flat in London for ...      0.693981  0.545833\n",
       "7  Alina was a perfect guest and her flat is abso...      0.666250  0.533750\n",
       "8  Alinas flat is exceptional one  brI have to sa...      0.626000  0.319111\n",
       "9  The House is a piece of Art  there are beautif...      0.730000  0.499167"
      ]
     },
     "execution_count": 186,
     "metadata": {},
     "output_type": "execute_result"
    }
   ],
   "source": [
    "#CREATE A FUNCTION TO GET THE SUBJECTIVITY \n",
    "def getSubjectivity(text):\n",
    "    return TextBlob(text).sentiment.subjectivity\n",
    "\n",
    "#create a function to get the polarity \n",
    "\n",
    "def getPolarity(text):\n",
    "    return TextBlob(text).sentiment.polarity\n",
    "\n",
    "#create new columns\n",
    "new_reviews['Subjectivity']= new_reviews['comments'].apply(getSubjectivity)\n",
    "new_reviews['Polarity']= new_reviews['comments'].apply(getPolarity)\n",
    "\n",
    "#shows new \n",
    "new_reviews.head(10)"
   ]
  },
  {
   "cell_type": "markdown",
   "id": "9d657b7d-8abe-4f5f-ace2-3e2b7c0ed2c8",
   "metadata": {},
   "source": [
    "### Computing the Negative, Neutral and Positve Analysis"
   ]
  },
  {
   "cell_type": "code",
   "execution_count": 212,
   "id": "652f5096-47c0-4aa2-8e2e-9e3aa6679db0",
   "metadata": {},
   "outputs": [
    {
     "data": {
      "text/html": [
       "<div>\n",
       "<style scoped>\n",
       "    .dataframe tbody tr th:only-of-type {\n",
       "        vertical-align: middle;\n",
       "    }\n",
       "\n",
       "    .dataframe tbody tr th {\n",
       "        vertical-align: top;\n",
       "    }\n",
       "\n",
       "    .dataframe thead th {\n",
       "        text-align: right;\n",
       "    }\n",
       "</style>\n",
       "<table border=\"1\" class=\"dataframe\">\n",
       "  <thead>\n",
       "    <tr style=\"text-align: right;\">\n",
       "      <th></th>\n",
       "      <th>comments</th>\n",
       "      <th>Subjectivity</th>\n",
       "      <th>Polarity</th>\n",
       "      <th>Analysis</th>\n",
       "    </tr>\n",
       "  </thead>\n",
       "  <tbody>\n",
       "    <tr>\n",
       "      <th>0</th>\n",
       "      <td>My girlfriend and I hadnt known Alina before w...</td>\n",
       "      <td>0.486742</td>\n",
       "      <td>0.264773</td>\n",
       "      <td>Positive</td>\n",
       "    </tr>\n",
       "    <tr>\n",
       "      <th>1</th>\n",
       "      <td>Alina was a really good host The flat is clean...</td>\n",
       "      <td>0.445833</td>\n",
       "      <td>0.306944</td>\n",
       "      <td>Positive</td>\n",
       "    </tr>\n",
       "    <tr>\n",
       "      <th>2</th>\n",
       "      <td>Alina is an amazing host She made me feel righ...</td>\n",
       "      <td>0.566266</td>\n",
       "      <td>0.280812</td>\n",
       "      <td>Positive</td>\n",
       "    </tr>\n",
       "    <tr>\n",
       "      <th>3</th>\n",
       "      <td>Alinas place is so nice the room is big and cl...</td>\n",
       "      <td>0.579915</td>\n",
       "      <td>0.397669</td>\n",
       "      <td>Positive</td>\n",
       "    </tr>\n",
       "    <tr>\n",
       "      <th>4</th>\n",
       "      <td>Nice location in Islington area good for short...</td>\n",
       "      <td>0.610000</td>\n",
       "      <td>0.457500</td>\n",
       "      <td>Positive</td>\n",
       "    </tr>\n",
       "    <tr>\n",
       "      <th>...</th>\n",
       "      <td>...</td>\n",
       "      <td>...</td>\n",
       "      <td>...</td>\n",
       "      <td>...</td>\n",
       "    </tr>\n",
       "    <tr>\n",
       "      <th>96</th>\n",
       "      <td>Excellent host Convenient and comfortable apar...</td>\n",
       "      <td>0.731250</td>\n",
       "      <td>0.350000</td>\n",
       "      <td>Positive</td>\n",
       "    </tr>\n",
       "    <tr>\n",
       "      <th>97</th>\n",
       "      <td>Philippa was lovely and the flats location was...</td>\n",
       "      <td>0.916667</td>\n",
       "      <td>0.426667</td>\n",
       "      <td>Positive</td>\n",
       "    </tr>\n",
       "    <tr>\n",
       "      <th>98</th>\n",
       "      <td>Philippas flat is amazing  So close to the bus...</td>\n",
       "      <td>0.726389</td>\n",
       "      <td>0.321389</td>\n",
       "      <td>Positive</td>\n",
       "    </tr>\n",
       "    <tr>\n",
       "      <th>99</th>\n",
       "      <td>We enjoyed every bit of our stay at Philippas ...</td>\n",
       "      <td>0.476667</td>\n",
       "      <td>0.202963</td>\n",
       "      <td>Positive</td>\n",
       "    </tr>\n",
       "    <tr>\n",
       "      <th>100</th>\n",
       "      <td>This is a perfect flat for exploring London Co...</td>\n",
       "      <td>0.639242</td>\n",
       "      <td>0.358485</td>\n",
       "      <td>Positive</td>\n",
       "    </tr>\n",
       "  </tbody>\n",
       "</table>\n",
       "<p>101 rows × 4 columns</p>\n",
       "</div>"
      ],
      "text/plain": [
       "                                              comments  Subjectivity  \\\n",
       "0    My girlfriend and I hadnt known Alina before w...      0.486742   \n",
       "1    Alina was a really good host The flat is clean...      0.445833   \n",
       "2    Alina is an amazing host She made me feel righ...      0.566266   \n",
       "3    Alinas place is so nice the room is big and cl...      0.579915   \n",
       "4    Nice location in Islington area good for short...      0.610000   \n",
       "..                                                 ...           ...   \n",
       "96   Excellent host Convenient and comfortable apar...      0.731250   \n",
       "97   Philippa was lovely and the flats location was...      0.916667   \n",
       "98   Philippas flat is amazing  So close to the bus...      0.726389   \n",
       "99   We enjoyed every bit of our stay at Philippas ...      0.476667   \n",
       "100  This is a perfect flat for exploring London Co...      0.639242   \n",
       "\n",
       "     Polarity  Analysis  \n",
       "0    0.264773  Positive  \n",
       "1    0.306944  Positive  \n",
       "2    0.280812  Positive  \n",
       "3    0.397669  Positive  \n",
       "4    0.457500  Positive  \n",
       "..        ...       ...  \n",
       "96   0.350000  Positive  \n",
       "97   0.426667  Positive  \n",
       "98   0.321389  Positive  \n",
       "99   0.202963  Positive  \n",
       "100  0.358485  Positive  \n",
       "\n",
       "[101 rows x 4 columns]"
      ]
     },
     "execution_count": 212,
     "metadata": {},
     "output_type": "execute_result"
    }
   ],
   "source": [
    "#compute a function to compute the negative, neutral and postive analysis\n",
    "def getAnalysis(score):\n",
    "    if score < 0:\n",
    "        return 'Negative'\n",
    "    elif score == 0:\n",
    "        return 'Neutral'\n",
    "    else:\n",
    "        return 'Positive'\n",
    "    \n",
    "new_reviews['Analysis']= new_reviews['Polarity'].apply(getAnalysis)\n",
    "\n",
    "#show dataframe\n",
    "new_reviews"
   ]
  },
  {
   "cell_type": "code",
   "execution_count": 213,
   "id": "f01872ce-6f8d-4dc3-8aaa-41167d9207d9",
   "metadata": {},
   "outputs": [
    {
     "data": {
      "text/plain": [
       "Positive    98\n",
       "Neutral      3\n",
       "Name: Analysis, dtype: int64"
      ]
     },
     "execution_count": 213,
     "metadata": {},
     "output_type": "execute_result"
    }
   ],
   "source": [
    "new_reviews['Analysis'].value_counts()"
   ]
  },
  {
   "cell_type": "code",
   "execution_count": 216,
   "id": "6fb9ac75-8c65-4822-aa72-52110c372591",
   "metadata": {},
   "outputs": [
    {
     "data": {
      "text/html": [
       "<div>\n",
       "<style scoped>\n",
       "    .dataframe tbody tr th:only-of-type {\n",
       "        vertical-align: middle;\n",
       "    }\n",
       "\n",
       "    .dataframe tbody tr th {\n",
       "        vertical-align: top;\n",
       "    }\n",
       "\n",
       "    .dataframe thead th {\n",
       "        text-align: right;\n",
       "    }\n",
       "</style>\n",
       "<table border=\"1\" class=\"dataframe\">\n",
       "  <thead>\n",
       "    <tr style=\"text-align: right;\">\n",
       "      <th></th>\n",
       "      <th>comments</th>\n",
       "      <th>Subjectivity</th>\n",
       "      <th>Polarity</th>\n",
       "      <th>Analysis</th>\n",
       "    </tr>\n",
       "  </thead>\n",
       "  <tbody>\n",
       "    <tr>\n",
       "      <th>0</th>\n",
       "      <td>My girlfriend and I hadnt known Alina before w...</td>\n",
       "      <td>0.486742</td>\n",
       "      <td>0.264773</td>\n",
       "      <td>Positive</td>\n",
       "    </tr>\n",
       "    <tr>\n",
       "      <th>1</th>\n",
       "      <td>Alina was a really good host The flat is clean...</td>\n",
       "      <td>0.445833</td>\n",
       "      <td>0.306944</td>\n",
       "      <td>Positive</td>\n",
       "    </tr>\n",
       "    <tr>\n",
       "      <th>2</th>\n",
       "      <td>Alina is an amazing host She made me feel righ...</td>\n",
       "      <td>0.566266</td>\n",
       "      <td>0.280812</td>\n",
       "      <td>Positive</td>\n",
       "    </tr>\n",
       "    <tr>\n",
       "      <th>3</th>\n",
       "      <td>Alinas place is so nice the room is big and cl...</td>\n",
       "      <td>0.579915</td>\n",
       "      <td>0.397669</td>\n",
       "      <td>Positive</td>\n",
       "    </tr>\n",
       "    <tr>\n",
       "      <th>4</th>\n",
       "      <td>Nice location in Islington area good for short...</td>\n",
       "      <td>0.610000</td>\n",
       "      <td>0.457500</td>\n",
       "      <td>Positive</td>\n",
       "    </tr>\n",
       "    <tr>\n",
       "      <th>...</th>\n",
       "      <td>...</td>\n",
       "      <td>...</td>\n",
       "      <td>...</td>\n",
       "      <td>...</td>\n",
       "    </tr>\n",
       "    <tr>\n",
       "      <th>96</th>\n",
       "      <td>Excellent host Convenient and comfortable apar...</td>\n",
       "      <td>0.731250</td>\n",
       "      <td>0.350000</td>\n",
       "      <td>Positive</td>\n",
       "    </tr>\n",
       "    <tr>\n",
       "      <th>97</th>\n",
       "      <td>Philippa was lovely and the flats location was...</td>\n",
       "      <td>0.916667</td>\n",
       "      <td>0.426667</td>\n",
       "      <td>Positive</td>\n",
       "    </tr>\n",
       "    <tr>\n",
       "      <th>98</th>\n",
       "      <td>Philippas flat is amazing  So close to the bus...</td>\n",
       "      <td>0.726389</td>\n",
       "      <td>0.321389</td>\n",
       "      <td>Positive</td>\n",
       "    </tr>\n",
       "    <tr>\n",
       "      <th>99</th>\n",
       "      <td>We enjoyed every bit of our stay at Philippas ...</td>\n",
       "      <td>0.476667</td>\n",
       "      <td>0.202963</td>\n",
       "      <td>Positive</td>\n",
       "    </tr>\n",
       "    <tr>\n",
       "      <th>100</th>\n",
       "      <td>This is a perfect flat for exploring London Co...</td>\n",
       "      <td>0.639242</td>\n",
       "      <td>0.358485</td>\n",
       "      <td>Positive</td>\n",
       "    </tr>\n",
       "  </tbody>\n",
       "</table>\n",
       "<p>98 rows × 4 columns</p>\n",
       "</div>"
      ],
      "text/plain": [
       "                                              comments  Subjectivity  \\\n",
       "0    My girlfriend and I hadnt known Alina before w...      0.486742   \n",
       "1    Alina was a really good host The flat is clean...      0.445833   \n",
       "2    Alina is an amazing host She made me feel righ...      0.566266   \n",
       "3    Alinas place is so nice the room is big and cl...      0.579915   \n",
       "4    Nice location in Islington area good for short...      0.610000   \n",
       "..                                                 ...           ...   \n",
       "96   Excellent host Convenient and comfortable apar...      0.731250   \n",
       "97   Philippa was lovely and the flats location was...      0.916667   \n",
       "98   Philippas flat is amazing  So close to the bus...      0.726389   \n",
       "99   We enjoyed every bit of our stay at Philippas ...      0.476667   \n",
       "100  This is a perfect flat for exploring London Co...      0.639242   \n",
       "\n",
       "     Polarity  Analysis  \n",
       "0    0.264773  Positive  \n",
       "1    0.306944  Positive  \n",
       "2    0.280812  Positive  \n",
       "3    0.397669  Positive  \n",
       "4    0.457500  Positive  \n",
       "..        ...       ...  \n",
       "96   0.350000  Positive  \n",
       "97   0.426667  Positive  \n",
       "98   0.321389  Positive  \n",
       "99   0.202963  Positive  \n",
       "100  0.358485  Positive  \n",
       "\n",
       "[98 rows x 4 columns]"
      ]
     },
     "execution_count": 216,
     "metadata": {},
     "output_type": "execute_result"
    }
   ],
   "source": [
    "new_reviews[new_reviews['Analysis'].str.contains(\"Positive\")]"
   ]
  },
  {
   "cell_type": "markdown",
   "id": "6717029a-eb8c-478a-952f-0803f74355ea",
   "metadata": {},
   "source": [
    "Shows that most of the 100 selected comments are postive, and there is no negative comment"
   ]
  },
  {
   "cell_type": "markdown",
   "id": "03331eec-ec4d-401d-aff5-a5b5d05a20c6",
   "metadata": {},
   "source": [
    "### Plotting the subjectivity and polarity scatterplot"
   ]
  },
  {
   "cell_type": "code",
   "execution_count": 189,
   "id": "065aed11-a5bd-4490-81f1-b2e79e2ecb28",
   "metadata": {},
   "outputs": [
    {
     "data": {
      "image/png": "[encoded data removed]",
      "text/plain": [
       "<Figure size 576x432 with 1 Axes>"
      ]
     },
     "metadata": {
      "needs_background": "light"
     },
     "output_type": "display_data"
    }
   ],
   "source": [
    "plt.figure(figsize =(8,6))\n",
    "for i in range (0, new_reviews.shape[0]):\n",
    "    plt.scatter(new_reviews['Polarity'][i], new_reviews['Subjectivity'][i], color = 'Green')\n",
    "\n",
    "plt.title('Sentiment Analysis')\n",
    "plt.xlabel('Polarity')\n",
    "plt.ylabel('Subjectivity')\n",
    "plt.show()"
   ]
  },
  {
   "cell_type": "code",
   "execution_count": 190,
   "id": "b064c4d4-51fb-4730-b90e-d5c8900ad6f5",
   "metadata": {},
   "outputs": [],
   "source": [
    "cols = [\n",
    "    \"amenities\",\n",
    "    \"price\",\n",
    "    \"review_scores_rating\",\n",
    "    \"reviews_per_month\"\n",
    "]\n",
    "\n",
    "listing = pd.read_csv(\"listings.csv\", usecols=cols)"
   ]
  },
  {
   "cell_type": "code",
   "execution_count": 191,
   "id": "e8160b8f-c207-4ee8-ac84-50650392d6ec",
   "metadata": {},
   "outputs": [],
   "source": [
    "airbnb_reviews = pd.read_csv(\"reviews.csv\")"
   ]
  },
  {
   "cell_type": "code",
   "execution_count": 192,
   "id": "f613541a-4b35-4732-a690-4febc528cbaa",
   "metadata": {},
   "outputs": [],
   "source": [
    "new_airbnb_reviews = pd.concat([airbnb_reviews, listing], axis='columns') "
   ]
  },
  {
   "cell_type": "code",
   "execution_count": 193,
   "id": "9fae636f-afe5-43a6-8f14-674ac96b4b7c",
   "metadata": {},
   "outputs": [
    {
     "data": {
      "text/html": [
       "<div>\n",
       "<style scoped>\n",
       "    .dataframe tbody tr th:only-of-type {\n",
       "        vertical-align: middle;\n",
       "    }\n",
       "\n",
       "    .dataframe tbody tr th {\n",
       "        vertical-align: top;\n",
       "    }\n",
       "\n",
       "    .dataframe thead th {\n",
       "        text-align: right;\n",
       "    }\n",
       "</style>\n",
       "<table border=\"1\" class=\"dataframe\">\n",
       "  <thead>\n",
       "    <tr style=\"text-align: right;\">\n",
       "      <th></th>\n",
       "      <th>listing_id</th>\n",
       "      <th>id</th>\n",
       "      <th>date</th>\n",
       "      <th>reviewer_id</th>\n",
       "      <th>reviewer_name</th>\n",
       "      <th>comments</th>\n",
       "      <th>amenities</th>\n",
       "      <th>price</th>\n",
       "      <th>review_scores_rating</th>\n",
       "      <th>reviews_per_month</th>\n",
       "    </tr>\n",
       "  </thead>\n",
       "  <tbody>\n",
       "    <tr>\n",
       "      <th>0</th>\n",
       "      <td>13913</td>\n",
       "      <td>80770</td>\n",
       "      <td>2010-08-18</td>\n",
       "      <td>177109</td>\n",
       "      <td>Michael</td>\n",
       "      <td>My girlfriend and I hadn't known Alina before ...</td>\n",
       "      <td>[\"Hot water\", \"Heating\", \"Coffee maker\", \"Buil...</td>\n",
       "      <td>$65.00</td>\n",
       "      <td>4.86</td>\n",
       "      <td>0.16</td>\n",
       "    </tr>\n",
       "    <tr>\n",
       "      <th>1</th>\n",
       "      <td>13913</td>\n",
       "      <td>367568</td>\n",
       "      <td>2011-07-11</td>\n",
       "      <td>19835707</td>\n",
       "      <td>Mathias</td>\n",
       "      <td>Alina was a really good host. The flat is clea...</td>\n",
       "      <td>[\"Hot water\", \"Heating\", \"Coffee maker\", \"TV w...</td>\n",
       "      <td>$75.00</td>\n",
       "      <td>4.79</td>\n",
       "      <td>0.61</td>\n",
       "    </tr>\n",
       "    <tr>\n",
       "      <th>2</th>\n",
       "      <td>13913</td>\n",
       "      <td>529579</td>\n",
       "      <td>2011-09-13</td>\n",
       "      <td>1110304</td>\n",
       "      <td>Kristin</td>\n",
       "      <td>Alina is an amazing host. She made me feel rig...</td>\n",
       "      <td>[\"Hot water\", \"Heating\", \"Coffee maker\", \"Iron...</td>\n",
       "      <td>$265.00</td>\n",
       "      <td>4.69</td>\n",
       "      <td>0.33</td>\n",
       "    </tr>\n",
       "    <tr>\n",
       "      <th>3</th>\n",
       "      <td>13913</td>\n",
       "      <td>595481</td>\n",
       "      <td>2011-10-03</td>\n",
       "      <td>1216358</td>\n",
       "      <td>Camilla</td>\n",
       "      <td>Alina's place is so nice, the room is big and ...</td>\n",
       "      <td>[\"Shampoo\", \"Carbon monoxide alarm\", \"Hot wate...</td>\n",
       "      <td>$150.00</td>\n",
       "      <td>NaN</td>\n",
       "      <td>NaN</td>\n",
       "    </tr>\n",
       "    <tr>\n",
       "      <th>4</th>\n",
       "      <td>13913</td>\n",
       "      <td>612947</td>\n",
       "      <td>2011-10-09</td>\n",
       "      <td>490840</td>\n",
       "      <td>Jorik</td>\n",
       "      <td>Nice location in Islington area, good for shor...</td>\n",
       "      <td>[\"Shampoo\", \"Washer\", \"Heating\", \"Coffee maker...</td>\n",
       "      <td>$29.00</td>\n",
       "      <td>4.78</td>\n",
       "      <td>0.91</td>\n",
       "    </tr>\n",
       "  </tbody>\n",
       "</table>\n",
       "</div>"
      ],
      "text/plain": [
       "   listing_id      id        date  reviewer_id reviewer_name  \\\n",
       "0       13913   80770  2010-08-18       177109       Michael   \n",
       "1       13913  367568  2011-07-11     19835707       Mathias   \n",
       "2       13913  529579  2011-09-13      1110304       Kristin   \n",
       "3       13913  595481  2011-10-03      1216358       Camilla   \n",
       "4       13913  612947  2011-10-09       490840         Jorik   \n",
       "\n",
       "                                            comments  \\\n",
       "0  My girlfriend and I hadn't known Alina before ...   \n",
       "1  Alina was a really good host. The flat is clea...   \n",
       "2  Alina is an amazing host. She made me feel rig...   \n",
       "3  Alina's place is so nice, the room is big and ...   \n",
       "4  Nice location in Islington area, good for shor...   \n",
       "\n",
       "                                           amenities    price  \\\n",
       "0  [\"Hot water\", \"Heating\", \"Coffee maker\", \"Buil...   $65.00   \n",
       "1  [\"Hot water\", \"Heating\", \"Coffee maker\", \"TV w...   $75.00   \n",
       "2  [\"Hot water\", \"Heating\", \"Coffee maker\", \"Iron...  $265.00   \n",
       "3  [\"Shampoo\", \"Carbon monoxide alarm\", \"Hot wate...  $150.00   \n",
       "4  [\"Shampoo\", \"Washer\", \"Heating\", \"Coffee maker...   $29.00   \n",
       "\n",
       "   review_scores_rating  reviews_per_month  \n",
       "0                  4.86               0.16  \n",
       "1                  4.79               0.61  \n",
       "2                  4.69               0.33  \n",
       "3                   NaN                NaN  \n",
       "4                  4.78               0.91  "
      ]
     },
     "execution_count": 193,
     "metadata": {},
     "output_type": "execute_result"
    }
   ],
   "source": [
    "new_airbnb_reviews.head()"
   ]
  },
  {
   "cell_type": "code",
   "execution_count": 194,
   "id": "c17aedba-6f07-47aa-a7d2-4f3e75019623",
   "metadata": {},
   "outputs": [
    {
     "data": {
      "text/plain": [
       "(1043004, 10)"
      ]
     },
     "execution_count": 194,
     "metadata": {},
     "output_type": "execute_result"
    }
   ],
   "source": [
    "new_airbnb_reviews.shape"
   ]
  },
  {
   "cell_type": "code",
   "execution_count": 195,
   "id": "c8104802-2a4b-47db-b493-ab99ee607518",
   "metadata": {},
   "outputs": [
    {
     "data": {
      "text/plain": [
       "listing_id                int64\n",
       "id                        int64\n",
       "date                     object\n",
       "reviewer_id               int64\n",
       "reviewer_name            object\n",
       "comments                 object\n",
       "amenities                object\n",
       "price                    object\n",
       "review_scores_rating    float64\n",
       "reviews_per_month       float64\n",
       "dtype: object"
      ]
     },
     "execution_count": 195,
     "metadata": {},
     "output_type": "execute_result"
    }
   ],
   "source": [
    "new_airbnb_reviews.dtypes"
   ]
  },
  {
   "cell_type": "markdown",
   "id": "b384d1a8-487f-4a41-a951-404121207213",
   "metadata": {},
   "source": [
    "## Reviews Part II: Comparing Prices to Reviews"
   ]
  },
  {
   "cell_type": "markdown",
   "id": "01344c27-87a8-4bb6-9f48-0b942bd3787f",
   "metadata": {},
   "source": [
    "### Changing price into floats and removing $"
   ]
  },
  {
   "cell_type": "code",
   "execution_count": 196,
   "id": "7767bbd7-72da-41ee-9cae-8d87f23694ae",
   "metadata": {},
   "outputs": [
    {
     "name": "stderr",
     "output_type": "stream",
     "text": [
      "/var/folders/0k/qsrs17bs5n1gr22p3vddn0xm0000gn/T/ipykernel_1374/2979416809.py:2: FutureWarning: The default value of regex will change from True to False in a future version. In addition, single character regular expressions will *not* be treated as literal strings when regex=True.\n",
      "  new_airbnb_reviews['price'] = new_airbnb_reviews['price'].str.replace(\"$\", \" \")\n"
     ]
    },
    {
     "data": {
      "text/plain": [
       "0      65.00\n",
       "1      75.00\n",
       "2     265.00\n",
       "3     150.00\n",
       "4      29.00\n",
       "Name: price, dtype: object"
      ]
     },
     "execution_count": 196,
     "metadata": {},
     "output_type": "execute_result"
    }
   ],
   "source": [
    "# Remove $ from price before conversion to float\n",
    "new_airbnb_reviews['price'] = new_airbnb_reviews['price'].str.replace(\"$\", \" \")\n",
    "# Print header to make sure change was done\n",
    "new_airbnb_reviews['price'].head()"
   ]
  },
  {
   "cell_type": "code",
   "execution_count": 197,
   "id": "1c39f323-3701-45ef-a5df-05ba5cc2a1c3",
   "metadata": {},
   "outputs": [],
   "source": [
    "new_airbnb_reviews.price = new_airbnb_reviews.price.replace('[\\$,]', '', regex=True).astype(float)"
   ]
  },
  {
   "cell_type": "markdown",
   "id": "d09a9bb8-cd14-44a0-8089-b6ae5d27b59b",
   "metadata": {
    "tags": []
   },
   "source": [
    "### Plotting the Review score rating and Price using Matplotlib"
   ]
  },
  {
   "cell_type": "code",
   "execution_count": 198,
   "id": "76487ead-c514-4fa4-a8e8-94795220cd8f",
   "metadata": {},
   "outputs": [
    {
     "data": {
      "image/png": "[encoded data removed]",
      "text/plain": [
       "<Figure size 432x288 with 1 Axes>"
      ]
     },
     "metadata": {
      "needs_background": "light"
     },
     "output_type": "display_data"
    }
   ],
   "source": [
    "import matplotlib.pyplot as plt\n",
    "\n",
    "plt.scatter(new_airbnb_reviews['price'],new_airbnb_reviews['review_scores_rating'])\n",
    "plt.xlabel('price $')\n",
    "plt.ylabel('review score')\n",
    "plt.title('Scatter plot of review rating vs. price')\n",
    "plt.show()"
   ]
  },
  {
   "cell_type": "markdown",
   "id": "cbf7a435-4978-408c-bec2-8a1f1fb941ba",
   "metadata": {
    "tags": []
   },
   "source": [
    "## Reviews III: Price vs Reviews_per_month Scatter Graph"
   ]
  },
  {
   "cell_type": "code",
   "execution_count": 202,
   "id": "72e6c3df-53f1-4b74-932b-20892cfaeae5",
   "metadata": {},
   "outputs": [],
   "source": [
    "import seaborn as sns # ploting the data"
   ]
  },
  {
   "cell_type": "code",
   "execution_count": 206,
   "id": "7b88ac81-1baa-48ab-af5d-7242e282068a",
   "metadata": {},
   "outputs": [
    {
     "data": {
      "text/plain": [
       "<matplotlib.pyplot._IoffContext at 0x7f7911422a60>"
      ]
     },
     "execution_count": 206,
     "metadata": {},
     "output_type": "execute_result"
    },
    {
     "data": {
      "image/png": "[encoded data removed]",
      "text/plain": [
       "<Figure size 576x432 with 1 Axes>"
      ]
     },
     "metadata": {
      "needs_background": "light"
     },
     "output_type": "display_data"
    },
    {
     "data": {
      "image/png": "[encoded data removed]",
      "text/plain": [
       "<Figure size 576x432 with 1 Axes>"
      ]
     },
     "metadata": {
      "needs_background": "light"
     },
     "output_type": "display_data"
    }
   ],
   "source": [
    "sns.set_palette(\"muted\")\n",
    "x = 'reviews_per_month'\n",
    "y = 'price'\n",
    "\n",
    "title = 'Price relation to number of review per month for Properties under £175'\n",
    "data_filtered = new_airbnb_reviews.loc[(new_airbnb_reviews['price'] < 175) & (new_airbnb_reviews['reviews_per_month'] < 30)]\n",
    "f, ax = plt.subplots(figsize=(8, 6))\n",
    "sns.scatterplot(x=x, y=y, data=data_filtered)\n",
    "plt.title(title)\n",
    "plt.ioff()\n",
    "\n",
    "title = 'Price relation to number of review per month for Properties more than £175'\n",
    "data_filtered = new_airbnb_reviews.loc[new_airbnb_reviews['price'] > 175]\n",
    "f, ax = plt.subplots(figsize=(8, 6))\n",
    "sns.scatterplot(x=x, y=y, data=data_filtered)\n",
    "plt.title(title)\n",
    "plt.ioff()"
   ]
  },
  {
   "cell_type": "markdown",
   "id": "a655d089-d2c5-4e03-a297-cb73b4916eba",
   "metadata": {},
   "source": [
    "## Amenities: The Top 20 Amenities "
   ]
  },
  {
   "cell_type": "markdown",
   "id": "16345f97-7546-441d-bad9-17613ef54d54",
   "metadata": {},
   "source": [
    "### Preprocessing the Amenities column & Plotting of the amenities using Matplotlib"
   ]
  },
  {
   "cell_type": "code",
   "execution_count": 199,
   "id": "65484e51-143b-4e1e-965a-dd8214a04ad1",
   "metadata": {},
   "outputs": [],
   "source": [
    "new_airbnb_reviews = new_airbnb_reviews[new_airbnb_reviews['amenities'].notnull()] #AttributeError: 'float' object has no attribute 'split'"
   ]
  },
  {
   "cell_type": "code",
   "execution_count": 200,
   "id": "10d1c5f9-93b8-482d-b438-cfe64671b001",
   "metadata": {
    "tags": []
   },
   "outputs": [
    {
     "data": {
      "image/png": "[encoded data removed]",
      "text/plain": [
       "<Figure size 432x288 with 1 Axes>"
      ]
     },
     "metadata": {
      "needs_background": "light"
     },
     "output_type": "display_data"
    }
   ],
   "source": [
    "# Create an array of all unique amenities across all rows by splitting it\n",
    "# measure the top 20 amenities\n",
    "pd.Series(np.concatenate(new_airbnb_reviews['amenities'].map(lambda amns: amns.split(\",\"))))\\\n",
    "    .value_counts().head(20)\\\n",
    "    .plot(kind='bar')\n",
    "ax = plt.gca()\n",
    "ax.set_xticklabels(ax.get_xticklabels(), rotation=45, ha='right', fontsize=12)\n",
    "plt.show()"
   ]
  }
 ],
 "metadata": {
  "kernelspec": {
   "display_name": "Python 3 (ipykernel)",
   "language": "python",
   "name": "python3"
  },
  "language_info": {
   "codemirror_mode": {
    "name": "ipython",
    "version": 3
   },
   "file_extension": ".py",
   "mimetype": "text/x-python",
   "name": "python",
   "nbconvert_exporter": "python",
   "pygments_lexer": "ipython3",
   "version": "3.9.7"
  }
 },
 "nbformat": 4,
 "nbformat_minor": 5
}
